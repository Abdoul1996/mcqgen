{
 "cells": [
  {
   "cell_type": "code",
   "execution_count": 1,
   "id": "a14738b7",
   "metadata": {},
   "outputs": [],
   "source": [
    "\n",
    "import langchain \n",
    "import os \n",
    "import openai\n",
    "\n",
    "from langchain.llms import OpenAI\n",
    "\n",
    "from langchain.prompts import PromptTemplate\n",
    "from dotenv import load_dotenv"
   ]
  },
  {
   "cell_type": "code",
   "execution_count": 2,
   "id": "cc1deebb",
   "metadata": {},
   "outputs": [],
   "source": [
    "load_dotenv()\n",
    "\n",
    "mykey = os.getenv('mykey_api')"
   ]
  },
  {
   "cell_type": "code",
   "execution_count": 3,
   "id": "6835443b",
   "metadata": {},
   "outputs": [
    {
     "name": "stderr",
     "output_type": "stream",
     "text": [
      "/Users/abdoulabdillahi/Desktop/genai/env/lib/python3.10/site-packages/langchain_core/_api/deprecation.py:119: LangChainDeprecationWarning: The class `OpenAI` was deprecated in LangChain 0.0.10 and will be removed in 0.3.0. An updated version of the class exists in the langchain-openai package and should be used instead. To use it run `pip install -U langchain-openai` and import as `from langchain_openai import OpenAI`.\n",
      "  warn_deprecated(\n"
     ]
    }
   ],
   "source": [
    "client = OpenAI(openai_api_key=mykey)"
   ]
  },
  {
   "cell_type": "markdown",
   "id": "6d493749",
   "metadata": {},
   "source": [
    "## Zero Shot Prompting "
   ]
  },
  {
   "cell_type": "code",
   "execution_count": 5,
   "id": "a62ffe36",
   "metadata": {},
   "outputs": [],
   "source": [
    "prompt=\"can you tell me where Djibouti is located?\""
   ]
  },
  {
   "cell_type": "code",
   "execution_count": 6,
   "id": "19e09ed2",
   "metadata": {},
   "outputs": [
    {
     "name": "stderr",
     "output_type": "stream",
     "text": [
      "/Users/abdoulabdillahi/miniconda3/envs/testingopenai/lib/python3.10/site-packages/langchain_core/_api/deprecation.py:119: LangChainDeprecationWarning: The method `BaseLLM.predict` was deprecated in langchain-core 0.1.7 and will be removed in 0.3.0. Use invoke instead.\n",
      "  warn_deprecated(\n"
     ]
    },
    {
     "name": "stdout",
     "output_type": "stream",
     "text": [
      "Djibouti is located in the Horn of Africa, bordered by Eritrea to the north, Ethiopia to the west and south, and Somalia to the southeast. It is also located on the Gulf of Aden and the Bab-el-Mandeb Strait, which connects the Red Sea to the Indian Ocean.\n"
     ]
    }
   ],
   "source": [
    "print(client.predict(prompt).strip())"
   ]
  },
  {
   "cell_type": "code",
   "execution_count": 7,
   "id": "6a44347b",
   "metadata": {},
   "outputs": [],
   "source": [
    "prompt2= \"how to be the best AI engineer?\""
   ]
  },
  {
   "cell_type": "code",
   "execution_count": 8,
   "id": "73cd6a37",
   "metadata": {},
   "outputs": [
    {
     "name": "stdout",
     "output_type": "stream",
     "text": [
      "\n",
      "\n",
      "1. Develop a Strong Foundation in Computer Science: As an AI engineer, you should have a strong foundation in computer science, including programming languages, algorithms, data structures, and computer architecture. This will help you to understand the underlying principles of AI and apply them effectively.\n",
      "\n",
      "2. Learn Machine Learning and Deep Learning: Machine learning and deep learning are the core components of AI. You should have a good understanding of these concepts and be proficient in using popular machine learning and deep learning libraries and frameworks like TensorFlow, PyTorch, and scikit-learn.\n",
      "\n",
      "3. Understand Statistics and Probability: AI involves working with large datasets and making predictions based on data. A solid understanding of statistics and probability is essential to analyze and interpret data accurately.\n",
      "\n",
      "4. Familiarize Yourself with AI Tools and Technologies: Keep yourself updated with the latest AI tools and technologies such as natural language processing, computer vision, and robotics. This will help you to stay ahead of the curve and implement advanced AI solutions.\n",
      "\n",
      "5. Practice on Real-World Projects: The best way to learn and improve your skills as an AI engineer is by working on real-world projects. Look for opportunities to work on AI projects, either as part of your job or by participating in hackathons and competitions.\n",
      "\n",
      "6. Collabor\n"
     ]
    }
   ],
   "source": [
    "print(client.predict(prompt2))"
   ]
  },
  {
   "cell_type": "markdown",
   "id": "b80f5bd6",
   "metadata": {},
   "source": [
    "## 1. Prompt Templates: "
   ]
  },
  {
   "cell_type": "code",
   "execution_count": 9,
   "id": "ee74dde1",
   "metadata": {},
   "outputs": [],
   "source": [
    "from langchain.prompts import PromptTemplate"
   ]
  },
  {
   "cell_type": "code",
   "execution_count": 10,
   "id": "e0f7f8b0",
   "metadata": {},
   "outputs": [],
   "source": [
    "# Create a prompt \n",
    "prompt_template_name = PromptTemplate(\n",
    "    input_variables= [\"country\"],\n",
    "    template = \"Can you tell me the capital of {country}?\"\n",
    ")"
   ]
  },
  {
   "cell_type": "code",
   "execution_count": 11,
   "id": "4dd5c28b",
   "metadata": {},
   "outputs": [],
   "source": [
    "prompt1 = prompt_template_name.format(country=\"Djibouti\")"
   ]
  },
  {
   "cell_type": "code",
   "execution_count": 12,
   "id": "9187ea34",
   "metadata": {},
   "outputs": [],
   "source": [
    "prompt2 = prompt_template_name.format(country=\"Ethiopia\")"
   ]
  },
  {
   "cell_type": "code",
   "execution_count": 13,
   "id": "38bb97ab",
   "metadata": {},
   "outputs": [
    {
     "data": {
      "text/plain": [
       "'The capital of Djibouti is Djibouti City.'"
      ]
     },
     "execution_count": 13,
     "metadata": {},
     "output_type": "execute_result"
    }
   ],
   "source": [
    "client.predict(prompt1).strip()"
   ]
  },
  {
   "cell_type": "code",
   "execution_count": 14,
   "id": "7ecdb55e",
   "metadata": {},
   "outputs": [
    {
     "data": {
      "text/plain": [
       "'The capital of Ethiopia is Addis Ababa.'"
      ]
     },
     "execution_count": 14,
     "metadata": {},
     "output_type": "execute_result"
    }
   ],
   "source": [
    "client.predict(prompt2).strip()"
   ]
  },
  {
   "cell_type": "code",
   "execution_count": 15,
   "id": "2e9c68a1",
   "metadata": {},
   "outputs": [],
   "source": [
    "prompt= PromptTemplate.from_template(\"What is a good name for a company that makes a {product}\")"
   ]
  },
  {
   "cell_type": "code",
   "execution_count": 16,
   "id": "7fba252e",
   "metadata": {},
   "outputs": [
    {
     "data": {
      "text/plain": [
       "PromptTemplate(input_variables=['product'], template='What is a good name for a company that makes a {product}')"
      ]
     },
     "execution_count": 16,
     "metadata": {},
     "output_type": "execute_result"
    }
   ],
   "source": [
    "prompt"
   ]
  },
  {
   "cell_type": "code",
   "execution_count": 17,
   "id": "e2966377",
   "metadata": {},
   "outputs": [],
   "source": [
    "prompt3 = prompt.format(product=\"toys\")"
   ]
  },
  {
   "cell_type": "code",
   "execution_count": 18,
   "id": "877eefa3",
   "metadata": {},
   "outputs": [
    {
     "data": {
      "text/plain": [
       "'What is a good name for a company that makes a toys'"
      ]
     },
     "execution_count": 18,
     "metadata": {},
     "output_type": "execute_result"
    }
   ],
   "source": [
    "prompt3"
   ]
  },
  {
   "cell_type": "markdown",
   "id": "53b4a552",
   "metadata": {},
   "source": [
    "## 2. Agent \n",
    " . We use agent in the langchain for calling any third party tool\n",
    " . Agent collect information \n",
    " . Agent is to use a language model to choose a sequence of actions to take action \n",
    " . Agents decide wich action to take and in which order"
   ]
  },
  {
   "cell_type": "code",
   "execution_count": null,
   "id": "5d1195a1",
   "metadata": {},
   "outputs": [],
   "source": [
    "from langchain.agents import AgentType, load_tools, initialize_agent\n",
    "from langchain.llms import OpenAI"
   ]
  },
  {
   "cell_type": "code",
   "execution_count": 19,
   "id": "2759ab57",
   "metadata": {},
   "outputs": [],
   "source": [
    "prompt4 = \"Can you tell me who won recent cricket world cup?\""
   ]
  },
  {
   "cell_type": "code",
   "execution_count": 20,
   "id": "f340d7f8",
   "metadata": {},
   "outputs": [
    {
     "data": {
      "text/plain": [
       "'The most recent Cricket World Cup was the 2019 edition, which was won by England. They defeated New Zealand in a thrilling final that ended in a tie, but England was declared the winner based on boundary countback rule.'"
      ]
     },
     "execution_count": 20,
     "metadata": {},
     "output_type": "execute_result"
    }
   ],
   "source": [
    "client.predict(prompt4).strip()"
   ]
  },
  {
   "cell_type": "markdown",
   "id": "1560e578",
   "metadata": {},
   "source": [
    "### for extracting a real time info I am goint to use serp api \n",
    "### Now by using this serp api i will call google-search-engine \n",
    "### and i will extract the informtation in a real time. "
   ]
  },
  {
   "cell_type": "code",
   "execution_count": 21,
   "id": "efeb235f",
   "metadata": {},
   "outputs": [],
   "source": [
    "serpapi_key = \"098cf9454945f0a99e998cd0864007cb69036638700619f0a9f5cac6c7ab36c5\""
   ]
  },
  {
   "cell_type": "code",
   "execution_count": 23,
   "id": "b0da316f",
   "metadata": {},
   "outputs": [],
   "source": [
    "# llm Model from OpenAI API  \n",
    "client = OpenAI(openai_api_key=mykey)"
   ]
  },
  {
   "cell_type": "code",
   "execution_count": 24,
   "id": "a51a1b54",
   "metadata": {},
   "outputs": [],
   "source": [
    "# Create tool \n",
    "tool = load_tools([\"serpapi\"], serpapi_api_key=serpapi_key, llm=client)"
   ]
  },
  {
   "cell_type": "code",
   "execution_count": 25,
   "id": "02976046",
   "metadata": {},
   "outputs": [
    {
     "name": "stderr",
     "output_type": "stream",
     "text": [
      "/Users/abdoulabdillahi/miniconda3/envs/testingopenai/lib/python3.10/site-packages/langchain_core/_api/deprecation.py:119: LangChainDeprecationWarning: The function `initialize_agent` was deprecated in LangChain 0.1.0 and will be removed in 0.3.0. Use Use new agent constructor methods like create_react_agent, create_json_agent, create_structured_chat_agent, etc. instead.\n",
      "  warn_deprecated(\n"
     ]
    }
   ],
   "source": [
    "agent = initialize_agent(tool, client, agent=AgentType.ZERO_SHOT_REACT_DESCRIPTION, verbose=True)"
   ]
  },
  {
   "cell_type": "code",
   "execution_count": 26,
   "id": "02c66e36",
   "metadata": {},
   "outputs": [
    {
     "name": "stderr",
     "output_type": "stream",
     "text": [
      "/Users/abdoulabdillahi/miniconda3/envs/testingopenai/lib/python3.10/site-packages/langchain_core/_api/deprecation.py:119: LangChainDeprecationWarning: The method `Chain.run` was deprecated in langchain 0.1.0 and will be removed in 0.3.0. Use invoke instead.\n",
      "  warn_deprecated(\n"
     ]
    },
    {
     "name": "stdout",
     "output_type": "stream",
     "text": [
      "\n",
      "\n",
      "\u001b[1m> Entering new AgentExecutor chain...\u001b[0m\n",
      "\u001b[32;1m\u001b[1;3m It's possible that this person is a San Francisco resident or a public figure with that name.\n",
      "Action: Search\n",
      "Action Input: Abdoulfatah Abdillahi san francisco\u001b[0m\n",
      "Observation: \u001b[36;1m\u001b[1;3m{'type': 'organic_result'}\u001b[0m\n",
      "Thought:\u001b[32;1m\u001b[1;3m This search result appears to be a list of people with that name who have social media profiles or news articles about them.\n",
      "Action: Search\n",
      "Action Input: Abdoulfatah Abdillahi san francisco social media\u001b[0m\n",
      "Observation: \u001b[36;1m\u001b[1;3m{'type': 'organic_result'}\u001b[0m\n",
      "Thought:\u001b[32;1m\u001b[1;3m This search result includes a LinkedIn profile for an Abdoulfatah Abdillahi who is a San Francisco resident and works at a tech company.\n",
      "Action: Search\n",
      "Action Input: Abdoulfatah Abdillahi san francisco linkedin\u001b[0m\n",
      "Observation: \u001b[36;1m\u001b[1;3m{'type': 'organic_result'}\u001b[0m\n",
      "Thought:\u001b[32;1m\u001b[1;3m This person appears to be a software engineer based in San Francisco.\n",
      "Action: Search\n",
      "Action Input: Abdoulfatah Abdillahi san francisco software engineer\u001b[0m\n",
      "Observation: \u001b[36;1m\u001b[1;3m{'type': 'organic_result'}\u001b[0m\n",
      "Thought:\u001b[32;1m\u001b[1;3m I now know the final answer\n",
      "Final Answer: Abdoulfatah Abdillahi is a software engineer living in San Francisco.\u001b[0m\n",
      "\n",
      "\u001b[1m> Finished chain.\u001b[0m\n"
     ]
    },
    {
     "data": {
      "text/plain": [
       "'Abdoulfatah Abdillahi is a software engineer living in San Francisco.'"
      ]
     },
     "execution_count": 26,
     "metadata": {},
     "output_type": "execute_result"
    }
   ],
   "source": [
    "agent.run(\"Who is Abdoulfatah Abdillahi san francisco?\")"
   ]
  },
  {
   "cell_type": "code",
   "execution_count": 27,
   "id": "5e299e21",
   "metadata": {},
   "outputs": [
    {
     "name": "stdout",
     "output_type": "stream",
     "text": [
      "\n",
      "\n",
      "\u001b[1m> Entering new AgentExecutor chain...\u001b[0m\n",
      "\u001b[32;1m\u001b[1;3m I'm not sure what the latest fight at UCF is, but I can use the search engine to find out.\n",
      "Action: Search\n",
      "Action Input: \"Latest fight UCF\"\u001b[0m\n",
      "Observation: \u001b[36;1m\u001b[1;3m['Fight Title, Location. Aug. 27. 2005. UCF - Night of Champions ... Latest News. ALLUFCPFLONE · ONE Championship ... + MORE UFC FIGHTS+ MORE PFL FIGHTS+ MORE ONE ...', 'Get key information on upcoming UFC, PFL and Bellator fights on ESPN. Read on for fighter profiles, main card, and prelims fights details.', 'Comments ; Denver Scott vs. Jamie Thomas | UCF Fight Night 82: Prelim · New 17 views ; UAB Players Reaction To The Decision to Cut Football-THE ...', 'Latest News. UFC Fight Results. All Results Bellator PFL Invicta FC ONE FC Schedules · UFC Vegas 92: Barboza vs. Murphy. May 18, 2024. Main card (ESPN+ at 7 ...', \"Tristan Pagan (10) vs. Julien Kendall | UCF Fight Night 81: Main Event (Tristan Pagan's Final Fight). UCF - Undisputed Combat Federation New 68 ...\", 'The official home of Ultimate Fighting Championship. Enjoy the latest breaking news, fights, behind-the-scenes access and more.', \"Julien Kendall | UCF Fight Night 81: Main Event (Tristan Pagan's Final Fight). UCF - Undisputed Combat Federation New 58 views · 14:19.\", 'Dustin Poirier Full Fight Marathon - UFC 302 · UFC 302: Makhachev vs Poirier - June 1, 2024 · UFC Vegas 92: Barboza vs Murphy · UFC St. Louis: Lewis vs Nascimento.', 'Malachi Luiz vs. Kristian Obasi | UCF Fight Night 85: Co-Main Event · Comments.', \"Tristan Pagan (10) vs. Julien Kendall | UCF Fight Night 81: Main Event (Tristan Pagan's Final Fight). UCF - Undisputed Combat Federation New 68 ...\"]\u001b[0m\n",
      "Thought:\u001b[32;1m\u001b[1;3m I have multiple results, so I should look through them to find the latest fight at UCF.\n",
      "Action: Search\n",
      "Action Input: \"Latest fight UCF\"\u001b[0m\n",
      "Observation: \u001b[36;1m\u001b[1;3m['Fight Title, Location. Aug. 27. 2005. UCF - Night of Champions ... Latest News. ALLUFCPFLONE · ONE Championship ... + MORE UFC FIGHTS+ MORE PFL FIGHTS+ MORE ONE ...', 'Get key information on upcoming UFC, PFL and Bellator fights on ESPN. Read on for fighter profiles, main card, and prelims fights details.', 'Comments ; Denver Scott vs. Jamie Thomas | UCF Fight Night 82: Prelim · New 17 views ; UAB Players Reaction To The Decision to Cut Football-THE ...', 'Latest News. UFC Fight Results. All Results Bellator PFL Invicta FC ONE FC Schedules · UFC Vegas 92: Barboza vs. Murphy. May 18, 2024. Main card (ESPN+ at 7 ...', \"Tristan Pagan (10) vs. Julien Kendall | UCF Fight Night 81: Main Event (Tristan Pagan's Final Fight). UCF - Undisputed Combat Federation New 68 ...\", 'The official home of Ultimate Fighting Championship. Enjoy the latest breaking news, fights, behind-the-scenes access and more.', \"Julien Kendall | UCF Fight Night 81: Main Event (Tristan Pagan's Final Fight). UCF - Undisputed Combat Federation New 58 views · 14:19.\", 'Dustin Poirier Full Fight Marathon - UFC 302 · UFC 302: Makhachev vs Poirier - June 1, 2024 · UFC Vegas 92: Barboza vs Murphy · UFC St. Louis: Lewis vs Nascimento.', 'Malachi Luiz vs. Kristian Obasi | UCF Fight Night 85: Co-Main Event · Comments.', \"Tristan Pagan (10) vs. Julien Kendall | UCF Fight Night 81: Main Event (Tristan Pagan's Final Fight). UCF - Undisputed Combat Federation New 68 ...\"]\u001b[0m\n",
      "Thought:\u001b[32;1m\u001b[1;3m I should look for the most recent date in the results to find the latest fight at UCF.\n",
      "Action: Search\n",
      "Action Input: \"Latest fight UCF date\"\u001b[0m\n",
      "Observation: \u001b[36;1m\u001b[1;3m['MMA Schedule - 2024 ; Apr 27, UFC Fight Night: Nicolau vs. Perez. UFC APEX, Las Vegas, NV ; Apr 26, Lux Fight League: Lux 42 ; Apr 26, LFA 182: McKee vs. Hernandez.', 'Date, Fight Title, Location ; Aug. 27. 2005. UCF - Night of Champions, country Medford, Oregon ; Oct. 09. 2004. UCF - Battle at the Border 2, country Medford, ...', 'The UFC has announced a welterweight co-main event between Joaquin Buckley and Nursulton Ruziboev for a UFC Fight Night on May 11 in St. Louis.', \"Don't Miss UFC 294: Makhachev vs Volkanovski 2 for the UFC Lightweight Title, Live From Etihad Arena In Abu Dhabi On Saturday October 21, 2023.\", 'Today, Friday, May 24, 2024 ; Withdrawal Deadline. (Session A). registration. Friday, June 7, 2024 11:59 PM ; Last Day to Reinstate Drop for Nonpayment Classes ...', \"Don't Miss A Moment Of UFC 300: Pereira vs Hill, Live From T-Mobile Arena In Las Vegas, Nevada On April 13, 2024.\", 'UCF features world-class athletic programs and facilities that are home to one of the biggest and most energetic fan bases in the country, Knight Nation.', 'Opens in a new window Game Notes Opens in a new ... Date, Location, Time/Results, Links. Mon, Nov6. UCF 520x520 ... vs. west-virginia. Suits vs. SneakersWest ...', 'INVEST IN THE FUTURE OF UCF ; 2024 Commencement Dates ; Spring 2024. May 3-4 ; Summer 2024. August 2-3 ; Fall 2024. December 13-14.', 'Date: 5/23/2024; Start: 9:15 pm; Time: 3:43; Site: Arlington, Texas (Globe Life Field); Weather: 74 degrees, indoors; Notes: Phillips, B. faced 3 batters in ...']\u001b[0m\n",
      "Thought:\u001b[32;1m\u001b[1;3m I now know the date of the latest fight at UCF.\n",
      "Final Answer: The latest fight at UCF was on May 11, 2024.\u001b[0m\n",
      "\n",
      "\u001b[1m> Finished chain.\u001b[0m\n"
     ]
    },
    {
     "data": {
      "text/plain": [
       "'The latest fight at UCF was on May 11, 2024.'"
      ]
     },
     "execution_count": 27,
     "metadata": {},
     "output_type": "execute_result"
    }
   ],
   "source": [
    "agent.run(\"Can you tell me the latest fight UCF?\")"
   ]
  },
  {
   "cell_type": "code",
   "execution_count": 28,
   "id": "1e480dee",
   "metadata": {},
   "outputs": [],
   "source": [
    "# First step is to load the tool\n",
    "tool = load_tools([\"wikipedia\"],llm=client)"
   ]
  },
  {
   "cell_type": "code",
   "execution_count": 29,
   "id": "4008c277",
   "metadata": {},
   "outputs": [],
   "source": [
    "agent = initialize_agent(tool, client, agent=AgentType.ZERO_SHOT_REACT_DESCRIPTION, verbose=True)"
   ]
  },
  {
   "cell_type": "code",
   "execution_count": 30,
   "id": "a8b28bfd",
   "metadata": {},
   "outputs": [
    {
     "name": "stdout",
     "output_type": "stream",
     "text": [
      "\n",
      "\n",
      "\u001b[1m> Entering new AgentExecutor chain...\u001b[0m\n",
      "\u001b[32;1m\u001b[1;3m The question is about the cricket world cup, so I should use Wikipedia to search for information about the cricket world cup.\n",
      "Action: [wikipedia]\n",
      "Action Input: \"Cricket World Cup\"\u001b[0m\n",
      "Observation: [wikipedia] is not a valid tool, try one of [wikipedia].\n",
      "Thought:\u001b[32;1m\u001b[1;3m I should use the tool \"wikipedia\".\n",
      "Action: [wikipedia]\n",
      "Action Input: \"Cricket World Cup\"\u001b[0m\n",
      "Observation: [wikipedia] is not a valid tool, try one of [wikipedia].\n",
      "Thought:\u001b[32;1m\u001b[1;3m I should use the tool \"wikipedia\".\n",
      "Action: [wikipedia]\n",
      "Action Input: \"2019 Cricket World Cup\"\u001b[0m\n",
      "Observation: [wikipedia] is not a valid tool, try one of [wikipedia].\n",
      "Thought:\u001b[32;1m\u001b[1;3m I should use the tool \"wikipedia\".\n",
      "Action: [wikipedia]\n",
      "Action Input: \"2019 Cricket World Cup\"\u001b[0m\n",
      "Observation: [wikipedia] is not a valid tool, try one of [wikipedia].\n",
      "Thought:\u001b[32;1m\u001b[1;3m I should use the tool \"wikipedia\".\n",
      "Action: [wikipedia]\n",
      "Action Input: \"2019 ICC Cricket World Cup\"\u001b[0m\n",
      "Observation: [wikipedia] is not a valid tool, try one of [wikipedia].\n",
      "Thought:\u001b[32;1m\u001b[1;3m I should use the tool \"wikipedia\".\n",
      "Action: [wikipedia]\n",
      "Action Input: \"2019 ICC Cricket World Cup\"\u001b[0m\n",
      "Observation: [wikipedia] is not a valid tool, try one of [wikipedia].\n",
      "Thought:\u001b[32;1m\u001b[1;3m I should use the tool \"wikipedia\".\n",
      "Action: [wikipedia]\n",
      "Action Input: \"2019 ICC Cricket World Cup\"\u001b[0m\n",
      "Observation: [wikipedia] is not a valid tool, try one of [wikipedia].\n",
      "Thought:\u001b[32;1m\u001b[1;3m I should use the tool \"wikipedia\".\n",
      "Action: [wikipedia]\n",
      "Action Input: \"2019 ICC Cricket World Cup\"\u001b[0m\n",
      "Observation: [wikipedia] is not a valid tool, try one of [wikipedia].\n",
      "Thought:\u001b[32;1m\u001b[1;3m I should use the tool \"wikipedia\".\n",
      "Action: [wikipedia]\n",
      "Action Input: \"2019 ICC Cricket World Cup\"\u001b[0m\n",
      "Observation: [wikipedia] is not a valid tool, try one of [wikipedia].\n",
      "Thought:\u001b[32;1m\u001b[1;3m I should use the tool \"wikipedia\".\n",
      "Action: [wikipedia]\n",
      "Action Input: \"2019 ICC Cricket World Cup\"\u001b[0m\n",
      "Observation: [wikipedia] is not a valid tool, try one of [wikipedia].\n",
      "Thought:\u001b[32;1m\u001b[1;3m I should use the tool \"wikipedia\".\n",
      "Action: [wikipedia]\n",
      "Action Input: \"2019 ICC Cricket World Cup\"\u001b[0m\n",
      "Observation: [wikipedia] is not a valid tool, try one of [wikipedia].\n",
      "Thought:\u001b[32;1m\u001b[1;3m I should use the tool \"wikipedia\".\n",
      "Action: [wikipedia]\n",
      "Action Input: \"2019 ICC Cricket World Cup\"\u001b[0m\n",
      "Observation: [wikipedia] is not a valid tool, try one of [wikipedia].\n",
      "Thought:\u001b[32;1m\u001b[1;3m I should use the tool \"wikipedia\".\n",
      "Action: [wikipedia]\n",
      "Action Input: \"2019 ICC Cricket World Cup\"\u001b[0m\n",
      "Observation: [wikipedia] is not a valid tool, try one of [wikipedia].\n",
      "Thought:\u001b[32;1m\u001b[1;3m I should use the tool \"wikipedia\".\n",
      "Action: [wikipedia]\n",
      "Action Input: \"2019 ICC Cricket World Cup Final\"\u001b[0m\n",
      "Observation: [wikipedia] is not a valid tool, try one of [wikipedia].\n",
      "Thought:\u001b[32;1m\u001b[1;3m I should use the tool \"wikipedia\".\n",
      "Action: [wikipedia]\n",
      "Action Input: \"2019 ICC Cricket World Cup Final\"\u001b[0m\n",
      "Observation: [wikipedia] is not a valid tool, try one of [wikipedia].\n",
      "Thought:\u001b[32;1m\u001b[1;3m\u001b[0m\n",
      "\n",
      "\u001b[1m> Finished chain.\u001b[0m\n"
     ]
    },
    {
     "data": {
      "text/plain": [
       "'Agent stopped due to iteration limit or time limit.'"
      ]
     },
     "execution_count": 30,
     "metadata": {},
     "output_type": "execute_result"
    }
   ],
   "source": [
    "agent.run(\"Can you tell me about this recent cricket world cup\")"
   ]
  },
  {
   "cell_type": "code",
   "execution_count": 31,
   "id": "9a9ca5db",
   "metadata": {},
   "outputs": [
    {
     "name": "stdout",
     "output_type": "stream",
     "text": [
      "\n",
      "\n",
      "\u001b[1m> Entering new AgentExecutor chain...\u001b[0m\n",
      "\u001b[32;1m\u001b[1;3m I am not sure of the current GDP of the USA, but I know that I can use Wikipedia to find out.\n",
      "Action: wikipedia\n",
      "Action Input: USA GDP\u001b[0m\n",
      "Observation: \u001b[36;1m\u001b[1;3mPage: Economy of the United States\n",
      "Summary: The United States is a highly developed/advanced mixed economy. It is the world's largest economy by nominal GDP; it is also the second largest by purchasing power parity (PPP), behind China. It has the world's sixth highest per capita GDP (nominal) and the eighth highest per capita GDP (PPP) as of 2024. The U.S. accounted for 26% of the global economy in 2023 in nominal terms, and about 15.5% in PPP terms. The U.S. dollar is the currency of record most used in international transactions and is the world's reserve currency, backed by a large U.S. treasuries market, its role as the reference standard for the petrodollar system, and its linked eurodollar. Several countries use it as their official currency and in others it is the de facto currency. Since the end of World War II, the economy has achieved relatively steady growth, low unemployment and inflation, and rapid advances in technology. \n",
      "The American economy is fueled by high productivity, well developed transportation infrastructure, and extensive natural resources. Americans have the sixth highest average household and employee income among OECD member states. In 2021, they had the highest median household income. The U.S. has one of the world's highest income inequalities among the developed countries. The largest U.S. trading partners are Canada, Mexico, China, Japan, Germany, South Korea, the United Kingdom, Taiwan, India, and Vietnam. The U.S. is the world's largest importer and second largest exporter. It has free trade agreements with several countries, including Canada and Mexico (through the USMCA), Australia, South Korea, Israel, and several others that are in effect or under negotiation. U.S. has a highly flexible labor market, where the industry adheres to a hire-and-fire policy, and job security is relatively low. Among OECD nations, the U.S. has a highly efficient and strong social security system; social expenditure stood at roughly 30% of GDP.  \n",
      "By 1890, the United States had overtaken the British Empire as the world's most productive economy. It is the world's largest producer of petroleum and natural gas. In 2016, it was the world's largest trading country and second largest manufacturer, with American manufacturing making up a fifth of the global total. The U.S. not only has the largest internal market for goods, but also dominates the services trade. Total U.S. trade was $4.2 trillion in 2018. Of the world's 500 largest companies, 121 are headquartered in the U.S. The U.S. has the world's highest number of billionaires, with total wealth of $3.0 trillion. U.S. commercial banks had $22.9 trillion in assets in December 2022. U.S. global assets under management had more than $30 trillion in assets. During the Great Recession of 2008, the U.S. economy suffered a significant decline. The American Reinvestment and Recovery Act was enacted by the United States Congress, and in the ensuing years the U.S. experienced the longest economic expansion on record by July 2019.\n",
      "The New York Stock Exchange and Nasdaq are the world's largest stock exchanges by market capitalization and trade volume. The U.S. has the world's largest gold reserve, with over 8,000 tonnes of gold. In 2014, the U.S. economy was ranked first in international ranking on venture capital and global research and development funding. The U.S. spends around 3.46% of GDP on cutting-edge research and development across various sectors of the economy. The U.S. has produced the world's highest number of Nobel laureates in the economics field. It is also the world's fourth largest high-technology exporter. The U.S. ranks second in the world by number of patent applications. Consumer spending comprised 68% of the U.S. economy in 2022, while its labor share of income was 44% in 2021. The U.S. has the world's largest consumer market. The nation's labor market has attracted immigrants from all over the world and its net migration rate is among the highest in the \u001b[0m\n",
      "Thought:\u001b[32;1m\u001b[1;3m I now know the final answer.\n",
      "Final Answer: The current GDP of the USA is approximately $23.2 trillion.\u001b[0m\n",
      "\n",
      "\u001b[1m> Finished chain.\u001b[0m\n"
     ]
    },
    {
     "data": {
      "text/plain": [
       "'The current GDP of the USA is approximately $23.2 trillion.'"
      ]
     },
     "execution_count": 31,
     "metadata": {},
     "output_type": "execute_result"
    }
   ],
   "source": [
    "agent.run(\"can you tell me what is current GDP of usa?\")"
   ]
  },
  {
   "cell_type": "markdown",
   "id": "dee77f23",
   "metadata": {},
   "source": [
    "## 3. Chain \n",
    "Def: Central to LangChain is a vital component known as LangChain chains, forming the core connection among one or several large language models (LLM).In certain sophisticated applications it becomes necessary to chain LLMs together -- either with each other or with other components.\n",
    ". Chain connects a several components\n",
    ". Chain is a collection of components "
   ]
  },
  {
   "cell_type": "code",
   "execution_count": null,
   "id": "a7edae47",
   "metadata": {},
   "outputs": [],
   "source": [
    "from langchain.prompts import PromptTemplate \n",
    "from langchain.chains import LLMChain"
   ]
  },
  {
   "cell_type": "code",
   "execution_count": 32,
   "id": "76d65f52",
   "metadata": {},
   "outputs": [
    {
     "data": {
      "text/plain": [
       "OpenAI(client=<openai.resources.completions.Completions object at 0x130223d60>, async_client=<openai.resources.completions.AsyncCompletions object at 0x13025d210>, openai_api_key='sk-proj-elsmClHDJQR97GVTxq9hT3BlbkFJ1iyKJ75bqUvqPxhJKiBJ', openai_proxy='')"
      ]
     },
     "execution_count": 32,
     "metadata": {},
     "output_type": "execute_result"
    }
   ],
   "source": [
    "client"
   ]
  },
  {
   "cell_type": "code",
   "execution_count": 34,
   "id": "c6fd4855",
   "metadata": {},
   "outputs": [],
   "source": [
    "prompt2 = PromptTemplate.from_template(\"What is a good name for a company that makes {product}\")"
   ]
  },
  {
   "cell_type": "code",
   "execution_count": 36,
   "id": "21b3adff",
   "metadata": {},
   "outputs": [
    {
     "name": "stderr",
     "output_type": "stream",
     "text": [
      "/Users/abdoulabdillahi/miniconda3/envs/testingopenai/lib/python3.10/site-packages/langchain_core/_api/deprecation.py:119: LangChainDeprecationWarning: The class `LLMChain` was deprecated in LangChain 0.1.17 and will be removed in 0.3.0. Use RunnableSequence, e.g., `prompt | llm` instead.\n",
      "  warn_deprecated(\n"
     ]
    }
   ],
   "source": [
    "# Connecting llm and prompt\n",
    "chain = LLMChain(llm=client, prompt=prompt2)"
   ]
  },
  {
   "cell_type": "code",
   "execution_count": 37,
   "id": "3615d53b",
   "metadata": {},
   "outputs": [
    {
     "data": {
      "text/plain": [
       "'syrup\\n\\n\"Sweet Date Co.\" or \"Date Delights\"'"
      ]
     },
     "execution_count": 37,
     "metadata": {},
     "output_type": "execute_result"
    }
   ],
   "source": [
    "chain.run(\"date\").strip()"
   ]
  },
  {
   "cell_type": "markdown",
   "id": "39717fdc",
   "metadata": {},
   "source": [
    "# Example 2 "
   ]
  },
  {
   "cell_type": "code",
   "execution_count": 38,
   "id": "726f1bf0",
   "metadata": {},
   "outputs": [],
   "source": [
    "prompt_template = PromptTemplate(\n",
    "input_variables=['Gym'],\n",
    "template=\"I want to open a {Gym} for my people, give me a name suggestions\"\n",
    ")"
   ]
  },
  {
   "cell_type": "code",
   "execution_count": 39,
   "id": "d3debfbe",
   "metadata": {},
   "outputs": [
    {
     "data": {
      "text/plain": [
       "PromptTemplate(input_variables=['Gym'], template='I want to open a {Gym} for my people, give me a name suggestions')"
      ]
     },
     "execution_count": 39,
     "metadata": {},
     "output_type": "execute_result"
    }
   ],
   "source": [
    "prompt_template"
   ]
  },
  {
   "cell_type": "code",
   "execution_count": 40,
   "id": "6d7bf677",
   "metadata": {},
   "outputs": [],
   "source": [
    "# make a chain \n",
    "chain2 = LLMChain(llm=client, prompt=prompt_template, verbose=True)"
   ]
  },
  {
   "cell_type": "code",
   "execution_count": 41,
   "id": "dd0bea6d",
   "metadata": {},
   "outputs": [
    {
     "name": "stdout",
     "output_type": "stream",
     "text": [
      "\n",
      "\n",
      "\u001b[1m> Entering new LLMChain chain...\u001b[0m\n",
      "Prompt after formatting:\n",
      "\u001b[32;1m\u001b[1;3mI want to open a Gym for my people, give me a name suggestions\u001b[0m\n",
      "\n",
      "\u001b[1m> Finished chain.\u001b[0m\n"
     ]
    },
    {
     "data": {
      "text/plain": [
       "'1. \"Fit Tribe Gym\"\\n2. \"Unity Fitness Club\"\\n3. \"Community Strength\"\\n4. \"Empower Fitness Center\"\\n5. \"People\\'s Gym\"\\n6. \"Vitality Village\"\\n7. \"Thrive Training Club\"\\n8. \"Neighborhood Nourish\"\\n9. \"Wellness Hub\"\\n10. \"Revive Fitness Collective\"'"
      ]
     },
     "execution_count": 41,
     "metadata": {},
     "output_type": "execute_result"
    }
   ],
   "source": [
    "chain2.run(\"Gym\").strip()"
   ]
  },
  {
   "cell_type": "markdown",
   "id": "42ad9b71",
   "metadata": {},
   "source": [
    "### If we want to combine multiple chain and set a sequence for that we use SimpleSequentialChain"
   ]
  },
  {
   "cell_type": "code",
   "execution_count": 55,
   "id": "c097f63e",
   "metadata": {},
   "outputs": [],
   "source": [
    "prompt_template_name = PromptTemplate(\n",
    "    input_variables =[\"startup_name\"], \n",
    "    template=\" I want to start a startup for {startup_name}, suggest me a good name for this\"\n",
    ")"
   ]
  },
  {
   "cell_type": "code",
   "execution_count": 60,
   "id": "26d2a6cb",
   "metadata": {},
   "outputs": [],
   "source": [
    "# First sequencial chain \n",
    "name_chain = LLMChain(llm=client, prompt=prompt_template_name, verbose=True)"
   ]
  },
  {
   "cell_type": "code",
   "execution_count": 61,
   "id": "2c824942",
   "metadata": {},
   "outputs": [],
   "source": [
    "prompt_template_items = PromptTemplate(\n",
    "    input_variables = [\"name\"],\n",
    "    template = \"Suggest some strategies for {name}\"\n",
    ")"
   ]
  },
  {
   "cell_type": "code",
   "execution_count": 62,
   "id": "ecc47123",
   "metadata": {},
   "outputs": [],
   "source": [
    "# Sequential 2 \n",
    "strategies_chain = LLMChain(llm=client, prompt=prompt_template_items)"
   ]
  },
  {
   "cell_type": "code",
   "execution_count": 63,
   "id": "32de6eaa",
   "metadata": {},
   "outputs": [],
   "source": [
    "# connecting two sequence \n",
    "from langchain.chains import SimpleSequentialChain"
   ]
  },
  {
   "cell_type": "code",
   "execution_count": 64,
   "id": "06ce0848",
   "metadata": {},
   "outputs": [],
   "source": [
    "chain=SimpleSequentialChain(chains=[name_chain, strategies_chain])"
   ]
  },
  {
   "cell_type": "code",
   "execution_count": 65,
   "id": "c77c84ab",
   "metadata": {},
   "outputs": [
    {
     "name": "stdout",
     "output_type": "stream",
     "text": [
      "\n",
      "\n",
      "\u001b[1m> Entering new LLMChain chain...\u001b[0m\n",
      "Prompt after formatting:\n",
      "\u001b[32;1m\u001b[1;3mI want to start a startup for AI, suggest me a good name for this\u001b[0m\n",
      "\n",
      "\u001b[1m> Finished chain.\u001b[0m\n",
      "\n",
      "\n",
      "1. Develop a targeted marketing campaign: Create a comprehensive marketing plan that targets potential customers and showcases the unique features and benefits of IntelliGenius or SmartMind Co. Utilize various marketing channels such as social media, email marketing, and digital ads to reach a wider audience.\n",
      "\n",
      "2. Partner with educational institutions: Collaborate with schools, colleges, or universities to promote IntelliGenius or SmartMind Co. as a valuable resource for students. Offer special discounts or packages for students and provide them with free trials to showcase the effectiveness of the product.\n",
      "\n",
      "3. Attend industry events and conferences: Attend relevant industry events and conferences to network with potential customers and demonstrate the product's capabilities. This can also help in building brand awareness and credibility.\n",
      "\n",
      "4. Offer free trials and demos: Offer potential customers a chance to try IntelliGenius or SmartMind Co. for free before committing to a purchase. This can help in building trust and showcasing the effectiveness of the product.\n",
      "\n",
      "5. Utilize influencer marketing: Partner with influential individuals or organizations in the education or technology industry to promote IntelliGenius or SmartMind Co. This can help in reaching a larger audience and building credibility for the product.\n",
      "\n",
      "6. Implement referral programs: Encourage satisfied customers to refer their friends and colleagues to IntelliGen\n"
     ]
    }
   ],
   "source": [
    "print(chain.run(\"AI\"))"
   ]
  },
  {
   "cell_type": "markdown",
   "id": "ff8ee1ad",
   "metadata": {},
   "source": [
    "## Now let's understand the sequential chain "
   ]
  },
  {
   "cell_type": "code",
   "execution_count": 75,
   "id": "57b83dd8",
   "metadata": {},
   "outputs": [],
   "source": [
    "prompt_template_name = PromptTemplate(\n",
    "    input_variables =[\"cuisine\"], \n",
    "    template=\"I want to open a restaurant for {cuisine}, suggest fency name for it\"\n",
    ")"
   ]
  },
  {
   "cell_type": "code",
   "execution_count": 76,
   "id": "4e07168d",
   "metadata": {},
   "outputs": [],
   "source": [
    "from langchain.chains import SequentialChain"
   ]
  },
  {
   "cell_type": "code",
   "execution_count": 77,
   "id": "4e9a5e62",
   "metadata": {},
   "outputs": [],
   "source": [
    "name_chaine= LLMChain(llm=client, prompt=prompt_template_name, output_key=\"restaurant_name\")"
   ]
  },
  {
   "cell_type": "code",
   "execution_count": 78,
   "id": "48d58ed4",
   "metadata": {},
   "outputs": [],
   "source": [
    "prompt_template_items = PromptTemplate(\n",
    "input_variables =[\"restaurant_name\"], \n",
    "    template=\"suggest some menu items for {restaurant_name}\"\n",
    ")"
   ]
  },
  {
   "cell_type": "code",
   "execution_count": 79,
   "id": "8c2ae4c9",
   "metadata": {},
   "outputs": [],
   "source": [
    "food_item_chain = LLMChain(llm=client, prompt=prompt_template_items, output_key=\"menu_items\")"
   ]
  },
  {
   "cell_type": "code",
   "execution_count": 80,
   "id": "41bb02ee",
   "metadata": {},
   "outputs": [],
   "source": [
    "chain = SequentialChain(chains=[name_chaine, food_item_chain],\n",
    "                       input_variables=[\"cuisine\"],\n",
    "                       output_variables=[\"restaurant_name\", \"menu_items\"]\n",
    "                            )"
   ]
  },
  {
   "cell_type": "code",
   "execution_count": 84,
   "id": "66ed29a7",
   "metadata": {},
   "outputs": [
    {
     "data": {
      "text/plain": [
       "{'cuisine': 'American',\n",
       " 'restaurant_name': \"\\n\\n1. Stateside Eats\\n2. The American Table\\n3. Liberty Bites\\n4. Uncle Sam's Kitchen\\n5. Stars & Stripes Diner\\n6. Red, White & Blue Bistro\\n7. All-American Grille\\n8. Yankee Fare\\n9. The Patriot's Pantry\\n10. Main Street Kitchen \\n11. The American Dream Cafe\\n12. Freedom Flavors\\n13. Americana Eatery\\n14. Stateside Kitchen\\n15. The Great American Restaurant\\n16. The Founding Fathers' Feast\\n17. The American Kitchen Co.\\n18. USA Bistro\\n19. Home of the Brave Diner\\n20. Stars & Stripes Tavern.\",\n",
       " 'menu_items': ' \\n\\n1. Stateside Eats:\\n- Classic American cheeseburger\\n- Fried chicken and waffles\\n- BBQ pulled pork sandwich\\n- New England clam chowder\\n- Philly cheesesteak\\n- California Cobb salad\\n- Southern-style biscuits and gravy\\n- Texas chili\\n- New York style pizza\\n- Chicago deep dish pizza\\n- Maine lobster roll\\n- Maryland crab cakes\\n- Hawaiian poke bowl\\n- Louisiana gumbo\\n- California sushi rolls\\n\\n2. The American Table:\\n- All-American breakfast platter with eggs, bacon, toast, and hash browns\\n- Applewood smoked ribs\\n- BBQ pulled pork mac and cheese\\n- Grilled cheese with tomato soup\\n- California avocado toast\\n- Texas-style brisket\\n- Philly cheesesteak sandwich\\n- Classic American meatloaf\\n- New York strip steak\\n- Cajun shrimp and grits\\n- Chicago-style hot dog\\n- Southern fried chicken\\n- New England lobster bisque\\n- California Cobb salad\\n- Hawaiian teriyaki chicken bowl\\n\\n3. Liberty Bites:\\n- Freedom fries with various dipping sauces\\n- Liberty burger with onion rings, bacon, and BBQ sauce\\n- Philly cheesesteak egg rolls\\n- Buffalo wings with blue cheese dressing\\n- Tex-M'}"
      ]
     },
     "execution_count": 84,
     "metadata": {},
     "output_type": "execute_result"
    }
   ],
   "source": [
    "chain({\"cuisine\":\"American\"})"
   ]
  },
  {
   "cell_type": "markdown",
   "id": "659b148a",
   "metadata": {},
   "source": [
    "# Document loaders"
   ]
  },
  {
   "cell_type": "code",
   "execution_count": 85,
   "id": "1959129a",
   "metadata": {},
   "outputs": [],
   "source": [
    "from langchain_community.document_loaders import PyPDFLoader"
   ]
  },
  {
   "cell_type": "code",
   "execution_count": 86,
   "id": "82234668",
   "metadata": {},
   "outputs": [],
   "source": [
    "loader = PyPDFLoader(\"/Users/abdoulabdillahi/Desktop/Appointment.pdf\")"
   ]
  },
  {
   "cell_type": "code",
   "execution_count": 87,
   "id": "4f9aa0f5",
   "metadata": {},
   "outputs": [
    {
     "data": {
      "text/plain": [
       "<langchain_community.document_loaders.pdf.PyPDFLoader at 0x131973ca0>"
      ]
     },
     "execution_count": 87,
     "metadata": {},
     "output_type": "execute_result"
    }
   ],
   "source": [
    "loader"
   ]
  },
  {
   "cell_type": "code",
   "execution_count": 89,
   "id": "1de0e678",
   "metadata": {},
   "outputs": [],
   "source": [
    "pages = loader.load_and_split()"
   ]
  },
  {
   "cell_type": "code",
   "execution_count": 90,
   "id": "600d4ee5",
   "metadata": {},
   "outputs": [
    {
     "data": {
      "text/plain": [
       "[Document(page_content='Hamda Abdallah <hamdaabdallah24@gmail.com>\\nF-1 VISA\\nHamda Abdallah <hamdaabdallah24@gmail.com> Thu, Mar 28, 2024 at 2:24 AM\\nTo: hamdaabdallah77@gmail.com\\n---------- Forwarded message ---------\\nFrom: Djibouti, NIV  <DjiboutiNIV@state.gov >\\nDate: W ed, Mar 27, 2024 at 10:40 PM\\nSubject: Re: F-1 VISA\\nTo: Hamda Abdallah < hamdaabdallah24@gmail.com >\\nDear Hamda Abdallah Aden, \\xa0\\n\\xa0\\nWe would like to inform you that we have\\u202fscheduled\\u202fan interview appointment on \\u202fThursday April  \\n18, 2024 at\\u202f08:30 a.m.\\u202f for your visa\\napplication. Please bring with you below requirements:\\u202f\\xa0\\n1. \\nA copy of your DS-160 conﬁrmation sheet and one 2-inch x 2-inch (51mm x\\n51mm) passport style\\u202f photo.\\xa0\\n2. \\nYour passport must be valid for at least Six months beyond your period of stay in the United  \\nState s\\xa0\\n3. \\nThe visa fee is $185/DJF 32800 plus the reciprocity fee $155/ 27500 DJF paid upon  \\nvisa\\u202fapproval.\\u202f\\u202f\\xa0\\nYou will need this email to gain access to the Consular Section on the day of your appointment.\\u202f\\xa0\\n\\u202f\\xa0\\nPlease let us know if you have any further questions.\\u202f\\xa0\\n\\u202f\\xa0\\nKind regards,\\u202f\\xa0\\nConsular Section\\u202f\\xa0\\nU.S Embassy Djibouti\\xa0\\nSBU -PRIVACY OR PII\\nF r o m : Hamda Abdallah <hamdaabdallah24@gmail.com>\\nS e n t : Sunday, March 24, 2024 5:08 PM', metadata={'source': '/Users/abdoulabdillahi/Desktop/Appointment.pdf', 'page': 0})]"
      ]
     },
     "execution_count": 90,
     "metadata": {},
     "output_type": "execute_result"
    }
   ],
   "source": [
    "pages"
   ]
  },
  {
   "cell_type": "code",
   "execution_count": 91,
   "id": "68d3adc9",
   "metadata": {},
   "outputs": [],
   "source": [
    "# CSV file \n",
    "from langchain_community.document_loaders.csv_loader import CSVLoader\n"
   ]
  },
  {
   "cell_type": "code",
   "execution_count": 92,
   "id": "262fa33e",
   "metadata": {},
   "outputs": [],
   "source": [
    "loader = CSVLoader(file_path='/Users/abdoulabdillahi/Desktop/CSC 680/Final_project/chat_slang/data/slang.csv')"
   ]
  },
  {
   "cell_type": "code",
   "execution_count": 93,
   "id": "6a3e5221",
   "metadata": {},
   "outputs": [],
   "source": [
    "data = loader.load()"
   ]
  },
  {
   "cell_type": "code",
   "execution_count": 96,
   "id": "477197f7",
   "metadata": {},
   "outputs": [
    {
     "data": {
      "text/plain": [
       "[Document(page_content=': 0\\nacronym: 2day\\nexpansion: today', metadata={'source': '/Users/abdoulabdillahi/Desktop/CSC 680/Final_project/chat_slang/data/slang.csv', 'row': 0}),\n",
       " Document(page_content=': 1\\nacronym: 2m2h\\nexpansion: too much too handle', metadata={'source': '/Users/abdoulabdillahi/Desktop/CSC 680/Final_project/chat_slang/data/slang.csv', 'row': 1}),\n",
       " Document(page_content=': 2\\nacronym: 2moro\\nexpansion: tomorrow', metadata={'source': '/Users/abdoulabdillahi/Desktop/CSC 680/Final_project/chat_slang/data/slang.csv', 'row': 2}),\n",
       " Document(page_content=': 3\\nacronym: 2nite\\nexpansion: tonight', metadata={'source': '/Users/abdoulabdillahi/Desktop/CSC 680/Final_project/chat_slang/data/slang.csv', 'row': 3}),\n",
       " Document(page_content=': 4\\nacronym: 4eae\\nexpansion: for ever and ever', metadata={'source': '/Users/abdoulabdillahi/Desktop/CSC 680/Final_project/chat_slang/data/slang.csv', 'row': 4}),\n",
       " Document(page_content=': 5\\nacronym: aaf\\nexpansion: as a friend', metadata={'source': '/Users/abdoulabdillahi/Desktop/CSC 680/Final_project/chat_slang/data/slang.csv', 'row': 5}),\n",
       " Document(page_content=': 6\\nacronym: aar\\nexpansion: at any rate', metadata={'source': '/Users/abdoulabdillahi/Desktop/CSC 680/Final_project/chat_slang/data/slang.csv', 'row': 6}),\n",
       " Document(page_content=': 7\\nacronym: aayf\\nexpansion: as always your friend', metadata={'source': '/Users/abdoulabdillahi/Desktop/CSC 680/Final_project/chat_slang/data/slang.csv', 'row': 7}),\n",
       " Document(page_content=': 8\\nacronym: abd\\nexpansion: already been done', metadata={'source': '/Users/abdoulabdillahi/Desktop/CSC 680/Final_project/chat_slang/data/slang.csv', 'row': 8}),\n",
       " Document(page_content=': 9\\nacronym: ack\\nexpansion: acknowledge', metadata={'source': '/Users/abdoulabdillahi/Desktop/CSC 680/Final_project/chat_slang/data/slang.csv', 'row': 9}),\n",
       " Document(page_content=': 10\\nacronym: adih\\nexpansion: another day in hell', metadata={'source': '/Users/abdoulabdillahi/Desktop/CSC 680/Final_project/chat_slang/data/slang.csv', 'row': 10}),\n",
       " Document(page_content=': 11\\nacronym: adn\\nexpansion: any day now', metadata={'source': '/Users/abdoulabdillahi/Desktop/CSC 680/Final_project/chat_slang/data/slang.csv', 'row': 11}),\n",
       " Document(page_content=': 12\\nacronym: adr\\nexpansion: address', metadata={'source': '/Users/abdoulabdillahi/Desktop/CSC 680/Final_project/chat_slang/data/slang.csv', 'row': 12}),\n",
       " Document(page_content=': 13\\nacronym: aeap\\nexpansion: as early as possible', metadata={'source': '/Users/abdoulabdillahi/Desktop/CSC 680/Final_project/chat_slang/data/slang.csv', 'row': 13}),\n",
       " Document(page_content=': 14\\nacronym: afaic\\nexpansion: as far as i am concerned', metadata={'source': '/Users/abdoulabdillahi/Desktop/CSC 680/Final_project/chat_slang/data/slang.csv', 'row': 14}),\n",
       " Document(page_content=': 15\\nacronym: afaik\\nexpansion: as far as i know', metadata={'source': '/Users/abdoulabdillahi/Desktop/CSC 680/Final_project/chat_slang/data/slang.csv', 'row': 15}),\n",
       " Document(page_content=': 16\\nacronym: aka\\nexpansion: also known as', metadata={'source': '/Users/abdoulabdillahi/Desktop/CSC 680/Final_project/chat_slang/data/slang.csv', 'row': 16}),\n",
       " Document(page_content=': 17\\nacronym: ama\\nexpansion: ask me anything', metadata={'source': '/Users/abdoulabdillahi/Desktop/CSC 680/Final_project/chat_slang/data/slang.csv', 'row': 17}),\n",
       " Document(page_content=': 18\\nacronym: ambw\\nexpansion: all my best wishes', metadata={'source': '/Users/abdoulabdillahi/Desktop/CSC 680/Final_project/chat_slang/data/slang.csv', 'row': 18}),\n",
       " Document(page_content=': 19\\nacronym: aml\\nexpansion: all my love', metadata={'source': '/Users/abdoulabdillahi/Desktop/CSC 680/Final_project/chat_slang/data/slang.csv', 'row': 19}),\n",
       " Document(page_content=': 20\\nacronym: aota\\nexpansion: all of the above', metadata={'source': '/Users/abdoulabdillahi/Desktop/CSC 680/Final_project/chat_slang/data/slang.csv', 'row': 20}),\n",
       " Document(page_content=': 21\\nacronym: asap\\nexpansion: as soon as possible', metadata={'source': '/Users/abdoulabdillahi/Desktop/CSC 680/Final_project/chat_slang/data/slang.csv', 'row': 21}),\n",
       " Document(page_content=': 22\\nacronym: atb\\nexpansion: all the best', metadata={'source': '/Users/abdoulabdillahi/Desktop/CSC 680/Final_project/chat_slang/data/slang.csv', 'row': 22}),\n",
       " Document(page_content=': 23\\nacronym: ateotd\\nexpansion: at the end of the day', metadata={'source': '/Users/abdoulabdillahi/Desktop/CSC 680/Final_project/chat_slang/data/slang.csv', 'row': 23}),\n",
       " Document(page_content=': 24\\nacronym: atm\\nexpansion: at the moment', metadata={'source': '/Users/abdoulabdillahi/Desktop/CSC 680/Final_project/chat_slang/data/slang.csv', 'row': 24}),\n",
       " Document(page_content=': 25\\nacronym: awol\\nexpansion: absent without leave', metadata={'source': '/Users/abdoulabdillahi/Desktop/CSC 680/Final_project/chat_slang/data/slang.csv', 'row': 25}),\n",
       " Document(page_content=': 26\\nacronym: aydy\\nexpansion: are you done yet', metadata={'source': '/Users/abdoulabdillahi/Desktop/CSC 680/Final_project/chat_slang/data/slang.csv', 'row': 26}),\n",
       " Document(page_content=': 27\\nacronym: ayec\\nexpansion: at your earliest convenience', metadata={'source': '/Users/abdoulabdillahi/Desktop/CSC 680/Final_project/chat_slang/data/slang.csv', 'row': 27}),\n",
       " Document(page_content=': 28\\nacronym: ayor\\nexpansion: at your own risk', metadata={'source': '/Users/abdoulabdillahi/Desktop/CSC 680/Final_project/chat_slang/data/slang.csv', 'row': 28}),\n",
       " Document(page_content=': 29\\nacronym: ays\\nexpansion: are you serious', metadata={'source': '/Users/abdoulabdillahi/Desktop/CSC 680/Final_project/chat_slang/data/slang.csv', 'row': 29}),\n",
       " Document(page_content=': 30\\nacronym: aysos\\nexpansion: are you stupid or something', metadata={'source': '/Users/abdoulabdillahi/Desktop/CSC 680/Final_project/chat_slang/data/slang.csv', 'row': 30}),\n",
       " Document(page_content=': 31\\nacronym: ayt\\nexpansion: are you there', metadata={'source': '/Users/abdoulabdillahi/Desktop/CSC 680/Final_project/chat_slang/data/slang.csv', 'row': 31}),\n",
       " Document(page_content=': 32\\nacronym: b/c\\nexpansion: because', metadata={'source': '/Users/abdoulabdillahi/Desktop/CSC 680/Final_project/chat_slang/data/slang.csv', 'row': 32}),\n",
       " Document(page_content=': 33\\nacronym: b4\\nexpansion: before', metadata={'source': '/Users/abdoulabdillahi/Desktop/CSC 680/Final_project/chat_slang/data/slang.csv', 'row': 33}),\n",
       " Document(page_content=': 34\\nacronym: b4n\\nexpansion: bye for now', metadata={'source': '/Users/abdoulabdillahi/Desktop/CSC 680/Final_project/chat_slang/data/slang.csv', 'row': 34}),\n",
       " Document(page_content=': 35\\nacronym: bau\\nexpansion: business as usual', metadata={'source': '/Users/abdoulabdillahi/Desktop/CSC 680/Final_project/chat_slang/data/slang.csv', 'row': 35}),\n",
       " Document(page_content=': 36\\nacronym: bbiaf\\nexpansion: be back in a few', metadata={'source': '/Users/abdoulabdillahi/Desktop/CSC 680/Final_project/chat_slang/data/slang.csv', 'row': 36}),\n",
       " Document(page_content=': 37\\nacronym: bbiam\\nexpansion: be back in a minute', metadata={'source': '/Users/abdoulabdillahi/Desktop/CSC 680/Final_project/chat_slang/data/slang.csv', 'row': 37}),\n",
       " Document(page_content=': 38\\nacronym: bbias\\nexpansion: be back in a sec', metadata={'source': '/Users/abdoulabdillahi/Desktop/CSC 680/Final_project/chat_slang/data/slang.csv', 'row': 38}),\n",
       " Document(page_content=': 39\\nacronym: bbs\\nexpansion: be back soon', metadata={'source': '/Users/abdoulabdillahi/Desktop/CSC 680/Final_project/chat_slang/data/slang.csv', 'row': 39}),\n",
       " Document(page_content=': 40\\nacronym: bbt\\nexpansion: be back tomorrow', metadata={'source': '/Users/abdoulabdillahi/Desktop/CSC 680/Final_project/chat_slang/data/slang.csv', 'row': 40}),\n",
       " Document(page_content=': 41\\nacronym: bcnu\\nexpansion: be seeing you', metadata={'source': '/Users/abdoulabdillahi/Desktop/CSC 680/Final_project/chat_slang/data/slang.csv', 'row': 41}),\n",
       " Document(page_content=': 42\\nacronym: bcoy\\nexpansion: big crush on you', metadata={'source': '/Users/abdoulabdillahi/Desktop/CSC 680/Final_project/chat_slang/data/slang.csv', 'row': 42}),\n",
       " Document(page_content=': 43\\nacronym: bd\\nexpansion: big deal', metadata={'source': '/Users/abdoulabdillahi/Desktop/CSC 680/Final_project/chat_slang/data/slang.csv', 'row': 43}),\n",
       " Document(page_content=': 44\\nacronym: bf\\nexpansion: boy friend', metadata={'source': '/Users/abdoulabdillahi/Desktop/CSC 680/Final_project/chat_slang/data/slang.csv', 'row': 44}),\n",
       " Document(page_content=': 45\\nacronym: bfaw\\nexpansion: best friend at work', metadata={'source': '/Users/abdoulabdillahi/Desktop/CSC 680/Final_project/chat_slang/data/slang.csv', 'row': 45}),\n",
       " Document(page_content=': 46\\nacronym: bfd\\nexpansion: big freaking deal', metadata={'source': '/Users/abdoulabdillahi/Desktop/CSC 680/Final_project/chat_slang/data/slang.csv', 'row': 46}),\n",
       " Document(page_content=': 47\\nacronym: bff\\nexpansion: best friends forever', metadata={'source': '/Users/abdoulabdillahi/Desktop/CSC 680/Final_project/chat_slang/data/slang.csv', 'row': 47}),\n",
       " Document(page_content=': 48\\nacronym: bffn\\nexpansion: best friend for now', metadata={'source': '/Users/abdoulabdillahi/Desktop/CSC 680/Final_project/chat_slang/data/slang.csv', 'row': 48}),\n",
       " Document(page_content=': 49\\nacronym: bfn\\nexpansion: bye for now', metadata={'source': '/Users/abdoulabdillahi/Desktop/CSC 680/Final_project/chat_slang/data/slang.csv', 'row': 49}),\n",
       " Document(page_content=': 50\\nacronym: bg\\nexpansion: big grin', metadata={'source': '/Users/abdoulabdillahi/Desktop/CSC 680/Final_project/chat_slang/data/slang.csv', 'row': 50}),\n",
       " Document(page_content=': 51\\nacronym: bgwm\\nexpansion: be gentle with me', metadata={'source': '/Users/abdoulabdillahi/Desktop/CSC 680/Final_project/chat_slang/data/slang.csv', 'row': 51}),\n",
       " Document(page_content=': 52\\nacronym: bhl8\\nexpansion: be home late', metadata={'source': '/Users/abdoulabdillahi/Desktop/CSC 680/Final_project/chat_slang/data/slang.csv', 'row': 52}),\n",
       " Document(page_content=': 53\\nacronym: bib\\nexpansion: boss is back', metadata={'source': '/Users/abdoulabdillahi/Desktop/CSC 680/Final_project/chat_slang/data/slang.csv', 'row': 53}),\n",
       " Document(page_content=': 54\\nacronym: bn\\nexpansion: bad news', metadata={'source': '/Users/abdoulabdillahi/Desktop/CSC 680/Final_project/chat_slang/data/slang.csv', 'row': 54}),\n",
       " Document(page_content=': 55\\nacronym: bol\\nexpansion: be on later', metadata={'source': '/Users/abdoulabdillahi/Desktop/CSC 680/Final_project/chat_slang/data/slang.csv', 'row': 55}),\n",
       " Document(page_content=': 56\\nacronym: bot\\nexpansion: back on topic', metadata={'source': '/Users/abdoulabdillahi/Desktop/CSC 680/Final_project/chat_slang/data/slang.csv', 'row': 56}),\n",
       " Document(page_content=': 57\\nacronym: boyf\\nexpansion: boyfriend', metadata={'source': '/Users/abdoulabdillahi/Desktop/CSC 680/Final_project/chat_slang/data/slang.csv', 'row': 57}),\n",
       " Document(page_content=': 58\\nacronym: brb\\nexpansion: be right back', metadata={'source': '/Users/abdoulabdillahi/Desktop/CSC 680/Final_project/chat_slang/data/slang.csv', 'row': 58}),\n",
       " Document(page_content=': 59\\nacronym: brh\\nexpansion: be right here', metadata={'source': '/Users/abdoulabdillahi/Desktop/CSC 680/Final_project/chat_slang/data/slang.csv', 'row': 59}),\n",
       " Document(page_content=': 60\\nacronym: bro\\nexpansion: brother', metadata={'source': '/Users/abdoulabdillahi/Desktop/CSC 680/Final_project/chat_slang/data/slang.csv', 'row': 60}),\n",
       " Document(page_content=': 61\\nacronym: brt\\nexpansion: be right there', metadata={'source': '/Users/abdoulabdillahi/Desktop/CSC 680/Final_project/chat_slang/data/slang.csv', 'row': 61}),\n",
       " Document(page_content=': 62\\nacronym: bt\\nexpansion: but', metadata={'source': '/Users/abdoulabdillahi/Desktop/CSC 680/Final_project/chat_slang/data/slang.csv', 'row': 62}),\n",
       " Document(page_content=': 63\\nacronym: btw\\nexpansion: by the way', metadata={'source': '/Users/abdoulabdillahi/Desktop/CSC 680/Final_project/chat_slang/data/slang.csv', 'row': 63}),\n",
       " Document(page_content=': 64\\nacronym: byoc\\nexpansion: bring your own computer', metadata={'source': '/Users/abdoulabdillahi/Desktop/CSC 680/Final_project/chat_slang/data/slang.csv', 'row': 64}),\n",
       " Document(page_content=': 65\\nacronym: cmb\\nexpansion: call me back', metadata={'source': '/Users/abdoulabdillahi/Desktop/CSC 680/Final_project/chat_slang/data/slang.csv', 'row': 65}),\n",
       " Document(page_content=': 66\\nacronym: cmiiw\\nexpansion: correct me if i am wrong', metadata={'source': '/Users/abdoulabdillahi/Desktop/CSC 680/Final_project/chat_slang/data/slang.csv', 'row': 66}),\n",
       " Document(page_content=': 67\\nacronym: cob\\nexpansion: close of business', metadata={'source': '/Users/abdoulabdillahi/Desktop/CSC 680/Final_project/chat_slang/data/slang.csv', 'row': 67}),\n",
       " Document(page_content=': 68\\nacronym: csl\\nexpansion: cannot stop laughing', metadata={'source': '/Users/abdoulabdillahi/Desktop/CSC 680/Final_project/chat_slang/data/slang.csv', 'row': 68}),\n",
       " Document(page_content=': 69\\nacronym: cu\\nexpansion: see you', metadata={'source': '/Users/abdoulabdillahi/Desktop/CSC 680/Final_project/chat_slang/data/slang.csv', 'row': 69}),\n",
       " Document(page_content=': 70\\nacronym: cua\\nexpansion: see you around', metadata={'source': '/Users/abdoulabdillahi/Desktop/CSC 680/Final_project/chat_slang/data/slang.csv', 'row': 70}),\n",
       " Document(page_content=': 71\\nacronym: cul\\nexpansion: see you later', metadata={'source': '/Users/abdoulabdillahi/Desktop/CSC 680/Final_project/chat_slang/data/slang.csv', 'row': 71}),\n",
       " Document(page_content=': 72\\nacronym: cwyl\\nexpansion: chat with you later', metadata={'source': '/Users/abdoulabdillahi/Desktop/CSC 680/Final_project/chat_slang/data/slang.csv', 'row': 72}),\n",
       " Document(page_content=': 73\\nacronym: cya\\nexpansion: cover your ass', metadata={'source': '/Users/abdoulabdillahi/Desktop/CSC 680/Final_project/chat_slang/data/slang.csv', 'row': 73}),\n",
       " Document(page_content=': 74\\nacronym: cye\\nexpansion: check your e mail', metadata={'source': '/Users/abdoulabdillahi/Desktop/CSC 680/Final_project/chat_slang/data/slang.csv', 'row': 74}),\n",
       " Document(page_content=': 75\\nacronym: cyo\\nexpansion: see you online', metadata={'source': '/Users/abdoulabdillahi/Desktop/CSC 680/Final_project/chat_slang/data/slang.csv', 'row': 75}),\n",
       " Document(page_content=': 76\\nacronym: dkdc\\nexpansion: do not know do not care', metadata={'source': '/Users/abdoulabdillahi/Desktop/CSC 680/Final_project/chat_slang/data/slang.csv', 'row': 76}),\n",
       " Document(page_content=': 77\\nacronym: dm\\nexpansion: direct message', metadata={'source': '/Users/abdoulabdillahi/Desktop/CSC 680/Final_project/chat_slang/data/slang.csv', 'row': 77}),\n",
       " Document(page_content=': 78\\nacronym: dts\\nexpansion: do not think so', metadata={'source': '/Users/abdoulabdillahi/Desktop/CSC 680/Final_project/chat_slang/data/slang.csv', 'row': 78}),\n",
       " Document(page_content=': 79\\nacronym: dur\\nexpansion: do you remember', metadata={'source': '/Users/abdoulabdillahi/Desktop/CSC 680/Final_project/chat_slang/data/slang.csv', 'row': 79}),\n",
       " Document(page_content=': 80\\nacronym: dwbh\\nexpansion: do not worry be happy', metadata={'source': '/Users/abdoulabdillahi/Desktop/CSC 680/Final_project/chat_slang/data/slang.csv', 'row': 80}),\n",
       " Document(page_content=': 81\\nacronym: e1\\nexpansion: everyone', metadata={'source': '/Users/abdoulabdillahi/Desktop/CSC 680/Final_project/chat_slang/data/slang.csv', 'row': 81}),\n",
       " Document(page_content=': 82\\nacronym: ef4t\\nexpansion: effort', metadata={'source': '/Users/abdoulabdillahi/Desktop/CSC 680/Final_project/chat_slang/data/slang.csv', 'row': 82}),\n",
       " Document(page_content=': 83\\nacronym: eod\\nexpansion: end of discussion', metadata={'source': '/Users/abdoulabdillahi/Desktop/CSC 680/Final_project/chat_slang/data/slang.csv', 'row': 83}),\n",
       " Document(page_content=': 84\\nacronym: f2f\\nexpansion: face to face', metadata={'source': '/Users/abdoulabdillahi/Desktop/CSC 680/Final_project/chat_slang/data/slang.csv', 'row': 84}),\n",
       " Document(page_content=': 85\\nacronym: ftf\\nexpansion: face to face', metadata={'source': '/Users/abdoulabdillahi/Desktop/CSC 680/Final_project/chat_slang/data/slang.csv', 'row': 85}),\n",
       " Document(page_content=': 86\\nacronym: faq\\nexpansion: frequently asked questions', metadata={'source': '/Users/abdoulabdillahi/Desktop/CSC 680/Final_project/chat_slang/data/slang.csv', 'row': 86}),\n",
       " Document(page_content=': 87\\nacronym: fb\\nexpansion: facebook', metadata={'source': '/Users/abdoulabdillahi/Desktop/CSC 680/Final_project/chat_slang/data/slang.csv', 'row': 87}),\n",
       " Document(page_content=': 88\\nacronym: ff\\nexpansion: follow friday', metadata={'source': '/Users/abdoulabdillahi/Desktop/CSC 680/Final_project/chat_slang/data/slang.csv', 'row': 88}),\n",
       " Document(page_content=': 89\\nacronym: fish\\nexpansion: first in still here', metadata={'source': '/Users/abdoulabdillahi/Desktop/CSC 680/Final_project/chat_slang/data/slang.csv', 'row': 89}),\n",
       " Document(page_content=': 90\\nacronym: fitb\\nexpansion: fill in the blank', metadata={'source': '/Users/abdoulabdillahi/Desktop/CSC 680/Final_project/chat_slang/data/slang.csv', 'row': 90}),\n",
       " Document(page_content=': 91\\nacronym: ftbomh\\nexpansion: from the bottom of my heart', metadata={'source': '/Users/abdoulabdillahi/Desktop/CSC 680/Final_project/chat_slang/data/slang.csv', 'row': 91}),\n",
       " Document(page_content=': 92\\nacronym: ftl\\nexpansion: for the loss', metadata={'source': '/Users/abdoulabdillahi/Desktop/CSC 680/Final_project/chat_slang/data/slang.csv', 'row': 92}),\n",
       " Document(page_content=': 93\\nacronym: ftw\\nexpansion: for the win', metadata={'source': '/Users/abdoulabdillahi/Desktop/CSC 680/Final_project/chat_slang/data/slang.csv', 'row': 93}),\n",
       " Document(page_content=': 94\\nacronym: fwb\\nexpansion: friend with benefits', metadata={'source': '/Users/abdoulabdillahi/Desktop/CSC 680/Final_project/chat_slang/data/slang.csv', 'row': 94}),\n",
       " Document(page_content=': 95\\nacronym: fwiw\\nexpansion: for what it is worth', metadata={'source': '/Users/abdoulabdillahi/Desktop/CSC 680/Final_project/chat_slang/data/slang.csv', 'row': 95}),\n",
       " Document(page_content=': 96\\nacronym: fyeo\\nexpansion: for your eyes only', metadata={'source': '/Users/abdoulabdillahi/Desktop/CSC 680/Final_project/chat_slang/data/slang.csv', 'row': 96}),\n",
       " Document(page_content=': 97\\nacronym: fyi\\nexpansion: for your information', metadata={'source': '/Users/abdoulabdillahi/Desktop/CSC 680/Final_project/chat_slang/data/slang.csv', 'row': 97}),\n",
       " Document(page_content=': 98\\nacronym: g4c\\nexpansion: going for coffee', metadata={'source': '/Users/abdoulabdillahi/Desktop/CSC 680/Final_project/chat_slang/data/slang.csv', 'row': 98}),\n",
       " Document(page_content=': 99\\nacronym: ga\\nexpansion: go ahead', metadata={'source': '/Users/abdoulabdillahi/Desktop/CSC 680/Final_project/chat_slang/data/slang.csv', 'row': 99}),\n",
       " Document(page_content=': 100\\nacronym: gac\\nexpansion: get a clue', metadata={'source': '/Users/abdoulabdillahi/Desktop/CSC 680/Final_project/chat_slang/data/slang.csv', 'row': 100}),\n",
       " Document(page_content=': 101\\nacronym: gas\\nexpansion: greetings and salutations', metadata={'source': '/Users/abdoulabdillahi/Desktop/CSC 680/Final_project/chat_slang/data/slang.csv', 'row': 101}),\n",
       " Document(page_content=': 102\\nacronym: gb\\nexpansion: goodbye', metadata={'source': '/Users/abdoulabdillahi/Desktop/CSC 680/Final_project/chat_slang/data/slang.csv', 'row': 102}),\n",
       " Document(page_content=': 103\\nacronym: gbu\\nexpansion: god bless you', metadata={'source': '/Users/abdoulabdillahi/Desktop/CSC 680/Final_project/chat_slang/data/slang.csv', 'row': 103}),\n",
       " Document(page_content=': 104\\nacronym: gf\\nexpansion: girl friend', metadata={'source': '/Users/abdoulabdillahi/Desktop/CSC 680/Final_project/chat_slang/data/slang.csv', 'row': 104}),\n",
       " Document(page_content=': 105\\nacronym: gfn\\nexpansion: gone for now', metadata={'source': '/Users/abdoulabdillahi/Desktop/CSC 680/Final_project/chat_slang/data/slang.csv', 'row': 105}),\n",
       " Document(page_content=': 106\\nacronym: glhf\\nexpansion: good luck have fun', metadata={'source': '/Users/abdoulabdillahi/Desktop/CSC 680/Final_project/chat_slang/data/slang.csv', 'row': 106}),\n",
       " Document(page_content=': 107\\nacronym: gmta\\nexpansion: great minds think alike', metadata={'source': '/Users/abdoulabdillahi/Desktop/CSC 680/Final_project/chat_slang/data/slang.csv', 'row': 107}),\n",
       " Document(page_content=': 108\\nacronym: gnite\\nexpansion: good night', metadata={'source': '/Users/abdoulabdillahi/Desktop/CSC 680/Final_project/chat_slang/data/slang.csv', 'row': 108}),\n",
       " Document(page_content=': 109\\nacronym: gr8\\nexpansion: great', metadata={'source': '/Users/abdoulabdillahi/Desktop/CSC 680/Final_project/chat_slang/data/slang.csv', 'row': 109}),\n",
       " Document(page_content=': 110\\nacronym: gratz\\nexpansion: congratulations', metadata={'source': '/Users/abdoulabdillahi/Desktop/CSC 680/Final_project/chat_slang/data/slang.csv', 'row': 110}),\n",
       " Document(page_content=': 111\\nacronym: grl\\nexpansion: girl', metadata={'source': '/Users/abdoulabdillahi/Desktop/CSC 680/Final_project/chat_slang/data/slang.csv', 'row': 111}),\n",
       " Document(page_content=': 112\\nacronym: gtsy\\nexpansion: good to see you', metadata={'source': '/Users/abdoulabdillahi/Desktop/CSC 680/Final_project/chat_slang/data/slang.csv', 'row': 112}),\n",
       " Document(page_content=': 113\\nacronym: h&k\\nexpansion: hugs and kisses', metadata={'source': '/Users/abdoulabdillahi/Desktop/CSC 680/Final_project/chat_slang/data/slang.csv', 'row': 113}),\n",
       " Document(page_content=': 114\\nacronym: h2cus\\nexpansion: hope to see you soon', metadata={'source': '/Users/abdoulabdillahi/Desktop/CSC 680/Final_project/chat_slang/data/slang.csv', 'row': 114}),\n",
       " Document(page_content=': 115\\nacronym: h8\\nexpansion: hate', metadata={'source': '/Users/abdoulabdillahi/Desktop/CSC 680/Final_project/chat_slang/data/slang.csv', 'row': 115}),\n",
       " Document(page_content=': 116\\nacronym: hag1\\nexpansion: have a good one', metadata={'source': '/Users/abdoulabdillahi/Desktop/CSC 680/Final_project/chat_slang/data/slang.csv', 'row': 116}),\n",
       " Document(page_content=': 117\\nacronym: hagn\\nexpansion: have a good night', metadata={'source': '/Users/abdoulabdillahi/Desktop/CSC 680/Final_project/chat_slang/data/slang.csv', 'row': 117}),\n",
       " Document(page_content=': 118\\nacronym: hand\\nexpansion: have a nice day', metadata={'source': '/Users/abdoulabdillahi/Desktop/CSC 680/Final_project/chat_slang/data/slang.csv', 'row': 118}),\n",
       " Document(page_content=': 119\\nacronym: hawt\\nexpansion: have a wonderful day', metadata={'source': '/Users/abdoulabdillahi/Desktop/CSC 680/Final_project/chat_slang/data/slang.csv', 'row': 119}),\n",
       " Document(page_content=': 120\\nacronym: hmb\\nexpansion: hit be back', metadata={'source': '/Users/abdoulabdillahi/Desktop/CSC 680/Final_project/chat_slang/data/slang.csv', 'row': 120}),\n",
       " Document(page_content=': 121\\nacronym: hmu\\nexpansion: hit me up', metadata={'source': '/Users/abdoulabdillahi/Desktop/CSC 680/Final_project/chat_slang/data/slang.csv', 'row': 121}),\n",
       " Document(page_content=': 122\\nacronym: hoas\\nexpansion: hold on a second', metadata={'source': '/Users/abdoulabdillahi/Desktop/CSC 680/Final_project/chat_slang/data/slang.csv', 'row': 122}),\n",
       " Document(page_content=': 123\\nacronym: hru\\nexpansion: how are you', metadata={'source': '/Users/abdoulabdillahi/Desktop/CSC 680/Final_project/chat_slang/data/slang.csv', 'row': 123}),\n",
       " Document(page_content=': 124\\nacronym: ht\\nexpansion: hat tip or heard through', metadata={'source': '/Users/abdoulabdillahi/Desktop/CSC 680/Final_project/chat_slang/data/slang.csv', 'row': 124}),\n",
       " Document(page_content=': 125\\nacronym: hth\\nexpansion: hope this helps', metadata={'source': '/Users/abdoulabdillahi/Desktop/CSC 680/Final_project/chat_slang/data/slang.csv', 'row': 125}),\n",
       " Document(page_content=': 126\\nacronym: hw\\nexpansion: homework', metadata={'source': '/Users/abdoulabdillahi/Desktop/CSC 680/Final_project/chat_slang/data/slang.csv', 'row': 126}),\n",
       " Document(page_content=': 127\\nacronym: iac\\nexpansion: in any case', metadata={'source': '/Users/abdoulabdillahi/Desktop/CSC 680/Final_project/chat_slang/data/slang.csv', 'row': 127}),\n",
       " Document(page_content=': 128\\nacronym: iae\\nexpansion: in any event', metadata={'source': '/Users/abdoulabdillahi/Desktop/CSC 680/Final_project/chat_slang/data/slang.csv', 'row': 128}),\n",
       " Document(page_content=': 129\\nacronym: ianal\\nexpansion: i am not a lawyer', metadata={'source': '/Users/abdoulabdillahi/Desktop/CSC 680/Final_project/chat_slang/data/slang.csv', 'row': 129}),\n",
       " Document(page_content=': 130\\nacronym: iao\\nexpansion: i am out', metadata={'source': '/Users/abdoulabdillahi/Desktop/CSC 680/Final_project/chat_slang/data/slang.csv', 'row': 130}),\n",
       " Document(page_content=': 131\\nacronym: ic\\nexpansion: i see', metadata={'source': '/Users/abdoulabdillahi/Desktop/CSC 680/Final_project/chat_slang/data/slang.csv', 'row': 131}),\n",
       " Document(page_content=': 132\\nacronym: icymi\\nexpansion: in case you missed it', metadata={'source': '/Users/abdoulabdillahi/Desktop/CSC 680/Final_project/chat_slang/data/slang.csv', 'row': 132}),\n",
       " Document(page_content=': 133\\nacronym: idc\\nexpansion: i do not care', metadata={'source': '/Users/abdoulabdillahi/Desktop/CSC 680/Final_project/chat_slang/data/slang.csv', 'row': 133}),\n",
       " Document(page_content=': 134\\nacronym: ihni\\nexpansion: i have no idea', metadata={'source': '/Users/abdoulabdillahi/Desktop/CSC 680/Final_project/chat_slang/data/slang.csv', 'row': 134}),\n",
       " Document(page_content=': 135\\nacronym: iirc\\nexpansion: if i remember correctly', metadata={'source': '/Users/abdoulabdillahi/Desktop/CSC 680/Final_project/chat_slang/data/slang.csv', 'row': 135}),\n",
       " Document(page_content=': 136\\nacronym: ikr\\nexpansion: i know right', metadata={'source': '/Users/abdoulabdillahi/Desktop/CSC 680/Final_project/chat_slang/data/slang.csv', 'row': 136}),\n",
       " Document(page_content=': 137\\nacronym: ily\\nexpansion: i love you', metadata={'source': '/Users/abdoulabdillahi/Desktop/CSC 680/Final_project/chat_slang/data/slang.csv', 'row': 137}),\n",
       " Document(page_content=': 138\\nacronym: im\\nexpansion: instant message', metadata={'source': '/Users/abdoulabdillahi/Desktop/CSC 680/Final_project/chat_slang/data/slang.csv', 'row': 138}),\n",
       " Document(page_content=': 139\\nacronym: imho\\nexpansion: in my humble opinion', metadata={'source': '/Users/abdoulabdillahi/Desktop/CSC 680/Final_project/chat_slang/data/slang.csv', 'row': 139}),\n",
       " Document(page_content=': 140\\nacronym: imo\\nexpansion: in my opinion', metadata={'source': '/Users/abdoulabdillahi/Desktop/CSC 680/Final_project/chat_slang/data/slang.csv', 'row': 140}),\n",
       " Document(page_content=': 141\\nacronym: ims\\nexpansion: i am sorry', metadata={'source': '/Users/abdoulabdillahi/Desktop/CSC 680/Final_project/chat_slang/data/slang.csv', 'row': 141}),\n",
       " Document(page_content=': 142\\nacronym: irl\\nexpansion: in real life', metadata={'source': '/Users/abdoulabdillahi/Desktop/CSC 680/Final_project/chat_slang/data/slang.csv', 'row': 142}),\n",
       " Document(page_content=': 143\\nacronym: isly\\nexpansion: i still love you', metadata={'source': '/Users/abdoulabdillahi/Desktop/CSC 680/Final_project/chat_slang/data/slang.csv', 'row': 143}),\n",
       " Document(page_content=': 144\\nacronym: iso\\nexpansion: in search of', metadata={'source': '/Users/abdoulabdillahi/Desktop/CSC 680/Final_project/chat_slang/data/slang.csv', 'row': 144}),\n",
       " Document(page_content=': 145\\nacronym: iu2u\\nexpansion: it is up to you', metadata={'source': '/Users/abdoulabdillahi/Desktop/CSC 680/Final_project/chat_slang/data/slang.csv', 'row': 145}),\n",
       " Document(page_content=': 146\\nacronym: iykwim\\nexpansion: if you know what i mean', metadata={'source': '/Users/abdoulabdillahi/Desktop/CSC 680/Final_project/chat_slang/data/slang.csv', 'row': 146}),\n",
       " Document(page_content=': 147\\nacronym: j/k\\nexpansion: just kidding', metadata={'source': '/Users/abdoulabdillahi/Desktop/CSC 680/Final_project/chat_slang/data/slang.csv', 'row': 147}),\n",
       " Document(page_content=': 148\\nacronym: j4f\\nexpansion: just for fun', metadata={'source': '/Users/abdoulabdillahi/Desktop/CSC 680/Final_project/chat_slang/data/slang.csv', 'row': 148}),\n",
       " Document(page_content=': 149\\nacronym: jff\\nexpansion: just for fun', metadata={'source': '/Users/abdoulabdillahi/Desktop/CSC 680/Final_project/chat_slang/data/slang.csv', 'row': 149}),\n",
       " Document(page_content=': 150\\nacronym: jic\\nexpansion: just in case', metadata={'source': '/Users/abdoulabdillahi/Desktop/CSC 680/Final_project/chat_slang/data/slang.csv', 'row': 150}),\n",
       " Document(page_content=': 151\\nacronym: jlmk\\nexpansion: just let me know', metadata={'source': '/Users/abdoulabdillahi/Desktop/CSC 680/Final_project/chat_slang/data/slang.csv', 'row': 151}),\n",
       " Document(page_content=': 152\\nacronym: jmo\\nexpansion: just my opinion', metadata={'source': '/Users/abdoulabdillahi/Desktop/CSC 680/Final_project/chat_slang/data/slang.csv', 'row': 152}),\n",
       " Document(page_content=': 153\\nacronym: jsyk\\nexpansion: just so you know', metadata={'source': '/Users/abdoulabdillahi/Desktop/CSC 680/Final_project/chat_slang/data/slang.csv', 'row': 153}),\n",
       " Document(page_content=': 154\\nacronym: jw\\nexpansion: just wondering', metadata={'source': '/Users/abdoulabdillahi/Desktop/CSC 680/Final_project/chat_slang/data/slang.csv', 'row': 154}),\n",
       " Document(page_content=': 155\\nacronym: k\\nexpansion: okay', metadata={'source': '/Users/abdoulabdillahi/Desktop/CSC 680/Final_project/chat_slang/data/slang.csv', 'row': 155}),\n",
       " Document(page_content=': 156\\nacronym: kk\\nexpansion: okay', metadata={'source': '/Users/abdoulabdillahi/Desktop/CSC 680/Final_project/chat_slang/data/slang.csv', 'row': 156}),\n",
       " Document(page_content=': 157\\nacronym: kiss\\nexpansion: keep it simple stupid', metadata={'source': '/Users/abdoulabdillahi/Desktop/CSC 680/Final_project/chat_slang/data/slang.csv', 'row': 157}),\n",
       " Document(page_content=': 158\\nacronym: kit\\nexpansion: keep in touch', metadata={'source': '/Users/abdoulabdillahi/Desktop/CSC 680/Final_project/chat_slang/data/slang.csv', 'row': 158}),\n",
       " Document(page_content=': 159\\nacronym: l8\\nexpansion: late', metadata={'source': '/Users/abdoulabdillahi/Desktop/CSC 680/Final_project/chat_slang/data/slang.csv', 'row': 159}),\n",
       " Document(page_content=': 160\\nacronym: l8r\\nexpansion: later', metadata={'source': '/Users/abdoulabdillahi/Desktop/CSC 680/Final_project/chat_slang/data/slang.csv', 'row': 160}),\n",
       " Document(page_content=': 161\\nacronym: lho\\nexpansion: laughing head off', metadata={'source': '/Users/abdoulabdillahi/Desktop/CSC 680/Final_project/chat_slang/data/slang.csv', 'row': 161}),\n",
       " Document(page_content=': 162\\nacronym: lmao\\nexpansion: laughing my ass off', metadata={'source': '/Users/abdoulabdillahi/Desktop/CSC 680/Final_project/chat_slang/data/slang.csv', 'row': 162}),\n",
       " Document(page_content=': 163\\nacronym: lmbo\\nexpansion: laughing my butt off', metadata={'source': '/Users/abdoulabdillahi/Desktop/CSC 680/Final_project/chat_slang/data/slang.csv', 'row': 163}),\n",
       " Document(page_content=': 164\\nacronym: lmk\\nexpansion: let me know', metadata={'source': '/Users/abdoulabdillahi/Desktop/CSC 680/Final_project/chat_slang/data/slang.csv', 'row': 164}),\n",
       " Document(page_content=': 165\\nacronym: lol\\nexpansion: lots of love', metadata={'source': '/Users/abdoulabdillahi/Desktop/CSC 680/Final_project/chat_slang/data/slang.csv', 'row': 165}),\n",
       " Document(page_content=': 166\\nacronym: lol\\nexpansion: laughing out loud', metadata={'source': '/Users/abdoulabdillahi/Desktop/CSC 680/Final_project/chat_slang/data/slang.csv', 'row': 166}),\n",
       " Document(page_content=': 167\\nacronym: loti\\nexpansion: laughing on the inside', metadata={'source': '/Users/abdoulabdillahi/Desktop/CSC 680/Final_project/chat_slang/data/slang.csv', 'row': 167}),\n",
       " Document(page_content=': 168\\nacronym: ltns\\nexpansion: long time no see', metadata={'source': '/Users/abdoulabdillahi/Desktop/CSC 680/Final_project/chat_slang/data/slang.csv', 'row': 168}),\n",
       " Document(page_content=': 169\\nacronym: lylas\\nexpansion: love you like a sister', metadata={'source': '/Users/abdoulabdillahi/Desktop/CSC 680/Final_project/chat_slang/data/slang.csv', 'row': 169}),\n",
       " Document(page_content=': 170\\nacronym: lysm\\nexpansion: love you so much', metadata={'source': '/Users/abdoulabdillahi/Desktop/CSC 680/Final_project/chat_slang/data/slang.csv', 'row': 170}),\n",
       " Document(page_content=': 171\\nacronym: mc\\nexpansion: merry christmas', metadata={'source': '/Users/abdoulabdillahi/Desktop/CSC 680/Final_project/chat_slang/data/slang.csv', 'row': 171}),\n",
       " Document(page_content=': 172\\nacronym: mgmt\\nexpansion: management', metadata={'source': '/Users/abdoulabdillahi/Desktop/CSC 680/Final_project/chat_slang/data/slang.csv', 'row': 172}),\n",
       " Document(page_content=': 173\\nacronym: mm\\nexpansion: music monday', metadata={'source': '/Users/abdoulabdillahi/Desktop/CSC 680/Final_project/chat_slang/data/slang.csv', 'row': 173}),\n",
       " Document(page_content=': 174\\nacronym: msm\\nexpansion: mainstream media', metadata={'source': '/Users/abdoulabdillahi/Desktop/CSC 680/Final_project/chat_slang/data/slang.csv', 'row': 174}),\n",
       " Document(page_content=': 175\\nacronym: mu\\nexpansion: miss you', metadata={'source': '/Users/abdoulabdillahi/Desktop/CSC 680/Final_project/chat_slang/data/slang.csv', 'row': 175}),\n",
       " Document(page_content=': 176\\nacronym: myob\\nexpansion: mind your own business', metadata={'source': '/Users/abdoulabdillahi/Desktop/CSC 680/Final_project/chat_slang/data/slang.csv', 'row': 176}),\n",
       " Document(page_content=': 177\\nacronym: nagi\\nexpansion: not a good idea', metadata={'source': '/Users/abdoulabdillahi/Desktop/CSC 680/Final_project/chat_slang/data/slang.csv', 'row': 177}),\n",
       " Document(page_content=': 178\\nacronym: nfm\\nexpansion: not for me', metadata={'source': '/Users/abdoulabdillahi/Desktop/CSC 680/Final_project/chat_slang/data/slang.csv', 'row': 178}),\n",
       " Document(page_content=': 179\\nacronym: nfs\\nexpansion: not for sale', metadata={'source': '/Users/abdoulabdillahi/Desktop/CSC 680/Final_project/chat_slang/data/slang.csv', 'row': 179}),\n",
       " Document(page_content=': 180\\nacronym: nm\\nexpansion: nothing much', metadata={'source': '/Users/abdoulabdillahi/Desktop/CSC 680/Final_project/chat_slang/data/slang.csv', 'row': 180}),\n",
       " Document(page_content=': 181\\nacronym: nm\\nexpansion: not much', metadata={'source': '/Users/abdoulabdillahi/Desktop/CSC 680/Final_project/chat_slang/data/slang.csv', 'row': 181}),\n",
       " Document(page_content=': 182\\nacronym: noyb\\nexpansion: none of your business', metadata={'source': '/Users/abdoulabdillahi/Desktop/CSC 680/Final_project/chat_slang/data/slang.csv', 'row': 182}),\n",
       " Document(page_content=': 183\\nacronym: np\\nexpansion: no problem', metadata={'source': '/Users/abdoulabdillahi/Desktop/CSC 680/Final_project/chat_slang/data/slang.csv', 'row': 183}),\n",
       " Document(page_content=': 184\\nacronym: nsfl\\nexpansion: not safe for life', metadata={'source': '/Users/abdoulabdillahi/Desktop/CSC 680/Final_project/chat_slang/data/slang.csv', 'row': 184}),\n",
       " Document(page_content=': 185\\nacronym: nsfw\\nexpansion: not safe for work', metadata={'source': '/Users/abdoulabdillahi/Desktop/CSC 680/Final_project/chat_slang/data/slang.csv', 'row': 185}),\n",
       " Document(page_content=': 186\\nacronym: nts\\nexpansion: note to self', metadata={'source': '/Users/abdoulabdillahi/Desktop/CSC 680/Final_project/chat_slang/data/slang.csv', 'row': 186}),\n",
       " Document(page_content=': 187\\nacronym: nvm\\nexpansion: never mind', metadata={'source': '/Users/abdoulabdillahi/Desktop/CSC 680/Final_project/chat_slang/data/slang.csv', 'row': 187}),\n",
       " Document(page_content=': 188\\nacronym: oh\\nexpansion: overheard', metadata={'source': '/Users/abdoulabdillahi/Desktop/CSC 680/Final_project/chat_slang/data/slang.csv', 'row': 188}),\n",
       " Document(page_content=': 189\\nacronym: oic\\nexpansion: oh i see', metadata={'source': '/Users/abdoulabdillahi/Desktop/CSC 680/Final_project/chat_slang/data/slang.csv', 'row': 189}),\n",
       " Document(page_content=': 190\\nacronym: omg\\nexpansion: oh my god', metadata={'source': '/Users/abdoulabdillahi/Desktop/CSC 680/Final_project/chat_slang/data/slang.csv', 'row': 190}),\n",
       " Document(page_content=': 191\\nacronym: omw\\nexpansion: on my way', metadata={'source': '/Users/abdoulabdillahi/Desktop/CSC 680/Final_project/chat_slang/data/slang.csv', 'row': 191}),\n",
       " Document(page_content=': 192\\nacronym: orly\\nexpansion: oh really', metadata={'source': '/Users/abdoulabdillahi/Desktop/CSC 680/Final_project/chat_slang/data/slang.csv', 'row': 192}),\n",
       " Document(page_content=': 193\\nacronym: ot\\nexpansion: off topic', metadata={'source': '/Users/abdoulabdillahi/Desktop/CSC 680/Final_project/chat_slang/data/slang.csv', 'row': 193}),\n",
       " Document(page_content=': 194\\nacronym: otb\\nexpansion: off to bed', metadata={'source': '/Users/abdoulabdillahi/Desktop/CSC 680/Final_project/chat_slang/data/slang.csv', 'row': 194}),\n",
       " Document(page_content=': 195\\nacronym: otoh\\nexpansion: on the other hand', metadata={'source': '/Users/abdoulabdillahi/Desktop/CSC 680/Final_project/chat_slang/data/slang.csv', 'row': 195}),\n",
       " Document(page_content=': 196\\nacronym: otp\\nexpansion: on the phone', metadata={'source': '/Users/abdoulabdillahi/Desktop/CSC 680/Final_project/chat_slang/data/slang.csv', 'row': 196}),\n",
       " Document(page_content=': 197\\nacronym: ott\\nexpansion: over the top', metadata={'source': '/Users/abdoulabdillahi/Desktop/CSC 680/Final_project/chat_slang/data/slang.csv', 'row': 197}),\n",
       " Document(page_content=': 198\\nacronym: paw\\nexpansion: parents are watching', metadata={'source': '/Users/abdoulabdillahi/Desktop/CSC 680/Final_project/chat_slang/data/slang.csv', 'row': 198}),\n",
       " Document(page_content=': 199\\nacronym: pcm\\nexpansion: please call me', metadata={'source': '/Users/abdoulabdillahi/Desktop/CSC 680/Final_project/chat_slang/data/slang.csv', 'row': 199}),\n",
       " Document(page_content=': 200\\nacronym: pls\\nexpansion: please', metadata={'source': '/Users/abdoulabdillahi/Desktop/CSC 680/Final_project/chat_slang/data/slang.csv', 'row': 200}),\n",
       " Document(page_content=': 201\\nacronym: pov\\nexpansion: point of view', metadata={'source': '/Users/abdoulabdillahi/Desktop/CSC 680/Final_project/chat_slang/data/slang.csv', 'row': 201}),\n",
       " Document(page_content=': 202\\nacronym: ppl\\nexpansion: people', metadata={'source': '/Users/abdoulabdillahi/Desktop/CSC 680/Final_project/chat_slang/data/slang.csv', 'row': 202}),\n",
       " Document(page_content=': 203\\nacronym: ptb\\nexpansion: please text back', metadata={'source': '/Users/abdoulabdillahi/Desktop/CSC 680/Final_project/chat_slang/data/slang.csv', 'row': 203}),\n",
       " Document(page_content=': 204\\nacronym: ptmm\\nexpansion: please tell me more', metadata={'source': '/Users/abdoulabdillahi/Desktop/CSC 680/Final_project/chat_slang/data/slang.csv', 'row': 204}),\n",
       " Document(page_content=': 205\\nacronym: qq\\nexpansion: crying', metadata={'source': '/Users/abdoulabdillahi/Desktop/CSC 680/Final_project/chat_slang/data/slang.csv', 'row': 205}),\n",
       " Document(page_content=': 206\\nacronym: rak\\nexpansion: random act of kindness', metadata={'source': '/Users/abdoulabdillahi/Desktop/CSC 680/Final_project/chat_slang/data/slang.csv', 'row': 206}),\n",
       " Document(page_content=': 207\\nacronym: rbtl\\nexpansion: read between the lines', metadata={'source': '/Users/abdoulabdillahi/Desktop/CSC 680/Final_project/chat_slang/data/slang.csv', 'row': 207}),\n",
       " Document(page_content=': 208\\nacronym: rip\\nexpansion: rest in peace', metadata={'source': '/Users/abdoulabdillahi/Desktop/CSC 680/Final_project/chat_slang/data/slang.csv', 'row': 208}),\n",
       " Document(page_content=': 209\\nacronym: rl\\nexpansion: real life', metadata={'source': '/Users/abdoulabdillahi/Desktop/CSC 680/Final_project/chat_slang/data/slang.csv', 'row': 209}),\n",
       " Document(page_content=': 210\\nacronym: rofl\\nexpansion: rolling on the floor laughing', metadata={'source': '/Users/abdoulabdillahi/Desktop/CSC 680/Final_project/chat_slang/data/slang.csv', 'row': 210}),\n",
       " Document(page_content=': 211\\nacronym: rt\\nexpansion: real time', metadata={'source': '/Users/abdoulabdillahi/Desktop/CSC 680/Final_project/chat_slang/data/slang.csv', 'row': 211}),\n",
       " Document(page_content=': 212\\nacronym: rtm\\nexpansion: read the manual', metadata={'source': '/Users/abdoulabdillahi/Desktop/CSC 680/Final_project/chat_slang/data/slang.csv', 'row': 212}),\n",
       " Document(page_content=': 213\\nacronym: rys\\nexpansion: are you single', metadata={'source': '/Users/abdoulabdillahi/Desktop/CSC 680/Final_project/chat_slang/data/slang.csv', 'row': 213}),\n",
       " Document(page_content=': 214\\nacronym: sby\\nexpansion: somebody', metadata={'source': '/Users/abdoulabdillahi/Desktop/CSC 680/Final_project/chat_slang/data/slang.csv', 'row': 214}),\n",
       " Document(page_content=': 215\\nacronym: sfaik\\nexpansion: so far as i know', metadata={'source': '/Users/abdoulabdillahi/Desktop/CSC 680/Final_project/chat_slang/data/slang.csv', 'row': 215}),\n",
       " Document(page_content=': 216\\nacronym: sh\\nexpansion: shit happens', metadata={'source': '/Users/abdoulabdillahi/Desktop/CSC 680/Final_project/chat_slang/data/slang.csv', 'row': 216}),\n",
       " Document(page_content=': 217\\nacronym: simyc\\nexpansion: sorry i missed your call', metadata={'source': '/Users/abdoulabdillahi/Desktop/CSC 680/Final_project/chat_slang/data/slang.csv', 'row': 217}),\n",
       " Document(page_content=': 218\\nacronym: sis\\nexpansion: sister', metadata={'source': '/Users/abdoulabdillahi/Desktop/CSC 680/Final_project/chat_slang/data/slang.csv', 'row': 218}),\n",
       " Document(page_content=': 219\\nacronym: sitd\\nexpansion: still in the dark', metadata={'source': '/Users/abdoulabdillahi/Desktop/CSC 680/Final_project/chat_slang/data/slang.csv', 'row': 219}),\n",
       " Document(page_content=': 220\\nacronym: smh\\nexpansion: shaking my head', metadata={'source': '/Users/abdoulabdillahi/Desktop/CSC 680/Final_project/chat_slang/data/slang.csv', 'row': 220}),\n",
       " Document(page_content=': 221\\nacronym: sol\\nexpansion: sooner or later', metadata={'source': '/Users/abdoulabdillahi/Desktop/CSC 680/Final_project/chat_slang/data/slang.csv', 'row': 221}),\n",
       " Document(page_content=': 222\\nacronym: srsly\\nexpansion: seriously', metadata={'source': '/Users/abdoulabdillahi/Desktop/CSC 680/Final_project/chat_slang/data/slang.csv', 'row': 222}),\n",
       " Document(page_content=': 223\\nacronym: sry\\nexpansion: sorry', metadata={'source': '/Users/abdoulabdillahi/Desktop/CSC 680/Final_project/chat_slang/data/slang.csv', 'row': 223}),\n",
       " Document(page_content=': 224\\nacronym: ssdd\\nexpansion: same stuff different day', metadata={'source': '/Users/abdoulabdillahi/Desktop/CSC 680/Final_project/chat_slang/data/slang.csv', 'row': 224}),\n",
       " Document(page_content=': 225\\nacronym: stby\\nexpansion: sucks to be you', metadata={'source': '/Users/abdoulabdillahi/Desktop/CSC 680/Final_project/chat_slang/data/slang.csv', 'row': 225}),\n",
       " Document(page_content=': 226\\nacronym: swak\\nexpansion: sealed  with a kiss', metadata={'source': '/Users/abdoulabdillahi/Desktop/CSC 680/Final_project/chat_slang/data/slang.csv', 'row': 226}),\n",
       " Document(page_content=': 227\\nacronym: swyp\\nexpansion: so what is your problem', metadata={'source': '/Users/abdoulabdillahi/Desktop/CSC 680/Final_project/chat_slang/data/slang.csv', 'row': 227}),\n",
       " Document(page_content=': 228\\nacronym: tafn\\nexpansion: that is all for now', metadata={'source': '/Users/abdoulabdillahi/Desktop/CSC 680/Final_project/chat_slang/data/slang.csv', 'row': 228}),\n",
       " Document(page_content=': 229\\nacronym: tba\\nexpansion: to be announced', metadata={'source': '/Users/abdoulabdillahi/Desktop/CSC 680/Final_project/chat_slang/data/slang.csv', 'row': 229}),\n",
       " Document(page_content=': 230\\nacronym: tbc\\nexpansion: to be continued', metadata={'source': '/Users/abdoulabdillahi/Desktop/CSC 680/Final_project/chat_slang/data/slang.csv', 'row': 230}),\n",
       " Document(page_content=': 231\\nacronym: tbh\\nexpansion: to be honest', metadata={'source': '/Users/abdoulabdillahi/Desktop/CSC 680/Final_project/chat_slang/data/slang.csv', 'row': 231}),\n",
       " Document(page_content=': 232\\nacronym: tbl\\nexpansion: text back later', metadata={'source': '/Users/abdoulabdillahi/Desktop/CSC 680/Final_project/chat_slang/data/slang.csv', 'row': 232}),\n",
       " Document(page_content=': 233\\nacronym: tcb\\nexpansion: take care of business', metadata={'source': '/Users/abdoulabdillahi/Desktop/CSC 680/Final_project/chat_slang/data/slang.csv', 'row': 233}),\n",
       " Document(page_content=': 234\\nacronym: tfh\\nexpansion: thread from hell', metadata={'source': '/Users/abdoulabdillahi/Desktop/CSC 680/Final_project/chat_slang/data/slang.csv', 'row': 234}),\n",
       " Document(page_content=': 235\\nacronym: tfs\\nexpansion: thanks for sharing', metadata={'source': '/Users/abdoulabdillahi/Desktop/CSC 680/Final_project/chat_slang/data/slang.csv', 'row': 235}),\n",
       " Document(page_content=': 236\\nacronym: tfti\\nexpansion: thanks for the invitation', metadata={'source': '/Users/abdoulabdillahi/Desktop/CSC 680/Final_project/chat_slang/data/slang.csv', 'row': 236}),\n",
       " Document(page_content=': 237\\nacronym: tgif\\nexpansion: thank god it is friday', metadata={'source': '/Users/abdoulabdillahi/Desktop/CSC 680/Final_project/chat_slang/data/slang.csv', 'row': 237}),\n",
       " Document(page_content=': 238\\nacronym: thx\\nexpansion: thanks', metadata={'source': '/Users/abdoulabdillahi/Desktop/CSC 680/Final_project/chat_slang/data/slang.csv', 'row': 238}),\n",
       " Document(page_content=': 239\\nacronym: tia\\nexpansion: thanks in advance', metadata={'source': '/Users/abdoulabdillahi/Desktop/CSC 680/Final_project/chat_slang/data/slang.csv', 'row': 239}),\n",
       " Document(page_content=': 240\\nacronym: tiad\\nexpansion: tomorrow is another day', metadata={'source': '/Users/abdoulabdillahi/Desktop/CSC 680/Final_project/chat_slang/data/slang.csv', 'row': 240}),\n",
       " Document(page_content=': 241\\nacronym: time\\nexpansion: tears in my eyes', metadata={'source': '/Users/abdoulabdillahi/Desktop/CSC 680/Final_project/chat_slang/data/slang.csv', 'row': 241}),\n",
       " Document(page_content=': 242\\nacronym: tlc\\nexpansion: tender loving care', metadata={'source': '/Users/abdoulabdillahi/Desktop/CSC 680/Final_project/chat_slang/data/slang.csv', 'row': 242}),\n",
       " Document(page_content=': 243\\nacronym: tlk2ul8r\\nexpansion: talk to you later', metadata={'source': '/Users/abdoulabdillahi/Desktop/CSC 680/Final_project/chat_slang/data/slang.csv', 'row': 243}),\n",
       " Document(page_content=': 244\\nacronym: tmi\\nexpansion: too much information', metadata={'source': '/Users/abdoulabdillahi/Desktop/CSC 680/Final_project/chat_slang/data/slang.csv', 'row': 244}),\n",
       " Document(page_content=': 245\\nacronym: tmrw\\nexpansion: tomorrow', metadata={'source': '/Users/abdoulabdillahi/Desktop/CSC 680/Final_project/chat_slang/data/slang.csv', 'row': 245}),\n",
       " Document(page_content=': 246\\nacronym: ttyl\\nexpansion: talk to you later', metadata={'source': '/Users/abdoulabdillahi/Desktop/CSC 680/Final_project/chat_slang/data/slang.csv', 'row': 246}),\n",
       " Document(page_content=': 247\\nacronym: ttys\\nexpansion: talk to you soon', metadata={'source': '/Users/abdoulabdillahi/Desktop/CSC 680/Final_project/chat_slang/data/slang.csv', 'row': 247}),\n",
       " Document(page_content=': 248\\nacronym: tyfyc\\nexpansion: thank you for your comment', metadata={'source': '/Users/abdoulabdillahi/Desktop/CSC 680/Final_project/chat_slang/data/slang.csv', 'row': 248}),\n",
       " Document(page_content=': 249\\nacronym: tyvm\\nexpansion: thank you very much', metadata={'source': '/Users/abdoulabdillahi/Desktop/CSC 680/Final_project/chat_slang/data/slang.csv', 'row': 249}),\n",
       " Document(page_content=': 250\\nacronym: u4e\\nexpansion: you forever', metadata={'source': '/Users/abdoulabdillahi/Desktop/CSC 680/Final_project/chat_slang/data/slang.csv', 'row': 250}),\n",
       " Document(page_content=': 251\\nacronym: ur\\nexpansion: your', metadata={'source': '/Users/abdoulabdillahi/Desktop/CSC 680/Final_project/chat_slang/data/slang.csv', 'row': 251}),\n",
       " Document(page_content=': 252\\nacronym: vat\\nexpansion: value added tax', metadata={'source': '/Users/abdoulabdillahi/Desktop/CSC 680/Final_project/chat_slang/data/slang.csv', 'row': 252}),\n",
       " Document(page_content=': 253\\nacronym: vbg\\nexpansion: very big grin', metadata={'source': '/Users/abdoulabdillahi/Desktop/CSC 680/Final_project/chat_slang/data/slang.csv', 'row': 253}),\n",
       " Document(page_content=': 254\\nacronym: vsf\\nexpansion: very sad face', metadata={'source': '/Users/abdoulabdillahi/Desktop/CSC 680/Final_project/chat_slang/data/slang.csv', 'row': 254}),\n",
       " Document(page_content=': 255\\nacronym: wam\\nexpansion: wait a minute', metadata={'source': '/Users/abdoulabdillahi/Desktop/CSC 680/Final_project/chat_slang/data/slang.csv', 'row': 255}),\n",
       " Document(page_content=': 256\\nacronym: wb\\nexpansion: welcome back', metadata={'source': '/Users/abdoulabdillahi/Desktop/CSC 680/Final_project/chat_slang/data/slang.csv', 'row': 256}),\n",
       " Document(page_content=': 257\\nacronym: wc\\nexpansion: who cares', metadata={'source': '/Users/abdoulabdillahi/Desktop/CSC 680/Final_project/chat_slang/data/slang.csv', 'row': 257}),\n",
       " Document(page_content=': 258\\nacronym: we\\nexpansion: whatever', metadata={'source': '/Users/abdoulabdillahi/Desktop/CSC 680/Final_project/chat_slang/data/slang.csv', 'row': 258}),\n",
       " Document(page_content=': 259\\nacronym: weg\\nexpansion: wicked evil grin', metadata={'source': '/Users/abdoulabdillahi/Desktop/CSC 680/Final_project/chat_slang/data/slang.csv', 'row': 259}),\n",
       " Document(page_content=': 260\\nacronym: witp\\nexpansion: what is the point', metadata={'source': '/Users/abdoulabdillahi/Desktop/CSC 680/Final_project/chat_slang/data/slang.csv', 'row': 260}),\n",
       " Document(page_content=': 261\\nacronym: wknd\\nexpansion: weekend', metadata={'source': '/Users/abdoulabdillahi/Desktop/CSC 680/Final_project/chat_slang/data/slang.csv', 'row': 261}),\n",
       " Document(page_content=': 262\\nacronym: wtf\\nexpansion: what the fuck', metadata={'source': '/Users/abdoulabdillahi/Desktop/CSC 680/Final_project/chat_slang/data/slang.csv', 'row': 262}),\n",
       " Document(page_content=': 263\\nacronym: wth\\nexpansion: what the heck', metadata={'source': '/Users/abdoulabdillahi/Desktop/CSC 680/Final_project/chat_slang/data/slang.csv', 'row': 263}),\n",
       " Document(page_content=': 264\\nacronym: wtpa\\nexpansion: where the party at', metadata={'source': '/Users/abdoulabdillahi/Desktop/CSC 680/Final_project/chat_slang/data/slang.csv', 'row': 264}),\n",
       " Document(page_content=': 265\\nacronym: wuf\\nexpansion: where are you from', metadata={'source': '/Users/abdoulabdillahi/Desktop/CSC 680/Final_project/chat_slang/data/slang.csv', 'row': 265}),\n",
       " Document(page_content=': 266\\nacronym: wycm\\nexpansion: will you call me', metadata={'source': '/Users/abdoulabdillahi/Desktop/CSC 680/Final_project/chat_slang/data/slang.csv', 'row': 266}),\n",
       " Document(page_content=': 267\\nacronym: wywh\\nexpansion: wish you were here', metadata={'source': '/Users/abdoulabdillahi/Desktop/CSC 680/Final_project/chat_slang/data/slang.csv', 'row': 267}),\n",
       " Document(page_content=': 268\\nacronym: xlnt\\nexpansion: excellent', metadata={'source': '/Users/abdoulabdillahi/Desktop/CSC 680/Final_project/chat_slang/data/slang.csv', 'row': 268}),\n",
       " Document(page_content=': 269\\nacronym: xoxo\\nexpansion: hugs and kisses', metadata={'source': '/Users/abdoulabdillahi/Desktop/CSC 680/Final_project/chat_slang/data/slang.csv', 'row': 269}),\n",
       " Document(page_content=': 270\\nacronym: ycmu\\nexpansion: you crack me up', metadata={'source': '/Users/abdoulabdillahi/Desktop/CSC 680/Final_project/chat_slang/data/slang.csv', 'row': 270}),\n",
       " Document(page_content=': 271\\nacronym: ygm\\nexpansion: you have got mail', metadata={'source': '/Users/abdoulabdillahi/Desktop/CSC 680/Final_project/chat_slang/data/slang.csv', 'row': 271}),\n",
       " Document(page_content=': 272\\nacronym: ymmv\\nexpansion: your mileage may vary', metadata={'source': '/Users/abdoulabdillahi/Desktop/CSC 680/Final_project/chat_slang/data/slang.csv', 'row': 272}),\n",
       " Document(page_content=': 273\\nacronym: yolo\\nexpansion: you only live once', metadata={'source': '/Users/abdoulabdillahi/Desktop/CSC 680/Final_project/chat_slang/data/slang.csv', 'row': 273}),\n",
       " Document(page_content=': 274\\nacronym: ytb\\nexpansion: you are the best', metadata={'source': '/Users/abdoulabdillahi/Desktop/CSC 680/Final_project/chat_slang/data/slang.csv', 'row': 274}),\n",
       " Document(page_content=': 275\\nacronym: yw\\nexpansion: you are welcome', metadata={'source': '/Users/abdoulabdillahi/Desktop/CSC 680/Final_project/chat_slang/data/slang.csv', 'row': 275}),\n",
       " Document(page_content=': 276\\nacronym: ywsyls\\nexpansion: you win some you lose some', metadata={'source': '/Users/abdoulabdillahi/Desktop/CSC 680/Final_project/chat_slang/data/slang.csv', 'row': 276}),\n",
       " Document(page_content=': 277\\nacronym: aab\\nexpansion: average at best', metadata={'source': '/Users/abdoulabdillahi/Desktop/CSC 680/Final_project/chat_slang/data/slang.csv', 'row': 277}),\n",
       " Document(page_content=': 278\\nacronym: aac\\nexpansion: apple audio compression', metadata={'source': '/Users/abdoulabdillahi/Desktop/CSC 680/Final_project/chat_slang/data/slang.csv', 'row': 278}),\n",
       " Document(page_content=': 279\\nacronym: aaf\\nexpansion: always and forever', metadata={'source': '/Users/abdoulabdillahi/Desktop/CSC 680/Final_project/chat_slang/data/slang.csv', 'row': 279}),\n",
       " Document(page_content=': 280\\nacronym: aak\\nexpansion: alive and kicking', metadata={'source': '/Users/abdoulabdillahi/Desktop/CSC 680/Final_project/chat_slang/data/slang.csv', 'row': 280}),\n",
       " Document(page_content=': 281\\nacronym: aamof\\nexpansion: as a matter of fact', metadata={'source': '/Users/abdoulabdillahi/Desktop/CSC 680/Final_project/chat_slang/data/slang.csv', 'row': 281}),\n",
       " Document(page_content=': 282\\nacronym: aap\\nexpansion: always a pleasure', metadata={'source': '/Users/abdoulabdillahi/Desktop/CSC 680/Final_project/chat_slang/data/slang.csv', 'row': 282}),\n",
       " Document(page_content=': 283\\nacronym: aar\\nexpansion: at any rate', metadata={'source': '/Users/abdoulabdillahi/Desktop/CSC 680/Final_project/chat_slang/data/slang.csv', 'row': 283}),\n",
       " Document(page_content=': 284\\nacronym: aarp\\nexpansion: american association of retired persons', metadata={'source': '/Users/abdoulabdillahi/Desktop/CSC 680/Final_project/chat_slang/data/slang.csv', 'row': 284}),\n",
       " Document(page_content=': 285\\nacronym: aat\\nexpansion: and another thing at all times', metadata={'source': '/Users/abdoulabdillahi/Desktop/CSC 680/Final_project/chat_slang/data/slang.csv', 'row': 285}),\n",
       " Document(page_content=': 286\\nacronym: aawy\\nexpansion: and also with you', metadata={'source': '/Users/abdoulabdillahi/Desktop/CSC 680/Final_project/chat_slang/data/slang.csv', 'row': 286}),\n",
       " Document(page_content=': 287\\nacronym: aayf\\nexpansion: as always your friend', metadata={'source': '/Users/abdoulabdillahi/Desktop/CSC 680/Final_project/chat_slang/data/slang.csv', 'row': 287}),\n",
       " Document(page_content=': 288\\nacronym: abc\\nexpansion: american born chinese', metadata={'source': '/Users/abdoulabdillahi/Desktop/CSC 680/Final_project/chat_slang/data/slang.csv', 'row': 288}),\n",
       " Document(page_content=': 289\\nacronym: abd\\nexpansion: already been done', metadata={'source': '/Users/abdoulabdillahi/Desktop/CSC 680/Final_project/chat_slang/data/slang.csv', 'row': 289}),\n",
       " Document(page_content=': 290\\nacronym: abdc\\nexpansion: americas best dance crew', metadata={'source': '/Users/abdoulabdillahi/Desktop/CSC 680/Final_project/chat_slang/data/slang.csv', 'row': 290}),\n",
       " Document(page_content=': 291\\nacronym: abf\\nexpansion: all but face', metadata={'source': '/Users/abdoulabdillahi/Desktop/CSC 680/Final_project/chat_slang/data/slang.csv', 'row': 291}),\n",
       " Document(page_content=': 292\\nacronym: abfab\\nexpansion: absolutely fabulous', metadata={'source': '/Users/abdoulabdillahi/Desktop/CSC 680/Final_project/chat_slang/data/slang.csv', 'row': 292}),\n",
       " Document(page_content=': 293\\nacronym: abg\\nexpansion: asian baby girl', metadata={'source': '/Users/abdoulabdillahi/Desktop/CSC 680/Final_project/chat_slang/data/slang.csv', 'row': 293}),\n",
       " Document(page_content=': 294\\nacronym: abh\\nexpansion: actual bodily harm', metadata={'source': '/Users/abdoulabdillahi/Desktop/CSC 680/Final_project/chat_slang/data/slang.csv', 'row': 294}),\n",
       " Document(page_content=': 295\\nacronym: abp\\nexpansion: already been posted', metadata={'source': '/Users/abdoulabdillahi/Desktop/CSC 680/Final_project/chat_slang/data/slang.csv', 'row': 295}),\n",
       " Document(page_content=': 296\\nacronym: abu\\nexpansion: anyone but  united', metadata={'source': '/Users/abdoulabdillahi/Desktop/CSC 680/Final_project/chat_slang/data/slang.csv', 'row': 296}),\n",
       " Document(page_content=': 297\\nacronym: ac\\nexpansion: air conditioning alternating current', metadata={'source': '/Users/abdoulabdillahi/Desktop/CSC 680/Final_project/chat_slang/data/slang.csv', 'row': 297}),\n",
       " Document(page_content=': 298\\nacronym: aclu\\nexpansion: american civil liberties union', metadata={'source': '/Users/abdoulabdillahi/Desktop/CSC 680/Final_project/chat_slang/data/slang.csv', 'row': 298}),\n",
       " Document(page_content=': 299\\nacronym: acme\\nexpansion: a company that makes everything', metadata={'source': '/Users/abdoulabdillahi/Desktop/CSC 680/Final_project/chat_slang/data/slang.csv', 'row': 299}),\n",
       " Document(page_content=': 300\\nacronym: acp\\nexpansion: automatic colt pistol', metadata={'source': '/Users/abdoulabdillahi/Desktop/CSC 680/Final_project/chat_slang/data/slang.csv', 'row': 300}),\n",
       " Document(page_content=': 301\\nacronym: acta\\nexpansion: anti counterfeiting trade agreement', metadata={'source': '/Users/abdoulabdillahi/Desktop/CSC 680/Final_project/chat_slang/data/slang.csv', 'row': 301}),\n",
       " Document(page_content=': 302\\nacronym: acu\\nexpansion: army combat uniform', metadata={'source': '/Users/abdoulabdillahi/Desktop/CSC 680/Final_project/chat_slang/data/slang.csv', 'row': 302}),\n",
       " Document(page_content=': 303\\nacronym: ad\\nexpansion: anno domini', metadata={'source': '/Users/abdoulabdillahi/Desktop/CSC 680/Final_project/chat_slang/data/slang.csv', 'row': 303}),\n",
       " Document(page_content=': 304\\nacronym: adad\\nexpansion: another day another dollar', metadata={'source': '/Users/abdoulabdillahi/Desktop/CSC 680/Final_project/chat_slang/data/slang.csv', 'row': 304}),\n",
       " Document(page_content=': 305\\nacronym: add\\nexpansion: attention deficit disorder', metadata={'source': '/Users/abdoulabdillahi/Desktop/CSC 680/Final_project/chat_slang/data/slang.csv', 'row': 305}),\n",
       " Document(page_content=': 306\\nacronym: aded\\nexpansion: all day every day', metadata={'source': '/Users/abdoulabdillahi/Desktop/CSC 680/Final_project/chat_slang/data/slang.csv', 'row': 306}),\n",
       " Document(page_content=': 307\\nacronym: adgth\\nexpansion: all dogs go to heaven', metadata={'source': '/Users/abdoulabdillahi/Desktop/CSC 680/Final_project/chat_slang/data/slang.csv', 'row': 307}),\n",
       " Document(page_content=': 308\\nacronym: adhd\\nexpansion: attention deficit hyperactivity disorder', metadata={'source': '/Users/abdoulabdillahi/Desktop/CSC 680/Final_project/chat_slang/data/slang.csv', 'row': 308}),\n",
       " Document(page_content=': 309\\nacronym: adl\\nexpansion: all day long', metadata={'source': '/Users/abdoulabdillahi/Desktop/CSC 680/Final_project/chat_slang/data/slang.csv', 'row': 309}),\n",
       " Document(page_content=': 310\\nacronym: adn\\nexpansion: any day now', metadata={'source': '/Users/abdoulabdillahi/Desktop/CSC 680/Final_project/chat_slang/data/slang.csv', 'row': 310}),\n",
       " Document(page_content=': 311\\nacronym: adr\\nexpansion: all due respect', metadata={'source': '/Users/abdoulabdillahi/Desktop/CSC 680/Final_project/chat_slang/data/slang.csv', 'row': 311}),\n",
       " Document(page_content=': 312\\nacronym: ads\\nexpansion: aim down sights', metadata={'source': '/Users/abdoulabdillahi/Desktop/CSC 680/Final_project/chat_slang/data/slang.csv', 'row': 312}),\n",
       " Document(page_content=': 313\\nacronym: adsl\\nexpansion: asymmetric digital subscriber line', metadata={'source': '/Users/abdoulabdillahi/Desktop/CSC 680/Final_project/chat_slang/data/slang.csv', 'row': 313}),\n",
       " Document(page_content=': 314\\nacronym: adtr\\nexpansion: a day to remember', metadata={'source': '/Users/abdoulabdillahi/Desktop/CSC 680/Final_project/chat_slang/data/slang.csv', 'row': 314}),\n",
       " Document(page_content=': 315\\nacronym: ae\\nexpansion: american eagle', metadata={'source': '/Users/abdoulabdillahi/Desktop/CSC 680/Final_project/chat_slang/data/slang.csv', 'row': 315}),\n",
       " Document(page_content=': 316\\nacronym: aeae\\nexpansion: and ever and ever', metadata={'source': '/Users/abdoulabdillahi/Desktop/CSC 680/Final_project/chat_slang/data/slang.csv', 'row': 316}),\n",
       " Document(page_content=': 317\\nacronym: aeap\\nexpansion: as early as possible', metadata={'source': '/Users/abdoulabdillahi/Desktop/CSC 680/Final_project/chat_slang/data/slang.csv', 'row': 317}),\n",
       " Document(page_content=': 318\\nacronym: afaia\\nexpansion: as far as i am aware', metadata={'source': '/Users/abdoulabdillahi/Desktop/CSC 680/Final_project/chat_slang/data/slang.csv', 'row': 318}),\n",
       " Document(page_content=': 319\\nacronym: afaiaa\\nexpansion: as far as i am aware', metadata={'source': '/Users/abdoulabdillahi/Desktop/CSC 680/Final_project/chat_slang/data/slang.csv', 'row': 319}),\n",
       " Document(page_content=': 320\\nacronym: afaiac\\nexpansion: as far as i am concerned', metadata={'source': '/Users/abdoulabdillahi/Desktop/CSC 680/Final_project/chat_slang/data/slang.csv', 'row': 320}),\n",
       " Document(page_content=': 321\\nacronym: afaic\\nexpansion: as far as i am concerned', metadata={'source': '/Users/abdoulabdillahi/Desktop/CSC 680/Final_project/chat_slang/data/slang.csv', 'row': 321}),\n",
       " Document(page_content=': 322\\nacronym: afaics\\nexpansion: as far as i can see', metadata={'source': '/Users/abdoulabdillahi/Desktop/CSC 680/Final_project/chat_slang/data/slang.csv', 'row': 322}),\n",
       " Document(page_content=': 323\\nacronym: afaict\\nexpansion: as far as i can tell', metadata={'source': '/Users/abdoulabdillahi/Desktop/CSC 680/Final_project/chat_slang/data/slang.csv', 'row': 323}),\n",
       " Document(page_content=': 324\\nacronym: afaik\\nexpansion: as far as i know', metadata={'source': '/Users/abdoulabdillahi/Desktop/CSC 680/Final_project/chat_slang/data/slang.csv', 'row': 324}),\n",
       " Document(page_content=': 325\\nacronym: afair\\nexpansion: as far as i remember', metadata={'source': '/Users/abdoulabdillahi/Desktop/CSC 680/Final_project/chat_slang/data/slang.csv', 'row': 325}),\n",
       " Document(page_content=': 326\\nacronym: afap\\nexpansion: as far as possible', metadata={'source': '/Users/abdoulabdillahi/Desktop/CSC 680/Final_project/chat_slang/data/slang.csv', 'row': 326}),\n",
       " Document(page_content=': 327\\nacronym: afc\\nexpansion: away from computer', metadata={'source': '/Users/abdoulabdillahi/Desktop/CSC 680/Final_project/chat_slang/data/slang.csv', 'row': 327}),\n",
       " Document(page_content=': 328\\nacronym: affa\\nexpansion: angels forever forever angels', metadata={'source': '/Users/abdoulabdillahi/Desktop/CSC 680/Final_project/chat_slang/data/slang.csv', 'row': 328}),\n",
       " Document(page_content=': 329\\nacronym: afi\\nexpansion: a fire inside', metadata={'source': '/Users/abdoulabdillahi/Desktop/CSC 680/Final_project/chat_slang/data/slang.csv', 'row': 329}),\n",
       " Document(page_content=': 330\\nacronym: afk\\nexpansion: away from keyboard', metadata={'source': '/Users/abdoulabdillahi/Desktop/CSC 680/Final_project/chat_slang/data/slang.csv', 'row': 330}),\n",
       " Document(page_content=': 331\\nacronym: afl\\nexpansion: australian football league', metadata={'source': '/Users/abdoulabdillahi/Desktop/CSC 680/Final_project/chat_slang/data/slang.csv', 'row': 331}),\n",
       " Document(page_content=': 332\\nacronym: afn\\nexpansion: all for now', metadata={'source': '/Users/abdoulabdillahi/Desktop/CSC 680/Final_project/chat_slang/data/slang.csv', 'row': 332}),\n",
       " Document(page_content=': 333\\nacronym: afp\\nexpansion: away from phone', metadata={'source': '/Users/abdoulabdillahi/Desktop/CSC 680/Final_project/chat_slang/data/slang.csv', 'row': 333}),\n",
       " Document(page_content=': 334\\nacronym: afrl\\nexpansion: away from real life', metadata={'source': '/Users/abdoulabdillahi/Desktop/CSC 680/Final_project/chat_slang/data/slang.csv', 'row': 334}),\n",
       " Document(page_content=': 335\\nacronym: afs\\nexpansion: always forever and seriously', metadata={'source': '/Users/abdoulabdillahi/Desktop/CSC 680/Final_project/chat_slang/data/slang.csv', 'row': 335}),\n",
       " Document(page_content=': 336\\nacronym: agc\\nexpansion: automatic gain control', metadata={'source': '/Users/abdoulabdillahi/Desktop/CSC 680/Final_project/chat_slang/data/slang.csv', 'row': 336}),\n",
       " Document(page_content=': 337\\nacronym: agh\\nexpansion: are not going to happen', metadata={'source': '/Users/abdoulabdillahi/Desktop/CSC 680/Final_project/chat_slang/data/slang.csv', 'row': 337}),\n",
       " Document(page_content=': 338\\nacronym: agm\\nexpansion: annual general meeting', metadata={'source': '/Users/abdoulabdillahi/Desktop/CSC 680/Final_project/chat_slang/data/slang.csv', 'row': 338}),\n",
       " Document(page_content=': 339\\nacronym: agp\\nexpansion: accelerated graphics port', metadata={'source': '/Users/abdoulabdillahi/Desktop/CSC 680/Final_project/chat_slang/data/slang.csv', 'row': 339}),\n",
       " Document(page_content=': 340\\nacronym: agt\\nexpansion: americas got talent', metadata={'source': '/Users/abdoulabdillahi/Desktop/CSC 680/Final_project/chat_slang/data/slang.csv', 'row': 340}),\n",
       " Document(page_content=': 341\\nacronym: agw\\nexpansion: all going well', metadata={'source': '/Users/abdoulabdillahi/Desktop/CSC 680/Final_project/chat_slang/data/slang.csv', 'row': 341}),\n",
       " Document(page_content=': 342\\nacronym: ai\\nexpansion: artificial intelligence as if', metadata={'source': '/Users/abdoulabdillahi/Desktop/CSC 680/Final_project/chat_slang/data/slang.csv', 'row': 342}),\n",
       " Document(page_content=': 343\\nacronym: aib\\nexpansion: am i boverd', metadata={'source': '/Users/abdoulabdillahi/Desktop/CSC 680/Final_project/chat_slang/data/slang.csv', 'row': 343}),\n",
       " Document(page_content=': 344\\nacronym: aids\\nexpansion: acquired immune deficiency syndrome', metadata={'source': '/Users/abdoulabdillahi/Desktop/CSC 680/Final_project/chat_slang/data/slang.csv', 'row': 344}),\n",
       " Document(page_content=': 345\\nacronym: aigf\\nexpansion: all in good fun', metadata={'source': '/Users/abdoulabdillahi/Desktop/CSC 680/Final_project/chat_slang/data/slang.csv', 'row': 345}),\n",
       " Document(page_content=': 346\\nacronym: aiic\\nexpansion: as if i care', metadata={'source': '/Users/abdoulabdillahi/Desktop/CSC 680/Final_project/chat_slang/data/slang.csv', 'row': 346}),\n",
       " Document(page_content=': 347\\nacronym: aikrn\\nexpansion: all i know right now', metadata={'source': '/Users/abdoulabdillahi/Desktop/CSC 680/Final_project/chat_slang/data/slang.csv', 'row': 347}),\n",
       " Document(page_content=': 348\\nacronym: aimh\\nexpansion: always in my heart', metadata={'source': '/Users/abdoulabdillahi/Desktop/CSC 680/Final_project/chat_slang/data/slang.csv', 'row': 348}),\n",
       " Document(page_content=': 349\\nacronym: ainec\\nexpansion: and it is not even close', metadata={'source': '/Users/abdoulabdillahi/Desktop/CSC 680/Final_project/chat_slang/data/slang.csv', 'row': 349}),\n",
       " Document(page_content=': 350\\nacronym: aio\\nexpansion: all in one', metadata={'source': '/Users/abdoulabdillahi/Desktop/CSC 680/Final_project/chat_slang/data/slang.csv', 'row': 350}),\n",
       " Document(page_content=': 351\\nacronym: aisb\\nexpansion: as i said before', metadata={'source': '/Users/abdoulabdillahi/Desktop/CSC 680/Final_project/chat_slang/data/slang.csv', 'row': 351}),\n",
       " Document(page_content=': 352\\nacronym: aisi\\nexpansion: as i see it', metadata={'source': '/Users/abdoulabdillahi/Desktop/CSC 680/Final_project/chat_slang/data/slang.csv', 'row': 352}),\n",
       " Document(page_content=': 353\\nacronym: aitr\\nexpansion: adult in the room', metadata={'source': '/Users/abdoulabdillahi/Desktop/CSC 680/Final_project/chat_slang/data/slang.csv', 'row': 353}),\n",
       " Document(page_content=': 354\\nacronym: aityd\\nexpansion: and i think you do', metadata={'source': '/Users/abdoulabdillahi/Desktop/CSC 680/Final_project/chat_slang/data/slang.csv', 'row': 354}),\n",
       " Document(page_content=': 355\\nacronym: aiui\\nexpansion: as i understand it', metadata={'source': '/Users/abdoulabdillahi/Desktop/CSC 680/Final_project/chat_slang/data/slang.csv', 'row': 355}),\n",
       " Document(page_content=': 356\\nacronym: aiyc\\nexpansion: as if you care', metadata={'source': '/Users/abdoulabdillahi/Desktop/CSC 680/Final_project/chat_slang/data/slang.csv', 'row': 356}),\n",
       " Document(page_content=': 357\\nacronym: aj\\nexpansion: apple juice', metadata={'source': '/Users/abdoulabdillahi/Desktop/CSC 680/Final_project/chat_slang/data/slang.csv', 'row': 357}),\n",
       " Document(page_content=': 358\\nacronym: aktf\\nexpansion: always keep the faith', metadata={'source': '/Users/abdoulabdillahi/Desktop/CSC 680/Final_project/chat_slang/data/slang.csv', 'row': 358}),\n",
       " Document(page_content=': 359\\nacronym: alf\\nexpansion: animal liberation front', metadata={'source': '/Users/abdoulabdillahi/Desktop/CSC 680/Final_project/chat_slang/data/slang.csv', 'row': 359}),\n",
       " Document(page_content=': 360\\nacronym: alg\\nexpansion: are not life grand', metadata={'source': '/Users/abdoulabdillahi/Desktop/CSC 680/Final_project/chat_slang/data/slang.csv', 'row': 360}),\n",
       " Document(page_content=': 361\\nacronym: alihal\\nexpansion: at least i have a life', metadata={'source': '/Users/abdoulabdillahi/Desktop/CSC 680/Final_project/chat_slang/data/slang.csv', 'row': 361}),\n",
       " Document(page_content=': 362\\nacronym: alkqn\\nexpansion: almighty latin king and queen nation', metadata={'source': '/Users/abdoulabdillahi/Desktop/CSC 680/Final_project/chat_slang/data/slang.csv', 'row': 362}),\n",
       " Document(page_content=': 363\\nacronym: alol\\nexpansion: actually laughing out loud', metadata={'source': '/Users/abdoulabdillahi/Desktop/CSC 680/Final_project/chat_slang/data/slang.csv', 'row': 363}),\n",
       " Document(page_content=': 364\\nacronym: alotbsol\\nexpansion: always look on the bright side of life', metadata={'source': '/Users/abdoulabdillahi/Desktop/CSC 680/Final_project/chat_slang/data/slang.csv', 'row': 364}),\n",
       " Document(page_content=': 365\\nacronym: alu\\nexpansion: arithmetic logic unit', metadata={'source': '/Users/abdoulabdillahi/Desktop/CSC 680/Final_project/chat_slang/data/slang.csv', 'row': 365}),\n",
       " Document(page_content=': 366\\nacronym: alwp\\nexpansion: actual laughter was produced', metadata={'source': '/Users/abdoulabdillahi/Desktop/CSC 680/Final_project/chat_slang/data/slang.csv', 'row': 366}),\n",
       " Document(page_content=': 367\\nacronym: am\\nexpansion: ante meridiem  amplitude modulation', metadata={'source': '/Users/abdoulabdillahi/Desktop/CSC 680/Final_project/chat_slang/data/slang.csv', 'row': 367}),\n",
       " Document(page_content=': 368\\nacronym: ama\\nexpansion: ask me anything against medical advice', metadata={'source': '/Users/abdoulabdillahi/Desktop/CSC 680/Final_project/chat_slang/data/slang.csv', 'row': 368}),\n",
       " Document(page_content=': 369\\nacronym: amaa\\nexpansion: ask me almost anything', metadata={'source': '/Users/abdoulabdillahi/Desktop/CSC 680/Final_project/chat_slang/data/slang.csv', 'row': 369}),\n",
       " Document(page_content=': 370\\nacronym: amap\\nexpansion: as much as possible', metadata={'source': '/Users/abdoulabdillahi/Desktop/CSC 680/Final_project/chat_slang/data/slang.csv', 'row': 370}),\n",
       " Document(page_content=': 371\\nacronym: amc\\nexpansion: american motors corportation', metadata={'source': '/Users/abdoulabdillahi/Desktop/CSC 680/Final_project/chat_slang/data/slang.csv', 'row': 371}),\n",
       " Document(page_content=': 372\\nacronym: amd\\nexpansion: advanced micro devices', metadata={'source': '/Users/abdoulabdillahi/Desktop/CSC 680/Final_project/chat_slang/data/slang.csv', 'row': 372}),\n",
       " Document(page_content=': 373\\nacronym: amg\\nexpansion: ah my god', metadata={'source': '/Users/abdoulabdillahi/Desktop/CSC 680/Final_project/chat_slang/data/slang.csv', 'row': 373}),\n",
       " Document(page_content=': 374\\nacronym: aml\\nexpansion: all my love', metadata={'source': '/Users/abdoulabdillahi/Desktop/CSC 680/Final_project/chat_slang/data/slang.csv', 'row': 374}),\n",
       " Document(page_content=': 375\\nacronym: amn\\nexpansion: any minute now', metadata={'source': '/Users/abdoulabdillahi/Desktop/CSC 680/Final_project/chat_slang/data/slang.csv', 'row': 375}),\n",
       " Document(page_content=': 376\\nacronym: amof\\nexpansion: as a matter of fact', metadata={'source': '/Users/abdoulabdillahi/Desktop/CSC 680/Final_project/chat_slang/data/slang.csv', 'row': 376}),\n",
       " Document(page_content=': 377\\nacronym: amog\\nexpansion: alpha male of group', metadata={'source': '/Users/abdoulabdillahi/Desktop/CSC 680/Final_project/chat_slang/data/slang.csv', 'row': 377}),\n",
       " Document(page_content=': 378\\nacronym: amt\\nexpansion: alpha methyltryptamine', metadata={'source': '/Users/abdoulabdillahi/Desktop/CSC 680/Final_project/chat_slang/data/slang.csv', 'row': 378}),\n",
       " Document(page_content=': 379\\nacronym: amv\\nexpansion: anime music video', metadata={'source': '/Users/abdoulabdillahi/Desktop/CSC 680/Final_project/chat_slang/data/slang.csv', 'row': 379}),\n",
       " Document(page_content=': 380\\nacronym: amw\\nexpansion: americas most wanted', metadata={'source': '/Users/abdoulabdillahi/Desktop/CSC 680/Final_project/chat_slang/data/slang.csv', 'row': 380}),\n",
       " Document(page_content=': 381\\nacronym: an\\nexpansion: authors note', metadata={'source': '/Users/abdoulabdillahi/Desktop/CSC 680/Final_project/chat_slang/data/slang.csv', 'row': 381}),\n",
       " Document(page_content=': 382\\nacronym: anc\\nexpansion: african national congress', metadata={'source': '/Users/abdoulabdillahi/Desktop/CSC 680/Final_project/chat_slang/data/slang.csv', 'row': 382}),\n",
       " Document(page_content=': 383\\nacronym: anfawfos\\nexpansion: and now for a word from our sponsor', metadata={'source': '/Users/abdoulabdillahi/Desktop/CSC 680/Final_project/chat_slang/data/slang.csv', 'row': 383}),\n",
       " Document(page_content=': 384\\nacronym: anfscd\\nexpansion: and now for something completely different', metadata={'source': '/Users/abdoulabdillahi/Desktop/CSC 680/Final_project/chat_slang/data/slang.csv', 'row': 384}),\n",
       " Document(page_content=': 385\\nacronym: ansi\\nexpansion: american national standards institute', metadata={'source': '/Users/abdoulabdillahi/Desktop/CSC 680/Final_project/chat_slang/data/slang.csv', 'row': 385}),\n",
       " Document(page_content=': 386\\nacronym: antm\\nexpansion: americas next top model', metadata={'source': '/Users/abdoulabdillahi/Desktop/CSC 680/Final_project/chat_slang/data/slang.csv', 'row': 386}),\n",
       " Document(page_content=': 387\\nacronym: anzac\\nexpansion: australian and new zealand army corps', metadata={'source': '/Users/abdoulabdillahi/Desktop/CSC 680/Final_project/chat_slang/data/slang.csv', 'row': 387}),\n",
       " Document(page_content=': 388\\nacronym: ao\\nexpansion: adults only', metadata={'source': '/Users/abdoulabdillahi/Desktop/CSC 680/Final_project/chat_slang/data/slang.csv', 'row': 388}),\n",
       " Document(page_content=': 389\\nacronym: aob\\nexpansion: any other business', metadata={'source': '/Users/abdoulabdillahi/Desktop/CSC 680/Final_project/chat_slang/data/slang.csv', 'row': 389}),\n",
       " Document(page_content=': 390\\nacronym: aod\\nexpansion: all of day', metadata={'source': '/Users/abdoulabdillahi/Desktop/CSC 680/Final_project/chat_slang/data/slang.csv', 'row': 390}),\n",
       " Document(page_content=': 391\\nacronym: aoe\\nexpansion: area of effect', metadata={'source': '/Users/abdoulabdillahi/Desktop/CSC 680/Final_project/chat_slang/data/slang.csv', 'row': 391}),\n",
       " Document(page_content=': 392\\nacronym: aok\\nexpansion: age of kings  all ok', metadata={'source': '/Users/abdoulabdillahi/Desktop/CSC 680/Final_project/chat_slang/data/slang.csv', 'row': 392}),\n",
       " Document(page_content=': 393\\nacronym: aom\\nexpansion: age of mythology', metadata={'source': '/Users/abdoulabdillahi/Desktop/CSC 680/Final_project/chat_slang/data/slang.csv', 'row': 393}),\n",
       " Document(page_content=': 394\\nacronym: aon\\nexpansion: all or nothing as of now', metadata={'source': '/Users/abdoulabdillahi/Desktop/CSC 680/Final_project/chat_slang/data/slang.csv', 'row': 394}),\n",
       " Document(page_content=': 395\\nacronym: aos\\nexpansion: ahead of schedule', metadata={'source': '/Users/abdoulabdillahi/Desktop/CSC 680/Final_project/chat_slang/data/slang.csv', 'row': 395}),\n",
       " Document(page_content=': 396\\nacronym: aot\\nexpansion: as opposed to among other things', metadata={'source': '/Users/abdoulabdillahi/Desktop/CSC 680/Final_project/chat_slang/data/slang.csv', 'row': 396}),\n",
       " Document(page_content=': 397\\nacronym: aota\\nexpansion: all of the above', metadata={'source': '/Users/abdoulabdillahi/Desktop/CSC 680/Final_project/chat_slang/data/slang.csv', 'row': 397}),\n",
       " Document(page_content=': 398\\nacronym: aots\\nexpansion: attack of the show', metadata={'source': '/Users/abdoulabdillahi/Desktop/CSC 680/Final_project/chat_slang/data/slang.csv', 'row': 398}),\n",
       " Document(page_content=': 399\\nacronym: aow\\nexpansion: all out war', metadata={'source': '/Users/abdoulabdillahi/Desktop/CSC 680/Final_project/chat_slang/data/slang.csv', 'row': 399}),\n",
       " Document(page_content=': 400\\nacronym: aoyp\\nexpansion: angel on your pillow', metadata={'source': '/Users/abdoulabdillahi/Desktop/CSC 680/Final_project/chat_slang/data/slang.csv', 'row': 400}),\n",
       " Document(page_content=': 401\\nacronym: ap\\nexpansion: associated press', metadata={'source': '/Users/abdoulabdillahi/Desktop/CSC 680/Final_project/chat_slang/data/slang.csv', 'row': 401}),\n",
       " Document(page_content=': 402\\nacronym: apb\\nexpansion: all points bulletin', metadata={'source': '/Users/abdoulabdillahi/Desktop/CSC 680/Final_project/chat_slang/data/slang.csv', 'row': 402}),\n",
       " Document(page_content=': 403\\nacronym: apc\\nexpansion: armoured personnel carrier', metadata={'source': '/Users/abdoulabdillahi/Desktop/CSC 680/Final_project/chat_slang/data/slang.csv', 'row': 403}),\n",
       " Document(page_content=': 404\\nacronym: api\\nexpansion: application programming interface', metadata={'source': '/Users/abdoulabdillahi/Desktop/CSC 680/Final_project/chat_slang/data/slang.csv', 'row': 404}),\n",
       " Document(page_content=': 405\\nacronym: apm\\nexpansion: actions per minute', metadata={'source': '/Users/abdoulabdillahi/Desktop/CSC 680/Final_project/chat_slang/data/slang.csv', 'row': 405}),\n",
       " Document(page_content=': 406\\nacronym: apn\\nexpansion: as per normal', metadata={'source': '/Users/abdoulabdillahi/Desktop/CSC 680/Final_project/chat_slang/data/slang.csv', 'row': 406}),\n",
       " Document(page_content=': 407\\nacronym: apo\\nexpansion: authorized personnel only', metadata={'source': '/Users/abdoulabdillahi/Desktop/CSC 680/Final_project/chat_slang/data/slang.csv', 'row': 407}),\n",
       " Document(page_content=': 408\\nacronym: apu\\nexpansion: as per usual', metadata={'source': '/Users/abdoulabdillahi/Desktop/CSC 680/Final_project/chat_slang/data/slang.csv', 'row': 408}),\n",
       " Document(page_content=': 409\\nacronym: apyr\\nexpansion: as per your request', metadata={'source': '/Users/abdoulabdillahi/Desktop/CSC 680/Final_project/chat_slang/data/slang.csv', 'row': 409}),\n",
       " Document(page_content=': 410\\nacronym: aq\\nexpansion: adventure quest', metadata={'source': '/Users/abdoulabdillahi/Desktop/CSC 680/Final_project/chat_slang/data/slang.csv', 'row': 410}),\n",
       " Document(page_content=': 411\\nacronym: aqap\\nexpansion: as quickly as possible', metadata={'source': '/Users/abdoulabdillahi/Desktop/CSC 680/Final_project/chat_slang/data/slang.csv', 'row': 411}),\n",
       " Document(page_content=': 412\\nacronym: aqf\\nexpansion: ay que funny', metadata={'source': '/Users/abdoulabdillahi/Desktop/CSC 680/Final_project/chat_slang/data/slang.csv', 'row': 412}),\n",
       " Document(page_content=': 413\\nacronym: ar\\nexpansion: assault rifle', metadata={'source': '/Users/abdoulabdillahi/Desktop/CSC 680/Final_project/chat_slang/data/slang.csv', 'row': 413}),\n",
       " Document(page_content=': 414\\nacronym: ark\\nexpansion: act of random kindness', metadata={'source': '/Users/abdoulabdillahi/Desktop/CSC 680/Final_project/chat_slang/data/slang.csv', 'row': 414}),\n",
       " Document(page_content=': 415\\nacronym: arpa\\nexpansion: advanced research projects agency', metadata={'source': '/Users/abdoulabdillahi/Desktop/CSC 680/Final_project/chat_slang/data/slang.csv', 'row': 415}),\n",
       " Document(page_content=': 416\\nacronym: arpanet\\nexpansion: advanced research projects agency network', metadata={'source': '/Users/abdoulabdillahi/Desktop/CSC 680/Final_project/chat_slang/data/slang.csv', 'row': 416}),\n",
       " Document(page_content=': 417\\nacronym: arpu\\nexpansion: average revenue per user', metadata={'source': '/Users/abdoulabdillahi/Desktop/CSC 680/Final_project/chat_slang/data/slang.csv', 'row': 417}),\n",
       " Document(page_content=': 418\\nacronym: asaic\\nexpansion: as soon as i can', metadata={'source': '/Users/abdoulabdillahi/Desktop/CSC 680/Final_project/chat_slang/data/slang.csv', 'row': 418}),\n",
       " Document(page_content=': 419\\nacronym: asaik\\nexpansion: as soon as i know', metadata={'source': '/Users/abdoulabdillahi/Desktop/CSC 680/Final_project/chat_slang/data/slang.csv', 'row': 419}),\n",
       " Document(page_content=': 420\\nacronym: asap\\nexpansion: as soon as possible', metadata={'source': '/Users/abdoulabdillahi/Desktop/CSC 680/Final_project/chat_slang/data/slang.csv', 'row': 420}),\n",
       " Document(page_content=': 421\\nacronym: asas\\nexpansion: as soon as sensible', metadata={'source': '/Users/abdoulabdillahi/Desktop/CSC 680/Final_project/chat_slang/data/slang.csv', 'row': 421}),\n",
       " Document(page_content=': 422\\nacronym: asat\\nexpansion: as simple as that', metadata={'source': '/Users/abdoulabdillahi/Desktop/CSC 680/Final_project/chat_slang/data/slang.csv', 'row': 422}),\n",
       " Document(page_content=': 423\\nacronym: asayc\\nexpansion: as soon as you can', metadata={'source': '/Users/abdoulabdillahi/Desktop/CSC 680/Final_project/chat_slang/data/slang.csv', 'row': 423}),\n",
       " Document(page_content=': 424\\nacronym: asbo\\nexpansion: anti social behaviour order', metadata={'source': '/Users/abdoulabdillahi/Desktop/CSC 680/Final_project/chat_slang/data/slang.csv', 'row': 424}),\n",
       " Document(page_content=': 425\\nacronym: ascii\\nexpansion: american standard code for information interchange', metadata={'source': '/Users/abdoulabdillahi/Desktop/CSC 680/Final_project/chat_slang/data/slang.csv', 'row': 425}),\n",
       " Document(page_content=': 426\\nacronym: aspca\\nexpansion: american society for the prevention of cruelty to animals', metadata={'source': '/Users/abdoulabdillahi/Desktop/CSC 680/Final_project/chat_slang/data/slang.csv', 'row': 426}),\n",
       " Document(page_content=': 427\\nacronym: at&t\\nexpansion: american telephone and telegraph', metadata={'source': '/Users/abdoulabdillahi/Desktop/CSC 680/Final_project/chat_slang/data/slang.csv', 'row': 427}),\n",
       " Document(page_content=': 428\\nacronym: ata\\nexpansion: ait to air actual time of arrival', metadata={'source': '/Users/abdoulabdillahi/Desktop/CSC 680/Final_project/chat_slang/data/slang.csv', 'row': 428}),\n",
       " Document(page_content=': 429\\nacronym: atap\\nexpansion: any time any place', metadata={'source': '/Users/abdoulabdillahi/Desktop/CSC 680/Final_project/chat_slang/data/slang.csv', 'row': 429}),\n",
       " Document(page_content=': 430\\nacronym: atb\\nexpansion: all the best', metadata={'source': '/Users/abdoulabdillahi/Desktop/CSC 680/Final_project/chat_slang/data/slang.csv', 'row': 430}),\n",
       " Document(page_content=': 431\\nacronym: atc\\nexpansion: air traffic control', metadata={'source': '/Users/abdoulabdillahi/Desktop/CSC 680/Final_project/chat_slang/data/slang.csv', 'row': 431}),\n",
       " Document(page_content=': 432\\nacronym: atd\\nexpansion: attention to detail', metadata={'source': '/Users/abdoulabdillahi/Desktop/CSC 680/Final_project/chat_slang/data/slang.csv', 'row': 432}),\n",
       " Document(page_content=': 433\\nacronym: ateotd\\nexpansion: at the end of the day', metadata={'source': '/Users/abdoulabdillahi/Desktop/CSC 680/Final_project/chat_slang/data/slang.csv', 'row': 433}),\n",
       " Document(page_content=': 434\\nacronym: atf\\nexpansion: all time favorite', metadata={'source': '/Users/abdoulabdillahi/Desktop/CSC 680/Final_project/chat_slang/data/slang.csv', 'row': 434}),\n",
       " Document(page_content=': 435\\nacronym: atgatt\\nexpansion: all the gear all the time', metadata={'source': '/Users/abdoulabdillahi/Desktop/CSC 680/Final_project/chat_slang/data/slang.csv', 'row': 435}),\n",
       " Document(page_content=': 436\\nacronym: ath\\nexpansion: all time high', metadata={'source': '/Users/abdoulabdillahi/Desktop/CSC 680/Final_project/chat_slang/data/slang.csv', 'row': 436}),\n",
       " Document(page_content=': 437\\nacronym: atm\\nexpansion: at the moment automated teller machine', metadata={'source': '/Users/abdoulabdillahi/Desktop/CSC 680/Final_project/chat_slang/data/slang.csv', 'row': 437}),\n",
       " Document(page_content=': 438\\nacronym: atmo\\nexpansion: according to my opinion', metadata={'source': '/Users/abdoulabdillahi/Desktop/CSC 680/Final_project/chat_slang/data/slang.csv', 'row': 438}),\n",
       " Document(page_content=': 439\\nacronym: atn\\nexpansion: any time now', metadata={'source': '/Users/abdoulabdillahi/Desktop/CSC 680/Final_project/chat_slang/data/slang.csv', 'row': 439}),\n",
       " Document(page_content=': 440\\nacronym: atoy\\nexpansion: always thinking of you', metadata={'source': '/Users/abdoulabdillahi/Desktop/CSC 680/Final_project/chat_slang/data/slang.csv', 'row': 440}),\n",
       " Document(page_content=': 441\\nacronym: atq\\nexpansion: answer the question', metadata={'source': '/Users/abdoulabdillahi/Desktop/CSC 680/Final_project/chat_slang/data/slang.csv', 'row': 441}),\n",
       " Document(page_content=': 442\\nacronym: atst\\nexpansion: at the same time', metadata={'source': '/Users/abdoulabdillahi/Desktop/CSC 680/Final_project/chat_slang/data/slang.csv', 'row': 442}),\n",
       " Document(page_content=': 443\\nacronym: att\\nexpansion: at this time all the time', metadata={'source': '/Users/abdoulabdillahi/Desktop/CSC 680/Final_project/chat_slang/data/slang.csv', 'row': 443}),\n",
       " Document(page_content=': 444\\nacronym: attt\\nexpansion: are not that the truth', metadata={'source': '/Users/abdoulabdillahi/Desktop/CSC 680/Final_project/chat_slang/data/slang.csv', 'row': 444}),\n",
       " Document(page_content=': 445\\nacronym: atv\\nexpansion: all terrain vehicle', metadata={'source': '/Users/abdoulabdillahi/Desktop/CSC 680/Final_project/chat_slang/data/slang.csv', 'row': 445}),\n",
       " Document(page_content=': 446\\nacronym: atvb\\nexpansion: all the very best', metadata={'source': '/Users/abdoulabdillahi/Desktop/CSC 680/Final_project/chat_slang/data/slang.csv', 'row': 446}),\n",
       " Document(page_content=': 447\\nacronym: atw\\nexpansion: all the way', metadata={'source': '/Users/abdoulabdillahi/Desktop/CSC 680/Final_project/chat_slang/data/slang.csv', 'row': 447}),\n",
       " Document(page_content=': 448\\nacronym: atwa\\nexpansion: air trees water animals  all the way alive', metadata={'source': '/Users/abdoulabdillahi/Desktop/CSC 680/Final_project/chat_slang/data/slang.csv', 'row': 448}),\n",
       " Document(page_content=': 449\\nacronym: bac\\nexpansion: back at computer blood alcohol content by any chance', metadata={'source': '/Users/abdoulabdillahi/Desktop/CSC 680/Final_project/chat_slang/data/slang.csv', 'row': 449}),\n",
       " Document(page_content=': 450\\nacronym: bacs\\nexpansion: bankers automated clearing system', metadata={'source': '/Users/abdoulabdillahi/Desktop/CSC 680/Final_project/chat_slang/data/slang.csv', 'row': 450}),\n",
       " Document(page_content=': 451\\nacronym: bagl\\nexpansion: bust a gut laughing', metadata={'source': '/Users/abdoulabdillahi/Desktop/CSC 680/Final_project/chat_slang/data/slang.csv', 'row': 451}),\n",
       " Document(page_content=': 452\\nacronym: bah\\nexpansion: bored as hell', metadata={'source': '/Users/abdoulabdillahi/Desktop/CSC 680/Final_project/chat_slang/data/slang.csv', 'row': 452}),\n",
       " Document(page_content=': 453\\nacronym: bb\\nexpansion: big brother be back', metadata={'source': '/Users/abdoulabdillahi/Desktop/CSC 680/Final_project/chat_slang/data/slang.csv', 'row': 453}),\n",
       " Document(page_content=': 454\\nacronym: bb4n\\nexpansion: bye bye for now', metadata={'source': '/Users/abdoulabdillahi/Desktop/CSC 680/Final_project/chat_slang/data/slang.csv', 'row': 454}),\n",
       " Document(page_content=': 455\\nacronym: bbam\\nexpansion: be back after meal', metadata={'source': '/Users/abdoulabdillahi/Desktop/CSC 680/Final_project/chat_slang/data/slang.csv', 'row': 455}),\n",
       " Document(page_content=': 456\\nacronym: bbb\\nexpansion: bugging beyond belief', metadata={'source': '/Users/abdoulabdillahi/Desktop/CSC 680/Final_project/chat_slang/data/slang.csv', 'row': 456}),\n",
       " Document(page_content=': 457\\nacronym: bbbw\\nexpansion: big beautiful black woman', metadata={'source': '/Users/abdoulabdillahi/Desktop/CSC 680/Final_project/chat_slang/data/slang.csv', 'row': 457}),\n",
       " Document(page_content=': 458\\nacronym: bbc\\nexpansion: british broadcasting corporation', metadata={'source': '/Users/abdoulabdillahi/Desktop/CSC 680/Final_project/chat_slang/data/slang.csv', 'row': 458}),\n",
       " Document(page_content=': 459\\nacronym: bbeg\\nexpansion: big bad evil guy', metadata={'source': '/Users/abdoulabdillahi/Desktop/CSC 680/Final_project/chat_slang/data/slang.csv', 'row': 459}),\n",
       " Document(page_content=': 460\\nacronym: bbfl\\nexpansion: best buds for life', metadata={'source': '/Users/abdoulabdillahi/Desktop/CSC 680/Final_project/chat_slang/data/slang.csv', 'row': 460}),\n",
       " Document(page_content=': 461\\nacronym: bbfn\\nexpansion: bye bye for now', metadata={'source': '/Users/abdoulabdillahi/Desktop/CSC 680/Final_project/chat_slang/data/slang.csv', 'row': 461}),\n",
       " Document(page_content=': 462\\nacronym: bbg\\nexpansion: best be going', metadata={'source': '/Users/abdoulabdillahi/Desktop/CSC 680/Final_project/chat_slang/data/slang.csv', 'row': 462}),\n",
       " Document(page_content=': 463\\nacronym: bbiab\\nexpansion: be back in a bit', metadata={'source': '/Users/abdoulabdillahi/Desktop/CSC 680/Final_project/chat_slang/data/slang.csv', 'row': 463}),\n",
       " Document(page_content=': 464\\nacronym: bbiaf\\nexpansion: be back in a few', metadata={'source': '/Users/abdoulabdillahi/Desktop/CSC 680/Final_project/chat_slang/data/slang.csv', 'row': 464}),\n",
       " Document(page_content=': 465\\nacronym: bbiam\\nexpansion: be back in a minute', metadata={'source': '/Users/abdoulabdillahi/Desktop/CSC 680/Final_project/chat_slang/data/slang.csv', 'row': 465}),\n",
       " Document(page_content=': 466\\nacronym: bbias\\nexpansion: be back in a sec', metadata={'source': '/Users/abdoulabdillahi/Desktop/CSC 680/Final_project/chat_slang/data/slang.csv', 'row': 466}),\n",
       " Document(page_content=': 467\\nacronym: bbiaw\\nexpansion: be back in a while', metadata={'source': '/Users/abdoulabdillahi/Desktop/CSC 680/Final_project/chat_slang/data/slang.csv', 'row': 467}),\n",
       " Document(page_content=': 468\\nacronym: bbk\\nexpansion: boy better know', metadata={'source': '/Users/abdoulabdillahi/Desktop/CSC 680/Final_project/chat_slang/data/slang.csv', 'row': 468}),\n",
       " Document(page_content=': 469\\nacronym: bbl\\nexpansion: be back later', metadata={'source': '/Users/abdoulabdillahi/Desktop/CSC 680/Final_project/chat_slang/data/slang.csv', 'row': 469}),\n",
       " Document(page_content=': 470\\nacronym: bbm\\nexpansion: blackberry messaging', metadata={'source': '/Users/abdoulabdillahi/Desktop/CSC 680/Final_project/chat_slang/data/slang.csv', 'row': 470}),\n",
       " Document(page_content=': 471\\nacronym: bbml\\nexpansion: be back much later', metadata={'source': '/Users/abdoulabdillahi/Desktop/CSC 680/Final_project/chat_slang/data/slang.csv', 'row': 471}),\n",
       " Document(page_content=': 472\\nacronym: bbn\\nexpansion: be back never', metadata={'source': '/Users/abdoulabdillahi/Desktop/CSC 680/Final_project/chat_slang/data/slang.csv', 'row': 472}),\n",
       " Document(page_content=': 473\\nacronym: bbo\\nexpansion: being bored online', metadata={'source': '/Users/abdoulabdillahi/Desktop/CSC 680/Final_project/chat_slang/data/slang.csv', 'row': 473}),\n",
       " Document(page_content=': 474\\nacronym: bbq\\nexpansion: barbecue better be quick', metadata={'source': '/Users/abdoulabdillahi/Desktop/CSC 680/Final_project/chat_slang/data/slang.csv', 'row': 474}),\n",
       " Document(page_content=': 475\\nacronym: bbr\\nexpansion: blonde brunette redhead', metadata={'source': '/Users/abdoulabdillahi/Desktop/CSC 680/Final_project/chat_slang/data/slang.csv', 'row': 475}),\n",
       " Document(page_content=': 476\\nacronym: bbs\\nexpansion: be back soon bulletin board system', metadata={'source': '/Users/abdoulabdillahi/Desktop/CSC 680/Final_project/chat_slang/data/slang.csv', 'row': 476}),\n",
       " Document(page_content=': 477\\nacronym: bbt\\nexpansion: be back tomorrow', metadata={'source': '/Users/abdoulabdillahi/Desktop/CSC 680/Final_project/chat_slang/data/slang.csv', 'row': 477}),\n",
       " Document(page_content=': 478\\nacronym: bbv\\nexpansion: brags beats and variance', metadata={'source': '/Users/abdoulabdillahi/Desktop/CSC 680/Final_project/chat_slang/data/slang.csv', 'row': 478}),\n",
       " Document(page_content=': 479\\nacronym: bbw\\nexpansion: big beautiful woman', metadata={'source': '/Users/abdoulabdillahi/Desktop/CSC 680/Final_project/chat_slang/data/slang.csv', 'row': 479}),\n",
       " Document(page_content=': 480\\nacronym: bbwl\\nexpansion: be back way later', metadata={'source': '/Users/abdoulabdillahi/Desktop/CSC 680/Final_project/chat_slang/data/slang.csv', 'row': 480}),\n",
       " Document(page_content=': 481\\nacronym: bc\\nexpansion: before christ', metadata={'source': '/Users/abdoulabdillahi/Desktop/CSC 680/Final_project/chat_slang/data/slang.csv', 'row': 481}),\n",
       " Document(page_content=': 482\\nacronym: bcbw\\nexpansion: bow chica bow wow', metadata={'source': '/Users/abdoulabdillahi/Desktop/CSC 680/Final_project/chat_slang/data/slang.csv', 'row': 482}),\n",
       " Document(page_content=': 483\\nacronym: bcc\\nexpansion: blind carbon copy', metadata={'source': '/Users/abdoulabdillahi/Desktop/CSC 680/Final_project/chat_slang/data/slang.csv', 'row': 483}),\n",
       " Document(page_content=': 484\\nacronym: bcd\\nexpansion: behind closed doors', metadata={'source': '/Users/abdoulabdillahi/Desktop/CSC 680/Final_project/chat_slang/data/slang.csv', 'row': 484}),\n",
       " Document(page_content=': 485\\nacronym: bce\\nexpansion: before common era', metadata={'source': '/Users/abdoulabdillahi/Desktop/CSC 680/Final_project/chat_slang/data/slang.csv', 'row': 485}),\n",
       " Document(page_content=': 486\\nacronym: bcf\\nexpansion: best cousin forever', metadata={'source': '/Users/abdoulabdillahi/Desktop/CSC 680/Final_project/chat_slang/data/slang.csv', 'row': 486}),\n",
       " Document(page_content=': 487\\nacronym: bcg\\nexpansion: birth control glasses', metadata={'source': '/Users/abdoulabdillahi/Desktop/CSC 680/Final_project/chat_slang/data/slang.csv', 'row': 487}),\n",
       " Document(page_content=': 488\\nacronym: bcs\\nexpansion: bowl championship series', metadata={'source': '/Users/abdoulabdillahi/Desktop/CSC 680/Final_project/chat_slang/data/slang.csv', 'row': 488}),\n",
       " Document(page_content=': 489\\nacronym: bd\\nexpansion: big deal', metadata={'source': '/Users/abdoulabdillahi/Desktop/CSC 680/Final_project/chat_slang/data/slang.csv', 'row': 489}),\n",
       " Document(page_content=': 490\\nacronym: bdn\\nexpansion: busy doing nothing', metadata={'source': '/Users/abdoulabdillahi/Desktop/CSC 680/Final_project/chat_slang/data/slang.csv', 'row': 490}),\n",
       " Document(page_content=': 491\\nacronym: bdoml\\nexpansion: best day of my life', metadata={'source': '/Users/abdoulabdillahi/Desktop/CSC 680/Final_project/chat_slang/data/slang.csv', 'row': 491}),\n",
       " Document(page_content=': 492\\nacronym: bdu\\nexpansion: brain dead user battle dress uniform', metadata={'source': '/Users/abdoulabdillahi/Desktop/CSC 680/Final_project/chat_slang/data/slang.csv', 'row': 492}),\n",
       " Document(page_content=': 493\\nacronym: bfa\\nexpansion: best friends always', metadata={'source': '/Users/abdoulabdillahi/Desktop/CSC 680/Final_project/chat_slang/data/slang.csv', 'row': 493}),\n",
       " Document(page_content=': 494\\nacronym: bfab\\nexpansion: born from a boombox back for a bit', metadata={'source': '/Users/abdoulabdillahi/Desktop/CSC 680/Final_project/chat_slang/data/slang.csv', 'row': 494}),\n",
       " Document(page_content=': 495\\nacronym: bfam\\nexpansion: brother from another mother', metadata={'source': '/Users/abdoulabdillahi/Desktop/CSC 680/Final_project/chat_slang/data/slang.csv', 'row': 495}),\n",
       " Document(page_content=': 496\\nacronym: bfb\\nexpansion: better from behind', metadata={'source': '/Users/abdoulabdillahi/Desktop/CSC 680/Final_project/chat_slang/data/slang.csv', 'row': 496}),\n",
       " Document(page_content=': 497\\nacronym: bff\\nexpansion: best friends forever', metadata={'source': '/Users/abdoulabdillahi/Desktop/CSC 680/Final_project/chat_slang/data/slang.csv', 'row': 497}),\n",
       " Document(page_content=': 498\\nacronym: bffae\\nexpansion: best friends forever and ever best friends for all eternity', metadata={'source': '/Users/abdoulabdillahi/Desktop/CSC 680/Final_project/chat_slang/data/slang.csv', 'row': 498}),\n",
       " Document(page_content=': 499\\nacronym: bffl\\nexpansion: best friend for life', metadata={'source': '/Users/abdoulabdillahi/Desktop/CSC 680/Final_project/chat_slang/data/slang.csv', 'row': 499}),\n",
       " Document(page_content=': 500\\nacronym: bffle\\nexpansion: best friends for like ever', metadata={'source': '/Users/abdoulabdillahi/Desktop/CSC 680/Final_project/chat_slang/data/slang.csv', 'row': 500}),\n",
       " Document(page_content=': 501\\nacronym: bffltddup\\nexpansion: best friends for life till death do us part', metadata={'source': '/Users/abdoulabdillahi/Desktop/CSC 680/Final_project/chat_slang/data/slang.csv', 'row': 501}),\n",
       " Document(page_content=': 502\\nacronym: bffn\\nexpansion: best friend for now', metadata={'source': '/Users/abdoulabdillahi/Desktop/CSC 680/Final_project/chat_slang/data/slang.csv', 'row': 502}),\n",
       " Document(page_content=': 503\\nacronym: bffwb\\nexpansion: best friend forever with benefits', metadata={'source': '/Users/abdoulabdillahi/Desktop/CSC 680/Final_project/chat_slang/data/slang.csv', 'row': 503}),\n",
       " Document(page_content=': 504\\nacronym: bfitw\\nexpansion: best friend in the world', metadata={'source': '/Users/abdoulabdillahi/Desktop/CSC 680/Final_project/chat_slang/data/slang.csv', 'row': 504}),\n",
       " Document(page_content=': 505\\nacronym: bfk\\nexpansion: big fat kiss', metadata={'source': '/Users/abdoulabdillahi/Desktop/CSC 680/Final_project/chat_slang/data/slang.csv', 'row': 505}),\n",
       " Document(page_content=': 506\\nacronym: bfmv\\nexpansion: bullet for my valentine', metadata={'source': '/Users/abdoulabdillahi/Desktop/CSC 680/Final_project/chat_slang/data/slang.csv', 'row': 506}),\n",
       " Document(page_content=': 507\\nacronym: bfn\\nexpansion: bye for now', metadata={'source': '/Users/abdoulabdillahi/Desktop/CSC 680/Final_project/chat_slang/data/slang.csv', 'row': 507}),\n",
       " Document(page_content=': 508\\nacronym: bfp\\nexpansion: bad for pics big fat positive ie pregnant', metadata={'source': '/Users/abdoulabdillahi/Desktop/CSC 680/Final_project/chat_slang/data/slang.csv', 'row': 508}),\n",
       " Document(page_content=': 509\\nacronym: bftp\\nexpansion: blast from the past', metadata={'source': '/Users/abdoulabdillahi/Desktop/CSC 680/Final_project/chat_slang/data/slang.csv', 'row': 509}),\n",
       " Document(page_content=': 510\\nacronym: bfut\\nexpansion: best friends until tomorrow', metadata={'source': '/Users/abdoulabdillahi/Desktop/CSC 680/Final_project/chat_slang/data/slang.csv', 'row': 510}),\n",
       " Document(page_content=': 511\\nacronym: bfwb\\nexpansion: best friend with benefits', metadata={'source': '/Users/abdoulabdillahi/Desktop/CSC 680/Final_project/chat_slang/data/slang.csv', 'row': 511}),\n",
       " Document(page_content=': 512\\nacronym: bg\\nexpansion: bad game baby gangster', metadata={'source': '/Users/abdoulabdillahi/Desktop/CSC 680/Final_project/chat_slang/data/slang.csv', 'row': 512}),\n",
       " Document(page_content=': 513\\nacronym: bgd\\nexpansion: black gangster disciples', metadata={'source': '/Users/abdoulabdillahi/Desktop/CSC 680/Final_project/chat_slang/data/slang.csv', 'row': 513}),\n",
       " Document(page_content=': 514\\nacronym: bgf\\nexpansion: best girl friend', metadata={'source': '/Users/abdoulabdillahi/Desktop/CSC 680/Final_project/chat_slang/data/slang.csv', 'row': 514}),\n",
       " Document(page_content=': 515\\nacronym: bgl\\nexpansion: big game license likes fat people', metadata={'source': '/Users/abdoulabdillahi/Desktop/CSC 680/Final_project/chat_slang/data/slang.csv', 'row': 515}),\n",
       " Document(page_content=': 516\\nacronym: bgm\\nexpansion: background music', metadata={'source': '/Users/abdoulabdillahi/Desktop/CSC 680/Final_project/chat_slang/data/slang.csv', 'row': 516}),\n",
       " Document(page_content=': 517\\nacronym: bgt\\nexpansion: britains got talent', metadata={'source': '/Users/abdoulabdillahi/Desktop/CSC 680/Final_project/chat_slang/data/slang.csv', 'row': 517}),\n",
       " Document(page_content=': 518\\nacronym: bh\\nexpansion: be happy bloody hell big head', metadata={'source': '/Users/abdoulabdillahi/Desktop/CSC 680/Final_project/chat_slang/data/slang.csv', 'row': 518}),\n",
       " Document(page_content=': 519\\nacronym: bhd\\nexpansion: bad hair day', metadata={'source': '/Users/abdoulabdillahi/Desktop/CSC 680/Final_project/chat_slang/data/slang.csv', 'row': 519}),\n",
       " Document(page_content=': 520\\nacronym: bhh\\nexpansion: bless her heart', metadata={'source': '/Users/abdoulabdillahi/Desktop/CSC 680/Final_project/chat_slang/data/slang.csv', 'row': 520}),\n",
       " Document(page_content=': 521\\nacronym: bhl8\\nexpansion: be home late', metadata={'source': '/Users/abdoulabdillahi/Desktop/CSC 680/Final_project/chat_slang/data/slang.csv', 'row': 521}),\n",
       " Document(page_content=': 522\\nacronym: bhm\\nexpansion: big handsome man', metadata={'source': '/Users/abdoulabdillahi/Desktop/CSC 680/Final_project/chat_slang/data/slang.csv', 'row': 522}),\n",
       " Document(page_content=': 523\\nacronym: bho\\nexpansion: barak hussein obama', metadata={'source': '/Users/abdoulabdillahi/Desktop/CSC 680/Final_project/chat_slang/data/slang.csv', 'row': 523}),\n",
       " Document(page_content=': 524\\nacronym: bhs\\nexpansion: be home soon', metadata={'source': '/Users/abdoulabdillahi/Desktop/CSC 680/Final_project/chat_slang/data/slang.csv', 'row': 524}),\n",
       " Document(page_content=': 525\\nacronym: biab\\nexpansion: back in a bit', metadata={'source': '/Users/abdoulabdillahi/Desktop/CSC 680/Final_project/chat_slang/data/slang.csv', 'row': 525}),\n",
       " Document(page_content=': 526\\nacronym: bic\\nexpansion: believe it comrade', metadata={'source': '/Users/abdoulabdillahi/Desktop/CSC 680/Final_project/chat_slang/data/slang.csv', 'row': 526}),\n",
       " Document(page_content=': 527\\nacronym: bicbw\\nexpansion: but i could be wrong', metadata={'source': '/Users/abdoulabdillahi/Desktop/CSC 680/Final_project/chat_slang/data/slang.csv', 'row': 527}),\n",
       " Document(page_content=': 528\\nacronym: bieh\\nexpansion: best i ever had', metadata={'source': '/Users/abdoulabdillahi/Desktop/CSC 680/Final_project/chat_slang/data/slang.csv', 'row': 528}),\n",
       " Document(page_content=': 529\\nacronym: biffl\\nexpansion: best internet friend for life', metadata={'source': '/Users/abdoulabdillahi/Desktop/CSC 680/Final_project/chat_slang/data/slang.csv', 'row': 529}),\n",
       " Document(page_content=': 530\\nacronym: bing\\nexpansion: but it is not google', metadata={'source': '/Users/abdoulabdillahi/Desktop/CSC 680/Final_project/chat_slang/data/slang.csv', 'row': 530}),\n",
       " Document(page_content=': 531\\nacronym: bm\\nexpansion: bowel movement black man bmw', metadata={'source': '/Users/abdoulabdillahi/Desktop/CSC 680/Final_project/chat_slang/data/slang.csv', 'row': 531}),\n",
       " Document(page_content=': 532\\nacronym: bm4l\\nexpansion: best mates for life', metadata={'source': '/Users/abdoulabdillahi/Desktop/CSC 680/Final_project/chat_slang/data/slang.csv', 'row': 532}),\n",
       " Document(page_content=': 533\\nacronym: bmak\\nexpansion: blow me a kiss', metadata={'source': '/Users/abdoulabdillahi/Desktop/CSC 680/Final_project/chat_slang/data/slang.csv', 'row': 533}),\n",
       " Document(page_content=': 534\\nacronym: bmb\\nexpansion: bebo me back', metadata={'source': '/Users/abdoulabdillahi/Desktop/CSC 680/Final_project/chat_slang/data/slang.csv', 'row': 534}),\n",
       " Document(page_content=': 535\\nacronym: bmbo\\nexpansion: blow my brains out', metadata={'source': '/Users/abdoulabdillahi/Desktop/CSC 680/Final_project/chat_slang/data/slang.csv', 'row': 535}),\n",
       " Document(page_content=': 536\\nacronym: bme\\nexpansion: body modification ezine', metadata={'source': '/Users/abdoulabdillahi/Desktop/CSC 680/Final_project/chat_slang/data/slang.csv', 'row': 536}),\n",
       " Document(page_content=': 537\\nacronym: bmfe\\nexpansion: best mates forever', metadata={'source': '/Users/abdoulabdillahi/Desktop/CSC 680/Final_project/chat_slang/data/slang.csv', 'row': 537}),\n",
       " Document(page_content=': 538\\nacronym: bmfl\\nexpansion: best mates for life', metadata={'source': '/Users/abdoulabdillahi/Desktop/CSC 680/Final_project/chat_slang/data/slang.csv', 'row': 538}),\n",
       " Document(page_content=': 539\\nacronym: bmg\\nexpansion: be my guest', metadata={'source': '/Users/abdoulabdillahi/Desktop/CSC 680/Final_project/chat_slang/data/slang.csv', 'row': 539}),\n",
       " Document(page_content=': 540\\nacronym: bmi\\nexpansion: body mass index', metadata={'source': '/Users/abdoulabdillahi/Desktop/CSC 680/Final_project/chat_slang/data/slang.csv', 'row': 540}),\n",
       " Document(page_content=': 541\\nacronym: bml\\nexpansion: bless my life', metadata={'source': '/Users/abdoulabdillahi/Desktop/CSC 680/Final_project/chat_slang/data/slang.csv', 'row': 541}),\n",
       " Document(page_content=': 542\\nacronym: bmoc\\nexpansion: big man on campus', metadata={'source': '/Users/abdoulabdillahi/Desktop/CSC 680/Final_project/chat_slang/data/slang.csv', 'row': 542}),\n",
       " Document(page_content=': 543\\nacronym: bms\\nexpansion: bitchy men syndrome', metadata={'source': '/Users/abdoulabdillahi/Desktop/CSC 680/Final_project/chat_slang/data/slang.csv', 'row': 543}),\n",
       " Document(page_content=': 544\\nacronym: bmt\\nexpansion: before my time basic military training', metadata={'source': '/Users/abdoulabdillahi/Desktop/CSC 680/Final_project/chat_slang/data/slang.csv', 'row': 544}),\n",
       " Document(page_content=': 545\\nacronym: bmth\\nexpansion: bring me the horizon', metadata={'source': '/Users/abdoulabdillahi/Desktop/CSC 680/Final_project/chat_slang/data/slang.csv', 'row': 545}),\n",
       " Document(page_content=': 546\\nacronym: bmttve\\nexpansion: best mates til the very end', metadata={'source': '/Users/abdoulabdillahi/Desktop/CSC 680/Final_project/chat_slang/data/slang.csv', 'row': 546}),\n",
       " Document(page_content=': 547\\nacronym: bmus\\nexpansion: beam me up scotty', metadata={'source': '/Users/abdoulabdillahi/Desktop/CSC 680/Final_project/chat_slang/data/slang.csv', 'row': 547}),\n",
       " Document(page_content=': 548\\nacronym: bmv\\nexpansion: be my valentine', metadata={'source': '/Users/abdoulabdillahi/Desktop/CSC 680/Final_project/chat_slang/data/slang.csv', 'row': 548}),\n",
       " Document(page_content=': 549\\nacronym: bmw\\nexpansion: bavarian motor works', metadata={'source': '/Users/abdoulabdillahi/Desktop/CSC 680/Final_project/chat_slang/data/slang.csv', 'row': 549}),\n",
       " Document(page_content=': 550\\nacronym: bmx\\nexpansion: bicycle motocross', metadata={'source': '/Users/abdoulabdillahi/Desktop/CSC 680/Final_project/chat_slang/data/slang.csv', 'row': 550}),\n",
       " Document(page_content=': 551\\nacronym: bnb\\nexpansion: bad news bears bed n breakfast bread n butter', metadata={'source': '/Users/abdoulabdillahi/Desktop/CSC 680/Final_project/chat_slang/data/slang.csv', 'row': 551}),\n",
       " Document(page_content=': 552\\nacronym: bnf\\nexpansion: big name fan', metadata={'source': '/Users/abdoulabdillahi/Desktop/CSC 680/Final_project/chat_slang/data/slang.csv', 'row': 552}),\n",
       " Document(page_content=': 553\\nacronym: bni\\nexpansion: batteries not included', metadata={'source': '/Users/abdoulabdillahi/Desktop/CSC 680/Final_project/chat_slang/data/slang.csv', 'row': 553}),\n",
       " Document(page_content=': 554\\nacronym: bnib\\nexpansion: brand new in box', metadata={'source': '/Users/abdoulabdillahi/Desktop/CSC 680/Final_project/chat_slang/data/slang.csv', 'row': 554}),\n",
       " Document(page_content=': 555\\nacronym: bnoc\\nexpansion: big name on campus', metadata={'source': '/Users/abdoulabdillahi/Desktop/CSC 680/Final_project/chat_slang/data/slang.csv', 'row': 555}),\n",
       " Document(page_content=': 556\\nacronym: bnp\\nexpansion: british national party', metadata={'source': '/Users/abdoulabdillahi/Desktop/CSC 680/Final_project/chat_slang/data/slang.csv', 'row': 556}),\n",
       " Document(page_content=': 557\\nacronym: bnr\\nexpansion: but not really', metadata={'source': '/Users/abdoulabdillahi/Desktop/CSC 680/Final_project/chat_slang/data/slang.csv', 'row': 557}),\n",
       " Document(page_content=': 558\\nacronym: bnwot\\nexpansion: brand new without tags', metadata={'source': '/Users/abdoulabdillahi/Desktop/CSC 680/Final_project/chat_slang/data/slang.csv', 'row': 558}),\n",
       " Document(page_content=': 559\\nacronym: bnwt\\nexpansion: brand new with tags', metadata={'source': '/Users/abdoulabdillahi/Desktop/CSC 680/Final_project/chat_slang/data/slang.csv', 'row': 559}),\n",
       " Document(page_content=': 560\\nacronym: bo\\nexpansion: body odour', metadata={'source': '/Users/abdoulabdillahi/Desktop/CSC 680/Final_project/chat_slang/data/slang.csv', 'row': 560}),\n",
       " Document(page_content=': 561\\nacronym: boat\\nexpansion: bust out another thousand', metadata={'source': '/Users/abdoulabdillahi/Desktop/CSC 680/Final_project/chat_slang/data/slang.csv', 'row': 561}),\n",
       " Document(page_content=': 562\\nacronym: bobfoc\\nexpansion: body off baywatch face off crimewatch', metadata={'source': '/Users/abdoulabdillahi/Desktop/CSC 680/Final_project/chat_slang/data/slang.csv', 'row': 562}),\n",
       " Document(page_content=': 563\\nacronym: boed\\nexpansion: book of exalted deeds', metadata={'source': '/Users/abdoulabdillahi/Desktop/CSC 680/Final_project/chat_slang/data/slang.csv', 'row': 563}),\n",
       " Document(page_content=': 564\\nacronym: bogo\\nexpansion: buy one get one', metadata={'source': '/Users/abdoulabdillahi/Desktop/CSC 680/Final_project/chat_slang/data/slang.csv', 'row': 564}),\n",
       " Document(page_content=': 565\\nacronym: bogof\\nexpansion: buy one get one free', metadata={'source': '/Users/abdoulabdillahi/Desktop/CSC 680/Final_project/chat_slang/data/slang.csv', 'row': 565}),\n",
       " Document(page_content=': 566\\nacronym: bogsat\\nexpansion: bunch of guys sitting around talking', metadata={'source': '/Users/abdoulabdillahi/Desktop/CSC 680/Final_project/chat_slang/data/slang.csv', 'row': 566}),\n",
       " Document(page_content=': 567\\nacronym: cc\\nexpansion: credit card carbon copy crowd control country code', metadata={'source': '/Users/abdoulabdillahi/Desktop/CSC 680/Final_project/chat_slang/data/slang.csv', 'row': 567}),\n",
       " Document(page_content=': 568\\nacronym: ccc\\nexpansion: coricidin cough and cold', metadata={'source': '/Users/abdoulabdillahi/Desktop/CSC 680/Final_project/chat_slang/data/slang.csv', 'row': 568}),\n",
       " Document(page_content=': 569\\nacronym: ccg\\nexpansion: collectible card game', metadata={'source': '/Users/abdoulabdillahi/Desktop/CSC 680/Final_project/chat_slang/data/slang.csv', 'row': 569}),\n",
       " Document(page_content=': 570\\nacronym: ccie\\nexpansion: cisco certified internetwork expert', metadata={'source': '/Users/abdoulabdillahi/Desktop/CSC 680/Final_project/chat_slang/data/slang.csv', 'row': 570}),\n",
       " Document(page_content=': 571\\nacronym: ccl\\nexpansion: could not care less', metadata={'source': '/Users/abdoulabdillahi/Desktop/CSC 680/Final_project/chat_slang/data/slang.csv', 'row': 571}),\n",
       " Document(page_content=': 572\\nacronym: ccna\\nexpansion: cisco certified network associate', metadata={'source': '/Users/abdoulabdillahi/Desktop/CSC 680/Final_project/chat_slang/data/slang.csv', 'row': 572}),\n",
       " Document(page_content=': 573\\nacronym: ccr\\nexpansion: creedence clearwater revival', metadata={'source': '/Users/abdoulabdillahi/Desktop/CSC 680/Final_project/chat_slang/data/slang.csv', 'row': 573}),\n",
       " Document(page_content=': 574\\nacronym: cctv\\nexpansion: closed circuit television', metadata={'source': '/Users/abdoulabdillahi/Desktop/CSC 680/Final_project/chat_slang/data/slang.csv', 'row': 574}),\n",
       " Document(page_content=': 575\\nacronym: ccw\\nexpansion: counterclockwise carrying a concealed weapon', metadata={'source': '/Users/abdoulabdillahi/Desktop/CSC 680/Final_project/chat_slang/data/slang.csv', 'row': 575}),\n",
       " Document(page_content=': 576\\nacronym: cd\\nexpansion: compact disc cross dresser', metadata={'source': '/Users/abdoulabdillahi/Desktop/CSC 680/Final_project/chat_slang/data/slang.csv', 'row': 576}),\n",
       " Document(page_content=': 577\\nacronym: cdc\\nexpansion: cult of the dead cow crudely drawn cock', metadata={'source': '/Users/abdoulabdillahi/Desktop/CSC 680/Final_project/chat_slang/data/slang.csv', 'row': 577}),\n",
       " Document(page_content=': 578\\nacronym: cdma\\nexpansion: code division multiple access', metadata={'source': '/Users/abdoulabdillahi/Desktop/CSC 680/Final_project/chat_slang/data/slang.csv', 'row': 578}),\n",
       " Document(page_content=': 579\\nacronym: cd rw\\nexpansion: compact disk rewritable', metadata={'source': '/Users/abdoulabdillahi/Desktop/CSC 680/Final_project/chat_slang/data/slang.csv', 'row': 579}),\n",
       " Document(page_content=': 580\\nacronym: clwy\\nexpansion: cannot live without you', metadata={'source': '/Users/abdoulabdillahi/Desktop/CSC 680/Final_project/chat_slang/data/slang.csv', 'row': 580}),\n",
       " Document(page_content=': 581\\nacronym: cm\\nexpansion: call me', metadata={'source': '/Users/abdoulabdillahi/Desktop/CSC 680/Final_project/chat_slang/data/slang.csv', 'row': 581}),\n",
       " Document(page_content=': 582\\nacronym: cmar\\nexpansion: cry me a river', metadata={'source': '/Users/abdoulabdillahi/Desktop/CSC 680/Final_project/chat_slang/data/slang.csv', 'row': 582}),\n",
       " Document(page_content=': 583\\nacronym: cmb\\nexpansion: call me back', metadata={'source': '/Users/abdoulabdillahi/Desktop/CSC 680/Final_project/chat_slang/data/slang.csv', 'row': 583}),\n",
       " Document(page_content=': 584\\nacronym: cme\\nexpansion: close my eyes', metadata={'source': '/Users/abdoulabdillahi/Desktop/CSC 680/Final_project/chat_slang/data/slang.csv', 'row': 584}),\n",
       " Document(page_content=': 585\\nacronym: cmeo\\nexpansion: crying my eyes out', metadata={'source': '/Users/abdoulabdillahi/Desktop/CSC 680/Final_project/chat_slang/data/slang.csv', 'row': 585}),\n",
       " Document(page_content=': 586\\nacronym: cmh\\nexpansion: cross my heart', metadata={'source': '/Users/abdoulabdillahi/Desktop/CSC 680/Final_project/chat_slang/data/slang.csv', 'row': 586}),\n",
       " Document(page_content=': 587\\nacronym: cmho\\nexpansion: cry my heart out', metadata={'source': '/Users/abdoulabdillahi/Desktop/CSC 680/Final_project/chat_slang/data/slang.csv', 'row': 587}),\n",
       " Document(page_content=': 588\\nacronym: cmi\\nexpansion: count me in', metadata={'source': '/Users/abdoulabdillahi/Desktop/CSC 680/Final_project/chat_slang/data/slang.csv', 'row': 588}),\n",
       " Document(page_content=': 589\\nacronym: cmiiw\\nexpansion: correct me if i am wrong', metadata={'source': '/Users/abdoulabdillahi/Desktop/CSC 680/Final_project/chat_slang/data/slang.csv', 'row': 589}),\n",
       " Document(page_content=': 590\\nacronym: cmiyc\\nexpansion: catch me if you can', metadata={'source': '/Users/abdoulabdillahi/Desktop/CSC 680/Final_project/chat_slang/data/slang.csv', 'row': 590}),\n",
       " Document(page_content=': 591\\nacronym: cml\\nexpansion: call me later', metadata={'source': '/Users/abdoulabdillahi/Desktop/CSC 680/Final_project/chat_slang/data/slang.csv', 'row': 591}),\n",
       " Document(page_content=': 592\\nacronym: cmn\\nexpansion: call me now', metadata={'source': '/Users/abdoulabdillahi/Desktop/CSC 680/Final_project/chat_slang/data/slang.csv', 'row': 592}),\n",
       " Document(page_content=': 593\\nacronym: cmos\\nexpansion: complementary metal oxide semiconductor', metadata={'source': '/Users/abdoulabdillahi/Desktop/CSC 680/Final_project/chat_slang/data/slang.csv', 'row': 593}),\n",
       " Document(page_content=': 594\\nacronym: cms\\nexpansion: content management system', metadata={'source': '/Users/abdoulabdillahi/Desktop/CSC 680/Final_project/chat_slang/data/slang.csv', 'row': 594}),\n",
       " Document(page_content=': 595\\nacronym: cmu\\nexpansion: cracks me up', metadata={'source': '/Users/abdoulabdillahi/Desktop/CSC 680/Final_project/chat_slang/data/slang.csv', 'row': 595}),\n",
       " Document(page_content=': 596\\nacronym: cmyk\\nexpansion: cyan magenta yellow key', metadata={'source': '/Users/abdoulabdillahi/Desktop/CSC 680/Final_project/chat_slang/data/slang.csv', 'row': 596}),\n",
       " Document(page_content=': 597\\nacronym: cnn\\nexpansion: cable news network', metadata={'source': '/Users/abdoulabdillahi/Desktop/CSC 680/Final_project/chat_slang/data/slang.csv', 'row': 597}),\n",
       " Document(page_content=': 598\\nacronym: cny\\nexpansion: chinese new year', metadata={'source': '/Users/abdoulabdillahi/Desktop/CSC 680/Final_project/chat_slang/data/slang.csv', 'row': 598}),\n",
       " Document(page_content=': 599\\nacronym: co\\nexpansion: commanding officer corrections officer company counter offer', metadata={'source': '/Users/abdoulabdillahi/Desktop/CSC 680/Final_project/chat_slang/data/slang.csv', 'row': 599}),\n",
       " Document(page_content=': 600\\nacronym: coa\\nexpansion: certificate of authenticity', metadata={'source': '/Users/abdoulabdillahi/Desktop/CSC 680/Final_project/chat_slang/data/slang.csv', 'row': 600}),\n",
       " Document(page_content=': 601\\nacronym: cod\\nexpansion: cash on delivery  call of duty', metadata={'source': '/Users/abdoulabdillahi/Desktop/CSC 680/Final_project/chat_slang/data/slang.csv', 'row': 601}),\n",
       " Document(page_content=': 602\\nacronym: col\\nexpansion: crying out loud', metadata={'source': '/Users/abdoulabdillahi/Desktop/CSC 680/Final_project/chat_slang/data/slang.csv', 'row': 602}),\n",
       " Document(page_content=': 603\\nacronym: crb\\nexpansion: criminal records bureau', metadata={'source': '/Users/abdoulabdillahi/Desktop/CSC 680/Final_project/chat_slang/data/slang.csv', 'row': 603}),\n",
       " Document(page_content=': 604\\nacronym: crbt\\nexpansion: crying real big tears', metadata={'source': '/Users/abdoulabdillahi/Desktop/CSC 680/Final_project/chat_slang/data/slang.csv', 'row': 604}),\n",
       " Document(page_content=': 605\\nacronym: cwtsy\\nexpansion: cannot wait to see you', metadata={'source': '/Users/abdoulabdillahi/Desktop/CSC 680/Final_project/chat_slang/data/slang.csv', 'row': 605}),\n",
       " Document(page_content=': 606\\nacronym: cwyl\\nexpansion: chat with you later', metadata={'source': '/Users/abdoulabdillahi/Desktop/CSC 680/Final_project/chat_slang/data/slang.csv', 'row': 606}),\n",
       " Document(page_content=': 607\\nacronym: cyb\\nexpansion: count your blessings', metadata={'source': '/Users/abdoulabdillahi/Desktop/CSC 680/Final_project/chat_slang/data/slang.csv', 'row': 607}),\n",
       " Document(page_content=': 608\\nacronym: cybi\\nexpansion: can you believe it', metadata={'source': '/Users/abdoulabdillahi/Desktop/CSC 680/Final_project/chat_slang/data/slang.csv', 'row': 608}),\n",
       " Document(page_content=': 609\\nacronym: cydi\\nexpansion: can you dig it', metadata={'source': '/Users/abdoulabdillahi/Desktop/CSC 680/Final_project/chat_slang/data/slang.csv', 'row': 609}),\n",
       " Document(page_content=': 610\\nacronym: cydm\\nexpansion: check your direct messages', metadata={'source': '/Users/abdoulabdillahi/Desktop/CSC 680/Final_project/chat_slang/data/slang.csv', 'row': 610}),\n",
       " Document(page_content=': 611\\nacronym: cye\\nexpansion: check your email', metadata={'source': '/Users/abdoulabdillahi/Desktop/CSC 680/Final_project/chat_slang/data/slang.csv', 'row': 611}),\n",
       " Document(page_content=': 612\\nacronym: cyf\\nexpansion: cross your fingers', metadata={'source': '/Users/abdoulabdillahi/Desktop/CSC 680/Final_project/chat_slang/data/slang.csv', 'row': 612}),\n",
       " Document(page_content=': 613\\nacronym: cyl\\nexpansion: catch you later', metadata={'source': '/Users/abdoulabdillahi/Desktop/CSC 680/Final_project/chat_slang/data/slang.csv', 'row': 613}),\n",
       " Document(page_content=': 614\\nacronym: cym\\nexpansion: check your mail', metadata={'source': '/Users/abdoulabdillahi/Desktop/CSC 680/Final_project/chat_slang/data/slang.csv', 'row': 614}),\n",
       " Document(page_content=': 615\\nacronym: dln\\nexpansion: do not look now', metadata={'source': '/Users/abdoulabdillahi/Desktop/CSC 680/Final_project/chat_slang/data/slang.csv', 'row': 615}),\n",
       " Document(page_content=': 616\\nacronym: dls\\nexpansion: dirty little secret', metadata={'source': '/Users/abdoulabdillahi/Desktop/CSC 680/Final_project/chat_slang/data/slang.csv', 'row': 616}),\n",
       " Document(page_content=': 617\\nacronym: dltbbb\\nexpansion: do not let the bed bugs bite', metadata={'source': '/Users/abdoulabdillahi/Desktop/CSC 680/Final_project/chat_slang/data/slang.csv', 'row': 617}),\n",
       " Document(page_content=': 618\\nacronym: dltbgyd\\nexpansion: do not let the bastards grind you down', metadata={'source': '/Users/abdoulabdillahi/Desktop/CSC 680/Final_project/chat_slang/data/slang.csv', 'row': 618}),\n",
       " Document(page_content=': 619\\nacronym: dltm\\nexpansion: do not lie to me', metadata={'source': '/Users/abdoulabdillahi/Desktop/CSC 680/Final_project/chat_slang/data/slang.csv', 'row': 619}),\n",
       " Document(page_content=': 620\\nacronym: dlv\\nexpansion: demonstration of lower value', metadata={'source': '/Users/abdoulabdillahi/Desktop/CSC 680/Final_project/chat_slang/data/slang.csv', 'row': 620}),\n",
       " Document(page_content=': 621\\nacronym: dm\\nexpansion: do not mind does not matter direct message', metadata={'source': '/Users/abdoulabdillahi/Desktop/CSC 680/Final_project/chat_slang/data/slang.csv', 'row': 621}),\n",
       " Document(page_content=': 622\\nacronym: dmaf\\nexpansion: do not make a fuss', metadata={'source': '/Users/abdoulabdillahi/Desktop/CSC 680/Final_project/chat_slang/data/slang.csv', 'row': 622}),\n",
       " Document(page_content=': 623\\nacronym: dmal\\nexpansion: drop me a line', metadata={'source': '/Users/abdoulabdillahi/Desktop/CSC 680/Final_project/chat_slang/data/slang.csv', 'row': 623}),\n",
       " Document(page_content=': 624\\nacronym: dmb\\nexpansion: dave matthews band', metadata={'source': '/Users/abdoulabdillahi/Desktop/CSC 680/Final_project/chat_slang/data/slang.csv', 'row': 624}),\n",
       " Document(page_content=': 625\\nacronym: dmc\\nexpansion: deep meaningful conversation', metadata={'source': '/Users/abdoulabdillahi/Desktop/CSC 680/Final_project/chat_slang/data/slang.csv', 'row': 625}),\n",
       " Document(page_content=': 626\\nacronym: dmca\\nexpansion: digital millennium copyright act', metadata={'source': '/Users/abdoulabdillahi/Desktop/CSC 680/Final_project/chat_slang/data/slang.csv', 'row': 626}),\n",
       " Document(page_content=': 627\\nacronym: dmi\\nexpansion: do not mention it', metadata={'source': '/Users/abdoulabdillahi/Desktop/CSC 680/Final_project/chat_slang/data/slang.csv', 'row': 627}),\n",
       " Document(page_content=': 628\\nacronym: dmiid\\nexpansion: do not mind if i do', metadata={'source': '/Users/abdoulabdillahi/Desktop/CSC 680/Final_project/chat_slang/data/slang.csv', 'row': 628}),\n",
       " Document(page_content=': 629\\nacronym: dmm\\nexpansion: do not mind me', metadata={'source': '/Users/abdoulabdillahi/Desktop/CSC 680/Final_project/chat_slang/data/slang.csv', 'row': 629}),\n",
       " Document(page_content=': 630\\nacronym: dmml\\nexpansion: do not make me laugh', metadata={'source': '/Users/abdoulabdillahi/Desktop/CSC 680/Final_project/chat_slang/data/slang.csv', 'row': 630}),\n",
       " Document(page_content=': 631\\nacronym: dms\\nexpansion: dirty money syndicate', metadata={'source': '/Users/abdoulabdillahi/Desktop/CSC 680/Final_project/chat_slang/data/slang.csv', 'row': 631}),\n",
       " Document(page_content=': 632\\nacronym: dmt\\nexpansion: di methyl tryptamine', metadata={'source': '/Users/abdoulabdillahi/Desktop/CSC 680/Final_project/chat_slang/data/slang.csv', 'row': 632}),\n",
       " Document(page_content=': 633\\nacronym: dmta\\nexpansion: dirty minds think alike', metadata={'source': '/Users/abdoulabdillahi/Desktop/CSC 680/Final_project/chat_slang/data/slang.csv', 'row': 633}),\n",
       " Document(page_content=': 634\\nacronym: dmv\\nexpansion: department of motor vehicles', metadata={'source': '/Users/abdoulabdillahi/Desktop/CSC 680/Final_project/chat_slang/data/slang.csv', 'row': 634}),\n",
       " Document(page_content=': 635\\nacronym: dmw\\nexpansion: dead man walking', metadata={'source': '/Users/abdoulabdillahi/Desktop/CSC 680/Final_project/chat_slang/data/slang.csv', 'row': 635}),\n",
       " Document(page_content=': 636\\nacronym: dmx\\nexpansion: dark man x', metadata={'source': '/Users/abdoulabdillahi/Desktop/CSC 680/Final_project/chat_slang/data/slang.csv', 'row': 636}),\n",
       " Document(page_content=': 637\\nacronym: dmy\\nexpansion: do not mess yourself', metadata={'source': '/Users/abdoulabdillahi/Desktop/CSC 680/Final_project/chat_slang/data/slang.csv', 'row': 637}),\n",
       " Document(page_content=': 638\\nacronym: dmz\\nexpansion: de militarized zone', metadata={'source': '/Users/abdoulabdillahi/Desktop/CSC 680/Final_project/chat_slang/data/slang.csv', 'row': 638}),\n",
       " Document(page_content=': 639\\nacronym: dn\\nexpansion: doing nothing', metadata={'source': '/Users/abdoulabdillahi/Desktop/CSC 680/Final_project/chat_slang/data/slang.csv', 'row': 639}),\n",
       " Document(page_content=': 640\\nacronym: dna\\nexpansion: deoxyribonucleic acid did not attend does not apply', metadata={'source': '/Users/abdoulabdillahi/Desktop/CSC 680/Final_project/chat_slang/data/slang.csv', 'row': 640}),\n",
       " Document(page_content=': 641\\nacronym: dnc\\nexpansion: democratic national committee', metadata={'source': '/Users/abdoulabdillahi/Desktop/CSC 680/Final_project/chat_slang/data/slang.csv', 'row': 641}),\n",
       " Document(page_content=': 642\\nacronym: dnd\\nexpansion: do not disturb', metadata={'source': '/Users/abdoulabdillahi/Desktop/CSC 680/Final_project/chat_slang/data/slang.csv', 'row': 642}),\n",
       " Document(page_content=': 643\\nacronym: dndc\\nexpansion: do not know do not care', metadata={'source': '/Users/abdoulabdillahi/Desktop/CSC 680/Final_project/chat_slang/data/slang.csv', 'row': 643}),\n",
       " Document(page_content=': 644\\nacronym: dne\\nexpansion: do not erase does not exist', metadata={'source': '/Users/abdoulabdillahi/Desktop/CSC 680/Final_project/chat_slang/data/slang.csv', 'row': 644}),\n",
       " Document(page_content=': 645\\nacronym: dnf\\nexpansion: did not finish', metadata={'source': '/Users/abdoulabdillahi/Desktop/CSC 680/Final_project/chat_slang/data/slang.csv', 'row': 645}),\n",
       " Document(page_content=': 646\\nacronym: dnftt\\nexpansion: do not feed the troll', metadata={'source': '/Users/abdoulabdillahi/Desktop/CSC 680/Final_project/chat_slang/data/slang.csv', 'row': 646}),\n",
       " Document(page_content=': 647\\nacronym: dnk\\nexpansion: do not know', metadata={'source': '/Users/abdoulabdillahi/Desktop/CSC 680/Final_project/chat_slang/data/slang.csv', 'row': 647}),\n",
       " Document(page_content=': 648\\nacronym: dnm\\nexpansion: does not matter deep and meaningful', metadata={'source': '/Users/abdoulabdillahi/Desktop/CSC 680/Final_project/chat_slang/data/slang.csv', 'row': 648}),\n",
       " Document(page_content=': 649\\nacronym: dnp\\nexpansion: do not post', metadata={'source': '/Users/abdoulabdillahi/Desktop/CSC 680/Final_project/chat_slang/data/slang.csv', 'row': 649}),\n",
       " Document(page_content=': 650\\nacronym: dnr\\nexpansion: do not resuscitate', metadata={'source': '/Users/abdoulabdillahi/Desktop/CSC 680/Final_project/chat_slang/data/slang.csv', 'row': 650}),\n",
       " Document(page_content=': 651\\nacronym: dns\\nexpansion: domain name service did not start', metadata={'source': '/Users/abdoulabdillahi/Desktop/CSC 680/Final_project/chat_slang/data/slang.csv', 'row': 651}),\n",
       " Document(page_content=': 652\\nacronym: dntk\\nexpansion: do not need to know', metadata={'source': '/Users/abdoulabdillahi/Desktop/CSC 680/Final_project/chat_slang/data/slang.csv', 'row': 652}),\n",
       " Document(page_content=': 653\\nacronym: dnw\\nexpansion: do not want', metadata={'source': '/Users/abdoulabdillahi/Desktop/CSC 680/Final_project/chat_slang/data/slang.csv', 'row': 653}),\n",
       " Document(page_content=': 654\\nacronym: doa\\nexpansion: dead on arrival deteriorate on approach', metadata={'source': '/Users/abdoulabdillahi/Desktop/CSC 680/Final_project/chat_slang/data/slang.csv', 'row': 654}),\n",
       " Document(page_content=': 655\\nacronym: dob\\nexpansion: date of birth', metadata={'source': '/Users/abdoulabdillahi/Desktop/CSC 680/Final_project/chat_slang/data/slang.csv', 'row': 655}),\n",
       " Document(page_content=': 656\\nacronym: doc\\nexpansion: doctor drug of choice', metadata={'source': '/Users/abdoulabdillahi/Desktop/CSC 680/Final_project/chat_slang/data/slang.csv', 'row': 656}),\n",
       " Document(page_content=': 657\\nacronym: dod\\nexpansion: day of defeat', metadata={'source': '/Users/abdoulabdillahi/Desktop/CSC 680/Final_project/chat_slang/data/slang.csv', 'row': 657}),\n",
       " Document(page_content=': 658\\nacronym: doe\\nexpansion: depends on experience', metadata={'source': '/Users/abdoulabdillahi/Desktop/CSC 680/Final_project/chat_slang/data/slang.csv', 'row': 658}),\n",
       " Document(page_content=': 659\\nacronym: dof\\nexpansion: depth of field', metadata={'source': '/Users/abdoulabdillahi/Desktop/CSC 680/Final_project/chat_slang/data/slang.csv', 'row': 659}),\n",
       " Document(page_content=': 660\\nacronym: dofl\\nexpansion: dying on floor laughing', metadata={'source': '/Users/abdoulabdillahi/Desktop/CSC 680/Final_project/chat_slang/data/slang.csv', 'row': 660}),\n",
       " Document(page_content=': 661\\nacronym: drt\\nexpansion: dead right there', metadata={'source': '/Users/abdoulabdillahi/Desktop/CSC 680/Final_project/chat_slang/data/slang.csv', 'row': 661}),\n",
       " Document(page_content=': 662\\nacronym: ds\\nexpansion: darling son', metadata={'source': '/Users/abdoulabdillahi/Desktop/CSC 680/Final_project/chat_slang/data/slang.csv', 'row': 662}),\n",
       " Document(page_content=': 663\\nacronym: dsd\\nexpansion: do some damage', metadata={'source': '/Users/abdoulabdillahi/Desktop/CSC 680/Final_project/chat_slang/data/slang.csv', 'row': 663}),\n",
       " Document(page_content=': 664\\nacronym: dsl\\nexpansion: digital subscriber line', metadata={'source': '/Users/abdoulabdillahi/Desktop/CSC 680/Final_project/chat_slang/data/slang.csv', 'row': 664}),\n",
       " Document(page_content=': 665\\nacronym: dslr\\nexpansion: digital single lens reflex', metadata={'source': '/Users/abdoulabdillahi/Desktop/CSC 680/Final_project/chat_slang/data/slang.csv', 'row': 665}),\n",
       " Document(page_content=': 666\\nacronym: dsp\\nexpansion: digital signal processing', metadata={'source': '/Users/abdoulabdillahi/Desktop/CSC 680/Final_project/chat_slang/data/slang.csv', 'row': 666}),\n",
       " Document(page_content=': 667\\nacronym: dss\\nexpansion: department of social services', metadata={'source': '/Users/abdoulabdillahi/Desktop/CSC 680/Final_project/chat_slang/data/slang.csv', 'row': 667}),\n",
       " Document(page_content=': 668\\nacronym: dst\\nexpansion: daylight saving time', metadata={'source': '/Users/abdoulabdillahi/Desktop/CSC 680/Final_project/chat_slang/data/slang.csv', 'row': 668}),\n",
       " Document(page_content=': 669\\nacronym: dt\\nexpansion: down town', metadata={'source': '/Users/abdoulabdillahi/Desktop/CSC 680/Final_project/chat_slang/data/slang.csv', 'row': 669}),\n",
       " Document(page_content=': 670\\nacronym: dta\\nexpansion: do not trust anyone', metadata={'source': '/Users/abdoulabdillahi/Desktop/CSC 680/Final_project/chat_slang/data/slang.csv', 'row': 670}),\n",
       " Document(page_content=': 671\\nacronym: dtam\\nexpansion: death to all men', metadata={'source': '/Users/abdoulabdillahi/Desktop/CSC 680/Final_project/chat_slang/data/slang.csv', 'row': 671}),\n",
       " Document(page_content=': 672\\nacronym: dtb\\nexpansion: do not text back', metadata={'source': '/Users/abdoulabdillahi/Desktop/CSC 680/Final_project/chat_slang/data/slang.csv', 'row': 672}),\n",
       " Document(page_content=': 673\\nacronym: dtc\\nexpansion: down to cuddle', metadata={'source': '/Users/abdoulabdillahi/Desktop/CSC 680/Final_project/chat_slang/data/slang.csv', 'row': 673}),\n",
       " Document(page_content=': 674\\nacronym: dtd\\nexpansion: drunk till dawn drunk till death', metadata={'source': '/Users/abdoulabdillahi/Desktop/CSC 680/Final_project/chat_slang/data/slang.csv', 'row': 674}),\n",
       " Document(page_content=': 675\\nacronym: dte\\nexpansion: down to earth', metadata={'source': '/Users/abdoulabdillahi/Desktop/CSC 680/Final_project/chat_slang/data/slang.csv', 'row': 675}),\n",
       " Document(page_content=': 676\\nacronym: dth\\nexpansion: down to hang', metadata={'source': '/Users/abdoulabdillahi/Desktop/CSC 680/Final_project/chat_slang/data/slang.csv', 'row': 676}),\n",
       " Document(page_content=': 677\\nacronym: dtl\\nexpansion: does the look', metadata={'source': '/Users/abdoulabdillahi/Desktop/CSC 680/Final_project/chat_slang/data/slang.csv', 'row': 677}),\n",
       " Document(page_content=': 678\\nacronym: dtm\\nexpansion: doing too much dead to me', metadata={'source': '/Users/abdoulabdillahi/Desktop/CSC 680/Final_project/chat_slang/data/slang.csv', 'row': 678}),\n",
       " Document(page_content=': 679\\nacronym: dtms\\nexpansion: does that make sense', metadata={'source': '/Users/abdoulabdillahi/Desktop/CSC 680/Final_project/chat_slang/data/slang.csv', 'row': 679}),\n",
       " Document(page_content=': 680\\nacronym: dtmwtd\\nexpansion: do not tell me what to do', metadata={'source': '/Users/abdoulabdillahi/Desktop/CSC 680/Final_project/chat_slang/data/slang.csv', 'row': 680}),\n",
       " Document(page_content=': 681\\nacronym: dtp\\nexpansion: disturbing the peace', metadata={'source': '/Users/abdoulabdillahi/Desktop/CSC 680/Final_project/chat_slang/data/slang.csv', 'row': 681}),\n",
       " Document(page_content=': 682\\nacronym: dtr\\nexpansion: define the relationship', metadata={'source': '/Users/abdoulabdillahi/Desktop/CSC 680/Final_project/chat_slang/data/slang.csv', 'row': 682}),\n",
       " Document(page_content=': 683\\nacronym: dtrt\\nexpansion: do the right thing', metadata={'source': '/Users/abdoulabdillahi/Desktop/CSC 680/Final_project/chat_slang/data/slang.csv', 'row': 683}),\n",
       " Document(page_content=': 684\\nacronym: dts\\nexpansion: down the shore down to snuggle', metadata={'source': '/Users/abdoulabdillahi/Desktop/CSC 680/Final_project/chat_slang/data/slang.csv', 'row': 684}),\n",
       " Document(page_content=': 685\\nacronym: dtt\\nexpansion: do not touch that', metadata={'source': '/Users/abdoulabdillahi/Desktop/CSC 680/Final_project/chat_slang/data/slang.csv', 'row': 685}),\n",
       " Document(page_content=': 686\\nacronym: dttc\\nexpansion: do not text the cell', metadata={'source': '/Users/abdoulabdillahi/Desktop/CSC 680/Final_project/chat_slang/data/slang.csv', 'row': 686}),\n",
       " Document(page_content=': 687\\nacronym: dttm\\nexpansion: do not talk to me', metadata={'source': '/Users/abdoulabdillahi/Desktop/CSC 680/Final_project/chat_slang/data/slang.csv', 'row': 687}),\n",
       " Document(page_content=': 688\\nacronym: dtyt\\nexpansion: do not take your time', metadata={'source': '/Users/abdoulabdillahi/Desktop/CSC 680/Final_project/chat_slang/data/slang.csv', 'row': 688}),\n",
       " Document(page_content=': 689\\nacronym: ebm\\nexpansion: electronic body music', metadata={'source': '/Users/abdoulabdillahi/Desktop/CSC 680/Final_project/chat_slang/data/slang.csv', 'row': 689}),\n",
       " Document(page_content=': 690\\nacronym: ebt\\nexpansion: electronic benefits transfer', metadata={'source': '/Users/abdoulabdillahi/Desktop/CSC 680/Final_project/chat_slang/data/slang.csv', 'row': 690}),\n",
       " Document(page_content=': 691\\nacronym: elol\\nexpansion: evil laugh out loud', metadata={'source': '/Users/abdoulabdillahi/Desktop/CSC 680/Final_project/chat_slang/data/slang.csv', 'row': 691}),\n",
       " Document(page_content=': 692\\nacronym: eob\\nexpansion: end of business', metadata={'source': '/Users/abdoulabdillahi/Desktop/CSC 680/Final_project/chat_slang/data/slang.csv', 'row': 692}),\n",
       " Document(page_content=': 693\\nacronym: eoc\\nexpansion: end of conversion', metadata={'source': '/Users/abdoulabdillahi/Desktop/CSC 680/Final_project/chat_slang/data/slang.csv', 'row': 693}),\n",
       " Document(page_content=': 694\\nacronym: eod\\nexpansion: end of discussion', metadata={'source': '/Users/abdoulabdillahi/Desktop/CSC 680/Final_project/chat_slang/data/slang.csv', 'row': 694}),\n",
       " Document(page_content=': 695\\nacronym: eoe\\nexpansion: equal opportunity employer', metadata={'source': '/Users/abdoulabdillahi/Desktop/CSC 680/Final_project/chat_slang/data/slang.csv', 'row': 695}),\n",
       " Document(page_content=': 696\\nacronym: eof\\nexpansion: end of file', metadata={'source': '/Users/abdoulabdillahi/Desktop/CSC 680/Final_project/chat_slang/data/slang.csv', 'row': 696}),\n",
       " Document(page_content=': 697\\nacronym: eog\\nexpansion: end of grade', metadata={'source': '/Users/abdoulabdillahi/Desktop/CSC 680/Final_project/chat_slang/data/slang.csv', 'row': 697}),\n",
       " Document(page_content=': 698\\nacronym: eol\\nexpansion: end of lecture', metadata={'source': '/Users/abdoulabdillahi/Desktop/CSC 680/Final_project/chat_slang/data/slang.csv', 'row': 698}),\n",
       " Document(page_content=': 699\\nacronym: eom\\nexpansion: end of message', metadata={'source': '/Users/abdoulabdillahi/Desktop/CSC 680/Final_project/chat_slang/data/slang.csv', 'row': 699}),\n",
       " Document(page_content=': 700\\nacronym: eor\\nexpansion: end of rant', metadata={'source': '/Users/abdoulabdillahi/Desktop/CSC 680/Final_project/chat_slang/data/slang.csv', 'row': 700}),\n",
       " Document(page_content=': 701\\nacronym: eos\\nexpansion: end of show', metadata={'source': '/Users/abdoulabdillahi/Desktop/CSC 680/Final_project/chat_slang/data/slang.csv', 'row': 701}),\n",
       " Document(page_content=': 702\\nacronym: eot\\nexpansion: end of thread', metadata={'source': '/Users/abdoulabdillahi/Desktop/CSC 680/Final_project/chat_slang/data/slang.csv', 'row': 702}),\n",
       " Document(page_content=': 703\\nacronym: eotd\\nexpansion: end of the day', metadata={'source': '/Users/abdoulabdillahi/Desktop/CSC 680/Final_project/chat_slang/data/slang.csv', 'row': 703}),\n",
       " Document(page_content=': 704\\nacronym: eotw\\nexpansion: end of the world', metadata={'source': '/Users/abdoulabdillahi/Desktop/CSC 680/Final_project/chat_slang/data/slang.csv', 'row': 704}),\n",
       " Document(page_content=': 705\\nacronym: eotwawki\\nexpansion: end of the world as we know it', metadata={'source': '/Users/abdoulabdillahi/Desktop/CSC 680/Final_project/chat_slang/data/slang.csv', 'row': 705}),\n",
       " Document(page_content=': 706\\nacronym: eow\\nexpansion: end of watch', metadata={'source': '/Users/abdoulabdillahi/Desktop/CSC 680/Final_project/chat_slang/data/slang.csv', 'row': 706}),\n",
       " Document(page_content=': 707\\nacronym: epos\\nexpansion: electronic point of sale', metadata={'source': '/Users/abdoulabdillahi/Desktop/CSC 680/Final_project/chat_slang/data/slang.csv', 'row': 707}),\n",
       " Document(page_content=': 708\\nacronym: eprom\\nexpansion: electronically programmable rom', metadata={'source': '/Users/abdoulabdillahi/Desktop/CSC 680/Final_project/chat_slang/data/slang.csv', 'row': 708}),\n",
       " Document(page_content=': 709\\nacronym: erp\\nexpansion: erotic role play', metadata={'source': '/Users/abdoulabdillahi/Desktop/CSC 680/Final_project/chat_slang/data/slang.csv', 'row': 709}),\n",
       " Document(page_content=': 710\\nacronym: esa\\nexpansion: european space agency', metadata={'source': '/Users/abdoulabdillahi/Desktop/CSC 680/Final_project/chat_slang/data/slang.csv', 'row': 710}),\n",
       " Document(page_content=': 711\\nacronym: esb\\nexpansion: empire stikes back', metadata={'source': '/Users/abdoulabdillahi/Desktop/CSC 680/Final_project/chat_slang/data/slang.csv', 'row': 711}),\n",
       " Document(page_content=': 712\\nacronym: esd\\nexpansion: electro static discharge', metadata={'source': '/Users/abdoulabdillahi/Desktop/CSC 680/Final_project/chat_slang/data/slang.csv', 'row': 712}),\n",
       " Document(page_content=': 713\\nacronym: esl\\nexpansion: english as second language', metadata={'source': '/Users/abdoulabdillahi/Desktop/CSC 680/Final_project/chat_slang/data/slang.csv', 'row': 713}),\n",
       " Document(page_content=': 714\\nacronym: esol\\nexpansion: english for speakers of other languages', metadata={'source': '/Users/abdoulabdillahi/Desktop/CSC 680/Final_project/chat_slang/data/slang.csv', 'row': 714}),\n",
       " Document(page_content=': 715\\nacronym: esp\\nexpansion: extra sensory perception', metadata={'source': '/Users/abdoulabdillahi/Desktop/CSC 680/Final_project/chat_slang/data/slang.csv', 'row': 715}),\n",
       " Document(page_content=': 716\\nacronym: espn\\nexpansion: entertainment and sports programming network', metadata={'source': '/Users/abdoulabdillahi/Desktop/CSC 680/Final_project/chat_slang/data/slang.csv', 'row': 716}),\n",
       " Document(page_content=': 717\\nacronym: esrb\\nexpansion: entertainment software rating board', metadata={'source': '/Users/abdoulabdillahi/Desktop/CSC 680/Final_project/chat_slang/data/slang.csv', 'row': 717}),\n",
       " Document(page_content=': 718\\nacronym: est\\nexpansion: eastern standard time established', metadata={'source': '/Users/abdoulabdillahi/Desktop/CSC 680/Final_project/chat_slang/data/slang.csv', 'row': 718}),\n",
       " Document(page_content=': 719\\nacronym: estd\\nexpansion: easier said than done', metadata={'source': '/Users/abdoulabdillahi/Desktop/CSC 680/Final_project/chat_slang/data/slang.csv', 'row': 719}),\n",
       " Document(page_content=': 720\\nacronym: et\\nexpansion: extra terrestrial', metadata={'source': '/Users/abdoulabdillahi/Desktop/CSC 680/Final_project/chat_slang/data/slang.csv', 'row': 720}),\n",
       " Document(page_content=': 721\\nacronym: eta\\nexpansion: estimated time of arrival edited to add', metadata={'source': '/Users/abdoulabdillahi/Desktop/CSC 680/Final_project/chat_slang/data/slang.csv', 'row': 721}),\n",
       " Document(page_content=': 722\\nacronym: etc\\nexpansion: et cetera', metadata={'source': '/Users/abdoulabdillahi/Desktop/CSC 680/Final_project/chat_slang/data/slang.csv', 'row': 722}),\n",
       " Document(page_content=': 723\\nacronym: etd\\nexpansion: estimated time of departure', metadata={'source': '/Users/abdoulabdillahi/Desktop/CSC 680/Final_project/chat_slang/data/slang.csv', 'row': 723}),\n",
       " Document(page_content=': 724\\nacronym: etf\\nexpansion: escape the fate', metadata={'source': '/Users/abdoulabdillahi/Desktop/CSC 680/Final_project/chat_slang/data/slang.csv', 'row': 724}),\n",
       " Document(page_content=': 725\\nacronym: etid\\nexpansion: everytime i die', metadata={'source': '/Users/abdoulabdillahi/Desktop/CSC 680/Final_project/chat_slang/data/slang.csv', 'row': 725}),\n",
       " Document(page_content=': 726\\nacronym: etw\\nexpansion: enjoy the weekend', metadata={'source': '/Users/abdoulabdillahi/Desktop/CSC 680/Final_project/chat_slang/data/slang.csv', 'row': 726}),\n",
       " Document(page_content=': 727\\nacronym: eu\\nexpansion: european union', metadata={'source': '/Users/abdoulabdillahi/Desktop/CSC 680/Final_project/chat_slang/data/slang.csv', 'row': 727}),\n",
       " Document(page_content=': 728\\nacronym: eua\\nexpansion: end user agreement', metadata={'source': '/Users/abdoulabdillahi/Desktop/CSC 680/Final_project/chat_slang/data/slang.csv', 'row': 728}),\n",
       " Document(page_content=': 729\\nacronym: euc\\nexpansion: excellent used condition', metadata={'source': '/Users/abdoulabdillahi/Desktop/CSC 680/Final_project/chat_slang/data/slang.csv', 'row': 729}),\n",
       " Document(page_content=': 730\\nacronym: eula\\nexpansion: end user license agreement', metadata={'source': '/Users/abdoulabdillahi/Desktop/CSC 680/Final_project/chat_slang/data/slang.csv', 'row': 730}),\n",
       " Document(page_content=': 731\\nacronym: ev\\nexpansion: expected value', metadata={'source': '/Users/abdoulabdillahi/Desktop/CSC 680/Final_project/chat_slang/data/slang.csv', 'row': 731}),\n",
       " Document(page_content=': 732\\nacronym: fya\\nexpansion: for your amusement', metadata={'source': '/Users/abdoulabdillahi/Desktop/CSC 680/Final_project/chat_slang/data/slang.csv', 'row': 732}),\n",
       " Document(page_content=': 733\\nacronym: fyc\\nexpansion: for your convenience for your consideration', metadata={'source': '/Users/abdoulabdillahi/Desktop/CSC 680/Final_project/chat_slang/data/slang.csv', 'row': 733}),\n",
       " Document(page_content=': 734\\nacronym: fye\\nexpansion: for your entertainment', metadata={'source': '/Users/abdoulabdillahi/Desktop/CSC 680/Final_project/chat_slang/data/slang.csv', 'row': 734}),\n",
       " Document(page_content=': 735\\nacronym: fyeo\\nexpansion: for your eyes only', metadata={'source': '/Users/abdoulabdillahi/Desktop/CSC 680/Final_project/chat_slang/data/slang.csv', 'row': 735}),\n",
       " Document(page_content=': 736\\nacronym: fyi\\nexpansion: for your information', metadata={'source': '/Users/abdoulabdillahi/Desktop/CSC 680/Final_project/chat_slang/data/slang.csv', 'row': 736}),\n",
       " Document(page_content=': 737\\nacronym: fyk\\nexpansion: for your knowledge', metadata={'source': '/Users/abdoulabdillahi/Desktop/CSC 680/Final_project/chat_slang/data/slang.csv', 'row': 737}),\n",
       " Document(page_content=': 738\\nacronym: fym\\nexpansion: free your mind', metadata={'source': '/Users/abdoulabdillahi/Desktop/CSC 680/Final_project/chat_slang/data/slang.csv', 'row': 738}),\n",
       " Document(page_content=': 739\\nacronym: fyp\\nexpansion: fixed your post', metadata={'source': '/Users/abdoulabdillahi/Desktop/CSC 680/Final_project/chat_slang/data/slang.csv', 'row': 739}),\n",
       " Document(page_content=': 740\\nacronym: fyr\\nexpansion: for your review for your records', metadata={'source': '/Users/abdoulabdillahi/Desktop/CSC 680/Final_project/chat_slang/data/slang.csv', 'row': 740}),\n",
       " Document(page_content=': 741\\nacronym: fyt\\nexpansion: for your time', metadata={'source': '/Users/abdoulabdillahi/Desktop/CSC 680/Final_project/chat_slang/data/slang.csv', 'row': 741}),\n",
       " Document(page_content=': 742\\nacronym: g o a t\\nexpansion: greatest of all time', metadata={'source': '/Users/abdoulabdillahi/Desktop/CSC 680/Final_project/chat_slang/data/slang.csv', 'row': 742}),\n",
       " Document(page_content=': 743\\nacronym: ga\\nexpansion: go ahead', metadata={'source': '/Users/abdoulabdillahi/Desktop/CSC 680/Final_project/chat_slang/data/slang.csv', 'row': 743}),\n",
       " Document(page_content=': 744\\nacronym: gac\\nexpansion: guilty as charged get a clue', metadata={'source': '/Users/abdoulabdillahi/Desktop/CSC 680/Final_project/chat_slang/data/slang.csv', 'row': 744}),\n",
       " Document(page_content=': 745\\nacronym: gafia\\nexpansion: get away from it all', metadata={'source': '/Users/abdoulabdillahi/Desktop/CSC 680/Final_project/chat_slang/data/slang.csv', 'row': 745}),\n",
       " Document(page_content=': 746\\nacronym: gafm\\nexpansion: get away from me', metadata={'source': '/Users/abdoulabdillahi/Desktop/CSC 680/Final_project/chat_slang/data/slang.csv', 'row': 746}),\n",
       " Document(page_content=': 747\\nacronym: gb\\nexpansion: great britain gigabyte', metadata={'source': '/Users/abdoulabdillahi/Desktop/CSC 680/Final_project/chat_slang/data/slang.csv', 'row': 747}),\n",
       " Document(page_content=': 748\\nacronym: gba\\nexpansion: god bless america', metadata={'source': '/Users/abdoulabdillahi/Desktop/CSC 680/Final_project/chat_slang/data/slang.csv', 'row': 748}),\n",
       " Document(page_content=': 749\\nacronym: gbfn\\nexpansion: goodbye for now', metadata={'source': '/Users/abdoulabdillahi/Desktop/CSC 680/Final_project/chat_slang/data/slang.csv', 'row': 749}),\n",
       " Document(page_content=': 750\\nacronym: gbh\\nexpansion: grievous bodily harm', metadata={'source': '/Users/abdoulabdillahi/Desktop/CSC 680/Final_project/chat_slang/data/slang.csv', 'row': 750}),\n",
       " Document(page_content=': 751\\nacronym: gbml\\nexpansion: good bye my love', metadata={'source': '/Users/abdoulabdillahi/Desktop/CSC 680/Final_project/chat_slang/data/slang.csv', 'row': 751}),\n",
       " Document(page_content=': 752\\nacronym: gbnf\\nexpansion: gone but not forgotten', metadata={'source': '/Users/abdoulabdillahi/Desktop/CSC 680/Final_project/chat_slang/data/slang.csv', 'row': 752}),\n",
       " Document(page_content=': 753\\nacronym: gbp\\nexpansion: great british pounds', metadata={'source': '/Users/abdoulabdillahi/Desktop/CSC 680/Final_project/chat_slang/data/slang.csv', 'row': 753}),\n",
       " Document(page_content=': 754\\nacronym: gbtm\\nexpansion: get back to me', metadata={'source': '/Users/abdoulabdillahi/Desktop/CSC 680/Final_project/chat_slang/data/slang.csv', 'row': 754}),\n",
       " Document(page_content=': 755\\nacronym: gbtw\\nexpansion: get back to work', metadata={'source': '/Users/abdoulabdillahi/Desktop/CSC 680/Final_project/chat_slang/data/slang.csv', 'row': 755}),\n",
       " Document(page_content=': 756\\nacronym: gbu\\nexpansion: god bless you', metadata={'source': '/Users/abdoulabdillahi/Desktop/CSC 680/Final_project/chat_slang/data/slang.csv', 'row': 756}),\n",
       " Document(page_content=': 757\\nacronym: gbwy\\nexpansion: god be with you', metadata={'source': '/Users/abdoulabdillahi/Desktop/CSC 680/Final_project/chat_slang/data/slang.csv', 'row': 757}),\n",
       " Document(page_content=': 758\\nacronym: gby\\nexpansion: god bless you', metadata={'source': '/Users/abdoulabdillahi/Desktop/CSC 680/Final_project/chat_slang/data/slang.csv', 'row': 758}),\n",
       " Document(page_content=': 759\\nacronym: gc\\nexpansion: good contition', metadata={'source': '/Users/abdoulabdillahi/Desktop/CSC 680/Final_project/chat_slang/data/slang.csv', 'row': 759}),\n",
       " Document(page_content=': 760\\nacronym: gcf\\nexpansion: good clean fun', metadata={'source': '/Users/abdoulabdillahi/Desktop/CSC 680/Final_project/chat_slang/data/slang.csv', 'row': 760}),\n",
       " Document(page_content=': 761\\nacronym: gcmg\\nexpansion: god calls me god', metadata={'source': '/Users/abdoulabdillahi/Desktop/CSC 680/Final_project/chat_slang/data/slang.csv', 'row': 761}),\n",
       " Document(page_content=': 762\\nacronym: gcse\\nexpansion: general certificate of secondary education', metadata={'source': '/Users/abdoulabdillahi/Desktop/CSC 680/Final_project/chat_slang/data/slang.csv', 'row': 762}),\n",
       " Document(page_content=': 763\\nacronym: gcwok\\nexpansion: gay couple without kids', metadata={'source': '/Users/abdoulabdillahi/Desktop/CSC 680/Final_project/chat_slang/data/slang.csv', 'row': 763}),\n",
       " Document(page_content=': 764\\nacronym: gd\\nexpansion: gangsta disciple', metadata={'source': '/Users/abdoulabdillahi/Desktop/CSC 680/Final_project/chat_slang/data/slang.csv', 'row': 764}),\n",
       " Document(page_content=': 765\\nacronym: gdfr\\nexpansion: going down for real', metadata={'source': '/Users/abdoulabdillahi/Desktop/CSC 680/Final_project/chat_slang/data/slang.csv', 'row': 765}),\n",
       " Document(page_content=': 766\\nacronym: gdi\\nexpansion: god damn it', metadata={'source': '/Users/abdoulabdillahi/Desktop/CSC 680/Final_project/chat_slang/data/slang.csv', 'row': 766}),\n",
       " Document(page_content=': 767\\nacronym: gdp\\nexpansion: gross domestic product', metadata={'source': '/Users/abdoulabdillahi/Desktop/CSC 680/Final_project/chat_slang/data/slang.csv', 'row': 767}),\n",
       " Document(page_content=': 768\\nacronym: ge\\nexpansion: good evening', metadata={'source': '/Users/abdoulabdillahi/Desktop/CSC 680/Final_project/chat_slang/data/slang.csv', 'row': 768}),\n",
       " Document(page_content=': 769\\nacronym: ged\\nexpansion: general educational development', metadata={'source': '/Users/abdoulabdillahi/Desktop/CSC 680/Final_project/chat_slang/data/slang.csv', 'row': 769}),\n",
       " Document(page_content=': 770\\nacronym: gfa\\nexpansion: grenade free america', metadata={'source': '/Users/abdoulabdillahi/Desktop/CSC 680/Final_project/chat_slang/data/slang.csv', 'row': 770}),\n",
       " Document(page_content=': 771\\nacronym: gfak\\nexpansion: go fly a kite', metadata={'source': '/Users/abdoulabdillahi/Desktop/CSC 680/Final_project/chat_slang/data/slang.csv', 'row': 771}),\n",
       " Document(page_content=': 772\\nacronym: gfc\\nexpansion: global financial crisis', metadata={'source': '/Users/abdoulabdillahi/Desktop/CSC 680/Final_project/chat_slang/data/slang.csv', 'row': 772}),\n",
       " Document(page_content=': 773\\nacronym: gfete\\nexpansion: grinning from ear to ear', metadata={'source': '/Users/abdoulabdillahi/Desktop/CSC 680/Final_project/chat_slang/data/slang.csv', 'row': 773}),\n",
       " Document(page_content=': 774\\nacronym: gff\\nexpansion: grenade free foundation', metadata={'source': '/Users/abdoulabdillahi/Desktop/CSC 680/Final_project/chat_slang/data/slang.csv', 'row': 774}),\n",
       " Document(page_content=': 775\\nacronym: gfi\\nexpansion: go for it', metadata={'source': '/Users/abdoulabdillahi/Desktop/CSC 680/Final_project/chat_slang/data/slang.csv', 'row': 775}),\n",
       " Document(page_content=': 776\\nacronym: gfn\\nexpansion: gone for now', metadata={'source': '/Users/abdoulabdillahi/Desktop/CSC 680/Final_project/chat_slang/data/slang.csv', 'row': 776}),\n",
       " Document(page_content=': 777\\nacronym: gfp\\nexpansion: good for pics', metadata={'source': '/Users/abdoulabdillahi/Desktop/CSC 680/Final_project/chat_slang/data/slang.csv', 'row': 777}),\n",
       " Document(page_content=': 778\\nacronym: gftw\\nexpansion: go for the win', metadata={'source': '/Users/abdoulabdillahi/Desktop/CSC 680/Final_project/chat_slang/data/slang.csv', 'row': 778}),\n",
       " Document(page_content=': 779\\nacronym: gfu\\nexpansion: good for you', metadata={'source': '/Users/abdoulabdillahi/Desktop/CSC 680/Final_project/chat_slang/data/slang.csv', 'row': 779}),\n",
       " Document(page_content=': 780\\nacronym: gfwl\\nexpansion: games for windows live', metadata={'source': '/Users/abdoulabdillahi/Desktop/CSC 680/Final_project/chat_slang/data/slang.csv', 'row': 780}),\n",
       " Document(page_content=': 781\\nacronym: gfy\\nexpansion: good for you', metadata={'source': '/Users/abdoulabdillahi/Desktop/CSC 680/Final_project/chat_slang/data/slang.csv', 'row': 781}),\n",
       " Document(page_content=': 782\\nacronym: gg\\nexpansion: good game', metadata={'source': '/Users/abdoulabdillahi/Desktop/CSC 680/Final_project/chat_slang/data/slang.csv', 'row': 782}),\n",
       " Document(page_content=': 783\\nacronym: gga\\nexpansion: good game all', metadata={'source': '/Users/abdoulabdillahi/Desktop/CSC 680/Final_project/chat_slang/data/slang.csv', 'row': 783}),\n",
       " Document(page_content=': 784\\nacronym: ggbb\\nexpansion: good game bye bye', metadata={'source': '/Users/abdoulabdillahi/Desktop/CSC 680/Final_project/chat_slang/data/slang.csv', 'row': 784}),\n",
       " Document(page_content=': 785\\nacronym: ggg\\nexpansion: good giving and game', metadata={'source': '/Users/abdoulabdillahi/Desktop/CSC 680/Final_project/chat_slang/data/slang.csv', 'row': 785}),\n",
       " Document(page_content=': 786\\nacronym: ggn\\nexpansion: got to go now', metadata={'source': '/Users/abdoulabdillahi/Desktop/CSC 680/Final_project/chat_slang/data/slang.csv', 'row': 786}),\n",
       " Document(page_content=': 787\\nacronym: ggnore\\nexpansion: good game no rematch', metadata={'source': '/Users/abdoulabdillahi/Desktop/CSC 680/Final_project/chat_slang/data/slang.csv', 'row': 787}),\n",
       " Document(page_content=': 788\\nacronym: ggoh\\nexpansion: got to get outta here', metadata={'source': '/Users/abdoulabdillahi/Desktop/CSC 680/Final_project/chat_slang/data/slang.csv', 'row': 788}),\n",
       " Document(page_content=': 789\\nacronym: gh\\nexpansion: guitar hero', metadata={'source': '/Users/abdoulabdillahi/Desktop/CSC 680/Final_project/chat_slang/data/slang.csv', 'row': 789}),\n",
       " Document(page_content=': 790\\nacronym: ghb\\nexpansion: gamma hydroxybutyrate', metadata={'source': '/Users/abdoulabdillahi/Desktop/CSC 680/Final_project/chat_slang/data/slang.csv', 'row': 790}),\n",
       " Document(page_content=': 791\\nacronym: ghd\\nexpansion: good hair day', metadata={'source': '/Users/abdoulabdillahi/Desktop/CSC 680/Final_project/chat_slang/data/slang.csv', 'row': 791}),\n",
       " Document(page_content=': 792\\nacronym: giwist\\nexpansion: gee i wish i would said that', metadata={'source': '/Users/abdoulabdillahi/Desktop/CSC 680/Final_project/chat_slang/data/slang.csv', 'row': 792}),\n",
       " Document(page_content=': 793\\nacronym: giy\\nexpansion: google it yourself', metadata={'source': '/Users/abdoulabdillahi/Desktop/CSC 680/Final_project/chat_slang/data/slang.csv', 'row': 793}),\n",
       " Document(page_content=': 794\\nacronym: giyf\\nexpansion: google is your friend', metadata={'source': '/Users/abdoulabdillahi/Desktop/CSC 680/Final_project/chat_slang/data/slang.csv', 'row': 794}),\n",
       " Document(page_content=': 795\\nacronym: gj\\nexpansion: good job', metadata={'source': '/Users/abdoulabdillahi/Desktop/CSC 680/Final_project/chat_slang/data/slang.csv', 'row': 795}),\n",
       " Document(page_content=': 796\\nacronym: gjoac\\nexpansion: go jump off a cliff', metadata={'source': '/Users/abdoulabdillahi/Desktop/CSC 680/Final_project/chat_slang/data/slang.csv', 'row': 796}),\n",
       " Document(page_content=': 797\\nacronym: gjwhf\\nexpansion: girls just want to have fun', metadata={'source': '/Users/abdoulabdillahi/Desktop/CSC 680/Final_project/chat_slang/data/slang.csv', 'row': 797}),\n",
       " Document(page_content=': 798\\nacronym: gk\\nexpansion: good kid', metadata={'source': '/Users/abdoulabdillahi/Desktop/CSC 680/Final_project/chat_slang/data/slang.csv', 'row': 798}),\n",
       " Document(page_content=': 799\\nacronym: gky\\nexpansion: go kill yourself', metadata={'source': '/Users/abdoulabdillahi/Desktop/CSC 680/Final_project/chat_slang/data/slang.csv', 'row': 799}),\n",
       " Document(page_content=': 800\\nacronym: gl\\nexpansion: good luck good looking', metadata={'source': '/Users/abdoulabdillahi/Desktop/CSC 680/Final_project/chat_slang/data/slang.csv', 'row': 800}),\n",
       " Document(page_content=': 801\\nacronym: gl hf\\nexpansion: good luck have fun', metadata={'source': '/Users/abdoulabdillahi/Desktop/CSC 680/Final_project/chat_slang/data/slang.csv', 'row': 801}),\n",
       " Document(page_content=': 802\\nacronym: gla\\nexpansion: good luck all', metadata={'source': '/Users/abdoulabdillahi/Desktop/CSC 680/Final_project/chat_slang/data/slang.csv', 'row': 802}),\n",
       " Document(page_content=': 803\\nacronym: glag\\nexpansion: giggling like a girl', metadata={'source': '/Users/abdoulabdillahi/Desktop/CSC 680/Final_project/chat_slang/data/slang.csv', 'row': 803}),\n",
       " Document(page_content=': 804\\nacronym: glotr\\nexpansion: good luck on the rebuild', metadata={'source': '/Users/abdoulabdillahi/Desktop/CSC 680/Final_project/chat_slang/data/slang.csv', 'row': 804}),\n",
       " Document(page_content=': 805\\nacronym: glta\\nexpansion: good luck to all', metadata={'source': '/Users/abdoulabdillahi/Desktop/CSC 680/Final_project/chat_slang/data/slang.csv', 'row': 805}),\n",
       " Document(page_content=': 806\\nacronym: glty\\nexpansion: good luck to you', metadata={'source': '/Users/abdoulabdillahi/Desktop/CSC 680/Final_project/chat_slang/data/slang.csv', 'row': 806}),\n",
       " Document(page_content=': 807\\nacronym: glu\\nexpansion: girls like us', metadata={'source': '/Users/abdoulabdillahi/Desktop/CSC 680/Final_project/chat_slang/data/slang.csv', 'row': 807}),\n",
       " Document(page_content=': 808\\nacronym: glws\\nexpansion: good luck with sale', metadata={'source': '/Users/abdoulabdillahi/Desktop/CSC 680/Final_project/chat_slang/data/slang.csv', 'row': 808}),\n",
       " Document(page_content=': 809\\nacronym: glwt\\nexpansion: good luck with that', metadata={'source': '/Users/abdoulabdillahi/Desktop/CSC 680/Final_project/chat_slang/data/slang.csv', 'row': 809}),\n",
       " Document(page_content=': 810\\nacronym: gm\\nexpansion: general motors good morning genetically modified good move', metadata={'source': '/Users/abdoulabdillahi/Desktop/CSC 680/Final_project/chat_slang/data/slang.csv', 'row': 810}),\n",
       " Document(page_content=': 811\\nacronym: gma\\nexpansion: good morning america', metadata={'source': '/Users/abdoulabdillahi/Desktop/CSC 680/Final_project/chat_slang/data/slang.csv', 'row': 811}),\n",
       " Document(page_content=': 812\\nacronym: gmab\\nexpansion: give me a break', metadata={'source': '/Users/abdoulabdillahi/Desktop/CSC 680/Final_project/chat_slang/data/slang.csv', 'row': 812}),\n",
       " Document(page_content=': 813\\nacronym: gmt\\nexpansion: greenwich mean time', metadata={'source': '/Users/abdoulabdillahi/Desktop/CSC 680/Final_project/chat_slang/data/slang.csv', 'row': 813}),\n",
       " Document(page_content=': 814\\nacronym: gmta\\nexpansion: great minds think alike', metadata={'source': '/Users/abdoulabdillahi/Desktop/CSC 680/Final_project/chat_slang/data/slang.csv', 'row': 814}),\n",
       " Document(page_content=': 815\\nacronym: gmv\\nexpansion: got my vote', metadata={'source': '/Users/abdoulabdillahi/Desktop/CSC 680/Final_project/chat_slang/data/slang.csv', 'row': 815}),\n",
       " Document(page_content=': 816\\nacronym: gmy\\nexpansion: good man yourself', metadata={'source': '/Users/abdoulabdillahi/Desktop/CSC 680/Final_project/chat_slang/data/slang.csv', 'row': 816}),\n",
       " Document(page_content=': 817\\nacronym: gn\\nexpansion: good night', metadata={'source': '/Users/abdoulabdillahi/Desktop/CSC 680/Final_project/chat_slang/data/slang.csv', 'row': 817}),\n",
       " Document(page_content=': 818\\nacronym: gnd\\nexpansion: girl next door', metadata={'source': '/Users/abdoulabdillahi/Desktop/CSC 680/Final_project/chat_slang/data/slang.csv', 'row': 818}),\n",
       " Document(page_content=': 819\\nacronym: gne\\nexpansion: good night and everything', metadata={'source': '/Users/abdoulabdillahi/Desktop/CSC 680/Final_project/chat_slang/data/slang.csv', 'row': 819}),\n",
       " Document(page_content=': 820\\nacronym: gnfb\\nexpansion: good night facebook', metadata={'source': '/Users/abdoulabdillahi/Desktop/CSC 680/Final_project/chat_slang/data/slang.csv', 'row': 820}),\n",
       " Document(page_content=': 821\\nacronym: gnsd\\nexpansion: good night sweet dreams', metadata={'source': '/Users/abdoulabdillahi/Desktop/CSC 680/Final_project/chat_slang/data/slang.csv', 'row': 821}),\n",
       " Document(page_content=': 822\\nacronym: goat\\nexpansion: greatest of all time', metadata={'source': '/Users/abdoulabdillahi/Desktop/CSC 680/Final_project/chat_slang/data/slang.csv', 'row': 822}),\n",
       " Document(page_content=': 823\\nacronym: gomer\\nexpansion: get out of my emergency room unwelcome patient', metadata={'source': '/Users/abdoulabdillahi/Desktop/CSC 680/Final_project/chat_slang/data/slang.csv', 'row': 823}),\n",
       " Document(page_content=': 824\\nacronym: gomf\\nexpansion: get outta my face', metadata={'source': '/Users/abdoulabdillahi/Desktop/CSC 680/Final_project/chat_slang/data/slang.csv', 'row': 824}),\n",
       " Document(page_content=': 825\\nacronym: goml\\nexpansion: get on my level', metadata={'source': '/Users/abdoulabdillahi/Desktop/CSC 680/Final_project/chat_slang/data/slang.csv', 'row': 825}),\n",
       " Document(page_content=': 826\\nacronym: goomf\\nexpansion: get out of my face', metadata={'source': '/Users/abdoulabdillahi/Desktop/CSC 680/Final_project/chat_slang/data/slang.csv', 'row': 826}),\n",
       " Document(page_content=': 827\\nacronym: gooml\\nexpansion: get out of my life', metadata={'source': '/Users/abdoulabdillahi/Desktop/CSC 680/Final_project/chat_slang/data/slang.csv', 'row': 827}),\n",
       " Document(page_content=': 828\\nacronym: gop\\nexpansion: grand old party', metadata={'source': '/Users/abdoulabdillahi/Desktop/CSC 680/Final_project/chat_slang/data/slang.csv', 'row': 828}),\n",
       " Document(page_content=': 829\\nacronym: gp\\nexpansion: general principle', metadata={'source': '/Users/abdoulabdillahi/Desktop/CSC 680/Final_project/chat_slang/data/slang.csv', 'row': 829}),\n",
       " Document(page_content=': 830\\nacronym: gpa\\nexpansion: grade point average', metadata={'source': '/Users/abdoulabdillahi/Desktop/CSC 680/Final_project/chat_slang/data/slang.csv', 'row': 830}),\n",
       " Document(page_content=': 831\\nacronym: gpc\\nexpansion: generic pack of cigarettes', metadata={'source': '/Users/abdoulabdillahi/Desktop/CSC 680/Final_project/chat_slang/data/slang.csv', 'row': 831}),\n",
       " Document(page_content=': 832\\nacronym: gpl\\nexpansion: general public license', metadata={'source': '/Users/abdoulabdillahi/Desktop/CSC 680/Final_project/chat_slang/data/slang.csv', 'row': 832}),\n",
       " Document(page_content=': 833\\nacronym: gpoy\\nexpansion: gratuitous picture of yourself', metadata={'source': '/Users/abdoulabdillahi/Desktop/CSC 680/Final_project/chat_slang/data/slang.csv', 'row': 833}),\n",
       " Document(page_content=': 834\\nacronym: gpoyw\\nexpansion: gratuitous picture of yourself wednesday', metadata={'source': '/Users/abdoulabdillahi/Desktop/CSC 680/Final_project/chat_slang/data/slang.csv', 'row': 834}),\n",
       " Document(page_content=': 835\\nacronym: gprs\\nexpansion: general packet radio services', metadata={'source': '/Users/abdoulabdillahi/Desktop/CSC 680/Final_project/chat_slang/data/slang.csv', 'row': 835}),\n",
       " Document(page_content=': 836\\nacronym: gps\\nexpansion: global positioning system', metadata={'source': '/Users/abdoulabdillahi/Desktop/CSC 680/Final_project/chat_slang/data/slang.csv', 'row': 836}),\n",
       " Document(page_content=': 837\\nacronym: gpu\\nexpansion: graphics processing unit', metadata={'source': '/Users/abdoulabdillahi/Desktop/CSC 680/Final_project/chat_slang/data/slang.csv', 'row': 837}),\n",
       " Document(page_content=': 838\\nacronym: gr\\nexpansion: got to run', metadata={'source': '/Users/abdoulabdillahi/Desktop/CSC 680/Final_project/chat_slang/data/slang.csv', 'row': 838}),\n",
       " Document(page_content=': 839\\nacronym: gsd\\nexpansion: getting stuff done', metadata={'source': '/Users/abdoulabdillahi/Desktop/CSC 680/Final_project/chat_slang/data/slang.csv', 'row': 839}),\n",
       " Document(page_content=': 840\\nacronym: gsm\\nexpansion: global system for mobile communications', metadata={'source': '/Users/abdoulabdillahi/Desktop/CSC 680/Final_project/chat_slang/data/slang.csv', 'row': 840}),\n",
       " Document(page_content=': 841\\nacronym: gsoh\\nexpansion: good sense of humor', metadata={'source': '/Users/abdoulabdillahi/Desktop/CSC 680/Final_project/chat_slang/data/slang.csv', 'row': 841}),\n",
       " Document(page_content=': 842\\nacronym: gsr\\nexpansion: gun shot residue', metadata={'source': '/Users/abdoulabdillahi/Desktop/CSC 680/Final_project/chat_slang/data/slang.csv', 'row': 842}),\n",
       " Document(page_content=': 843\\nacronym: gstq\\nexpansion: god save the queen', metadata={'source': '/Users/abdoulabdillahi/Desktop/CSC 680/Final_project/chat_slang/data/slang.csv', 'row': 843}),\n",
       " Document(page_content=': 844\\nacronym: gsw\\nexpansion: gun shot wound', metadata={'source': '/Users/abdoulabdillahi/Desktop/CSC 680/Final_project/chat_slang/data/slang.csv', 'row': 844}),\n",
       " Document(page_content=': 845\\nacronym: gtb\\nexpansion: go to bed', metadata={'source': '/Users/abdoulabdillahi/Desktop/CSC 680/Final_project/chat_slang/data/slang.csv', 'row': 845}),\n",
       " Document(page_content=': 846\\nacronym: gtbb\\nexpansion: good to be back', metadata={'source': '/Users/abdoulabdillahi/Desktop/CSC 680/Final_project/chat_slang/data/slang.csv', 'row': 846}),\n",
       " Document(page_content=': 847\\nacronym: gtbosh\\nexpansion: glad to be of some help', metadata={'source': '/Users/abdoulabdillahi/Desktop/CSC 680/Final_project/chat_slang/data/slang.csv', 'row': 847}),\n",
       " Document(page_content=': 848\\nacronym: gtd\\nexpansion: getting things done', metadata={'source': '/Users/abdoulabdillahi/Desktop/CSC 680/Final_project/chat_slang/data/slang.csv', 'row': 848}),\n",
       " Document(page_content=': 849\\nacronym: gtg\\nexpansion: got to go', metadata={'source': '/Users/abdoulabdillahi/Desktop/CSC 680/Final_project/chat_slang/data/slang.csv', 'row': 849}),\n",
       " Document(page_content=': 850\\nacronym: gtgg\\nexpansion: got to get going', metadata={'source': '/Users/abdoulabdillahi/Desktop/CSC 680/Final_project/chat_slang/data/slang.csv', 'row': 850}),\n",
       " Document(page_content=': 851\\nacronym: gth\\nexpansion: go to hell', metadata={'source': '/Users/abdoulabdillahi/Desktop/CSC 680/Final_project/chat_slang/data/slang.csv', 'row': 851}),\n",
       " Document(page_content=': 852\\nacronym: gthba\\nexpansion: good times had by all', metadata={'source': '/Users/abdoulabdillahi/Desktop/CSC 680/Final_project/chat_slang/data/slang.csv', 'row': 852}),\n",
       " Document(page_content=': 853\\nacronym: gtho\\nexpansion: get the hell out', metadata={'source': '/Users/abdoulabdillahi/Desktop/CSC 680/Final_project/chat_slang/data/slang.csv', 'row': 853}),\n",
       " Document(page_content=': 854\\nacronym: gtk\\nexpansion: good to know', metadata={'source': '/Users/abdoulabdillahi/Desktop/CSC 680/Final_project/chat_slang/data/slang.csv', 'row': 854}),\n",
       " Document(page_content=': 855\\nacronym: gtm\\nexpansion: giggling to myself', metadata={'source': '/Users/abdoulabdillahi/Desktop/CSC 680/Final_project/chat_slang/data/slang.csv', 'row': 855}),\n",
       " Document(page_content=': 856\\nacronym: gto\\nexpansion: gran turismo omologato', metadata={'source': '/Users/abdoulabdillahi/Desktop/CSC 680/Final_project/chat_slang/data/slang.csv', 'row': 856}),\n",
       " Document(page_content=': 857\\nacronym: gtrm\\nexpansion: going to read mail', metadata={'source': '/Users/abdoulabdillahi/Desktop/CSC 680/Final_project/chat_slang/data/slang.csv', 'row': 857}),\n",
       " Document(page_content=': 858\\nacronym: gtsy\\nexpansion: good to see you', metadata={'source': '/Users/abdoulabdillahi/Desktop/CSC 680/Final_project/chat_slang/data/slang.csv', 'row': 858}),\n",
       " Document(page_content=': 859\\nacronym: gtts\\nexpansion: got the t shirt', metadata={'source': '/Users/abdoulabdillahi/Desktop/CSC 680/Final_project/chat_slang/data/slang.csv', 'row': 859}),\n",
       " Document(page_content=': 860\\nacronym: gtw\\nexpansion: got to work', metadata={'source': '/Users/abdoulabdillahi/Desktop/CSC 680/Final_project/chat_slang/data/slang.csv', 'row': 860}),\n",
       " Document(page_content=': 861\\nacronym: gu\\nexpansion: grow up', metadata={'source': '/Users/abdoulabdillahi/Desktop/CSC 680/Final_project/chat_slang/data/slang.csv', 'row': 861}),\n",
       " Document(page_content=': 862\\nacronym: guti\\nexpansion: get used to it', metadata={'source': '/Users/abdoulabdillahi/Desktop/CSC 680/Final_project/chat_slang/data/slang.csv', 'row': 862}),\n",
       " Document(page_content=': 863\\nacronym: gw\\nexpansion: good work', metadata={'source': '/Users/abdoulabdillahi/Desktop/CSC 680/Final_project/chat_slang/data/slang.csv', 'row': 863}),\n",
       " Document(page_content=': 864\\nacronym: gwas\\nexpansion: game was a success', metadata={'source': '/Users/abdoulabdillahi/Desktop/CSC 680/Final_project/chat_slang/data/slang.csv', 'row': 864}),\n",
       " Document(page_content=': 865\\nacronym: gwc\\nexpansion: guy with camera', metadata={'source': '/Users/abdoulabdillahi/Desktop/CSC 680/Final_project/chat_slang/data/slang.csv', 'row': 865}),\n",
       " Document(page_content=': 866\\nacronym: gwg\\nexpansion: girl with glasses', metadata={'source': '/Users/abdoulabdillahi/Desktop/CSC 680/Final_project/chat_slang/data/slang.csv', 'row': 866}),\n",
       " Document(page_content=': 867\\nacronym: gwi\\nexpansion: get with it', metadata={'source': '/Users/abdoulabdillahi/Desktop/CSC 680/Final_project/chat_slang/data/slang.csv', 'row': 867}),\n",
       " Document(page_content=': 868\\nacronym: gwk\\nexpansion: game winning kill', metadata={'source': '/Users/abdoulabdillahi/Desktop/CSC 680/Final_project/chat_slang/data/slang.csv', 'row': 868}),\n",
       " Document(page_content=': 869\\nacronym: gwp\\nexpansion: gift with purchase', metadata={'source': '/Users/abdoulabdillahi/Desktop/CSC 680/Final_project/chat_slang/data/slang.csv', 'row': 869}),\n",
       " Document(page_content=': 870\\nacronym: gwr\\nexpansion: guinness world records', metadata={'source': '/Users/abdoulabdillahi/Desktop/CSC 680/Final_project/chat_slang/data/slang.csv', 'row': 870}),\n",
       " Document(page_content=': 871\\nacronym: gws\\nexpansion: get well soon', metadata={'source': '/Users/abdoulabdillahi/Desktop/CSC 680/Final_project/chat_slang/data/slang.csv', 'row': 871}),\n",
       " Document(page_content=': 872\\nacronym: gwtf\\nexpansion: go with the flow', metadata={'source': '/Users/abdoulabdillahi/Desktop/CSC 680/Final_project/chat_slang/data/slang.csv', 'row': 872}),\n",
       " Document(page_content=': 873\\nacronym: gwtp\\nexpansion: get with the program', metadata={'source': '/Users/abdoulabdillahi/Desktop/CSC 680/Final_project/chat_slang/data/slang.csv', 'row': 873}),\n",
       " Document(page_content=': 874\\nacronym: gyaldem\\nexpansion: group of girls', metadata={'source': '/Users/abdoulabdillahi/Desktop/CSC 680/Final_project/chat_slang/data/slang.csv', 'row': 874}),\n",
       " Document(page_content=': 875\\nacronym: gyc\\nexpansion: get your coat', metadata={'source': '/Users/abdoulabdillahi/Desktop/CSC 680/Final_project/chat_slang/data/slang.csv', 'row': 875}),\n",
       " Document(page_content=': 876\\nacronym: gyfs\\nexpansion: get your facts straight', metadata={'source': '/Users/abdoulabdillahi/Desktop/CSC 680/Final_project/chat_slang/data/slang.csv', 'row': 876}),\n",
       " Document(page_content=': 877\\nacronym: gyo\\nexpansion: get your own', metadata={'source': '/Users/abdoulabdillahi/Desktop/CSC 680/Final_project/chat_slang/data/slang.csv', 'row': 877}),\n",
       " Document(page_content=': 878\\nacronym: gyt\\nexpansion: get yourself tested', metadata={'source': '/Users/abdoulabdillahi/Desktop/CSC 680/Final_project/chat_slang/data/slang.csv', 'row': 878}),\n",
       " Document(page_content=': 879\\nacronym: hagd\\nexpansion: have a good day', metadata={'source': '/Users/abdoulabdillahi/Desktop/CSC 680/Final_project/chat_slang/data/slang.csv', 'row': 879}),\n",
       " Document(page_content=': 880\\nacronym: hage\\nexpansion: have a good evening', metadata={'source': '/Users/abdoulabdillahi/Desktop/CSC 680/Final_project/chat_slang/data/slang.csv', 'row': 880}),\n",
       " Document(page_content=': 881\\nacronym: hagl\\nexpansion: have a good life', metadata={'source': '/Users/abdoulabdillahi/Desktop/CSC 680/Final_project/chat_slang/data/slang.csv', 'row': 881}),\n",
       " Document(page_content=': 882\\nacronym: hagn\\nexpansion: have a good night', metadata={'source': '/Users/abdoulabdillahi/Desktop/CSC 680/Final_project/chat_slang/data/slang.csv', 'row': 882}),\n",
       " Document(page_content=': 883\\nacronym: hago\\nexpansion: have a good one', metadata={'source': '/Users/abdoulabdillahi/Desktop/CSC 680/Final_project/chat_slang/data/slang.csv', 'row': 883}),\n",
       " Document(page_content=': 884\\nacronym: hags\\nexpansion: have a great summer', metadata={'source': '/Users/abdoulabdillahi/Desktop/CSC 680/Final_project/chat_slang/data/slang.csv', 'row': 884}),\n",
       " Document(page_content=': 885\\nacronym: hagt\\nexpansion: have a great time', metadata={'source': '/Users/abdoulabdillahi/Desktop/CSC 680/Final_project/chat_slang/data/slang.csv', 'row': 885}),\n",
       " Document(page_content=': 886\\nacronym: haistk\\nexpansion: how am i supposed to know', metadata={'source': '/Users/abdoulabdillahi/Desktop/CSC 680/Final_project/chat_slang/data/slang.csv', 'row': 886}),\n",
       " Document(page_content=': 887\\nacronym: hand\\nexpansion: have a nice day', metadata={'source': '/Users/abdoulabdillahi/Desktop/CSC 680/Final_project/chat_slang/data/slang.csv', 'row': 887}),\n",
       " Document(page_content=': 888\\nacronym: hawt\\nexpansion: hot having a wonderful time', metadata={'source': '/Users/abdoulabdillahi/Desktop/CSC 680/Final_project/chat_slang/data/slang.csv', 'row': 888}),\n",
       " Document(page_content=': 889\\nacronym: hay\\nexpansion: how are you', metadata={'source': '/Users/abdoulabdillahi/Desktop/CSC 680/Final_project/chat_slang/data/slang.csv', 'row': 889}),\n",
       " Document(page_content=': 890\\nacronym: hayd\\nexpansion: how are you doing', metadata={'source': '/Users/abdoulabdillahi/Desktop/CSC 680/Final_project/chat_slang/data/slang.csv', 'row': 890}),\n",
       " Document(page_content=': 891\\nacronym: hayt\\nexpansion: how are you today', metadata={'source': '/Users/abdoulabdillahi/Desktop/CSC 680/Final_project/chat_slang/data/slang.csv', 'row': 891}),\n",
       " Document(page_content=': 892\\nacronym: hbd\\nexpansion: happy birthday', metadata={'source': '/Users/abdoulabdillahi/Desktop/CSC 680/Final_project/chat_slang/data/slang.csv', 'row': 892}),\n",
       " Document(page_content=': 893\\nacronym: hbk\\nexpansion: heart break kid', metadata={'source': '/Users/abdoulabdillahi/Desktop/CSC 680/Final_project/chat_slang/data/slang.csv', 'row': 893}),\n",
       " Document(page_content=': 894\\nacronym: hbn\\nexpansion: how about now', metadata={'source': '/Users/abdoulabdillahi/Desktop/CSC 680/Final_project/chat_slang/data/slang.csv', 'row': 894}),\n",
       " Document(page_content=': 895\\nacronym: hbo\\nexpansion: home box office', metadata={'source': '/Users/abdoulabdillahi/Desktop/CSC 680/Final_project/chat_slang/data/slang.csv', 'row': 895}),\n",
       " Document(page_content=': 896\\nacronym: hbp\\nexpansion: half blood prince', metadata={'source': '/Users/abdoulabdillahi/Desktop/CSC 680/Final_project/chat_slang/data/slang.csv', 'row': 896}),\n",
       " Document(page_content=': 897\\nacronym: hbt\\nexpansion: how bout that', metadata={'source': '/Users/abdoulabdillahi/Desktop/CSC 680/Final_project/chat_slang/data/slang.csv', 'row': 897}),\n",
       " Document(page_content=': 898\\nacronym: hbtu\\nexpansion: happy birthday to you', metadata={'source': '/Users/abdoulabdillahi/Desktop/CSC 680/Final_project/chat_slang/data/slang.csv', 'row': 898}),\n",
       " Document(page_content=': 899\\nacronym: hbty\\nexpansion: happy birthday to you', metadata={'source': '/Users/abdoulabdillahi/Desktop/CSC 680/Final_project/chat_slang/data/slang.csv', 'row': 899}),\n",
       " Document(page_content=': 900\\nacronym: hby\\nexpansion: how about you', metadata={'source': '/Users/abdoulabdillahi/Desktop/CSC 680/Final_project/chat_slang/data/slang.csv', 'row': 900}),\n",
       " Document(page_content=': 901\\nacronym: hc\\nexpansion: holy cow', metadata={'source': '/Users/abdoulabdillahi/Desktop/CSC 680/Final_project/chat_slang/data/slang.csv', 'row': 901}),\n",
       " Document(page_content=': 902\\nacronym: hcdajfu\\nexpansion: he could do a job for us', metadata={'source': '/Users/abdoulabdillahi/Desktop/CSC 680/Final_project/chat_slang/data/slang.csv', 'row': 902}),\n",
       " Document(page_content=': 903\\nacronym: hcit\\nexpansion: how cool is that', metadata={'source': '/Users/abdoulabdillahi/Desktop/CSC 680/Final_project/chat_slang/data/slang.csv', 'row': 903}),\n",
       " Document(page_content=': 904\\nacronym: hd\\nexpansion: high definition', metadata={'source': '/Users/abdoulabdillahi/Desktop/CSC 680/Final_project/chat_slang/data/slang.csv', 'row': 904}),\n",
       " Document(page_content=': 905\\nacronym: hdd\\nexpansion: hard disk drive', metadata={'source': '/Users/abdoulabdillahi/Desktop/CSC 680/Final_project/chat_slang/data/slang.csv', 'row': 905}),\n",
       " Document(page_content=': 906\\nacronym: hdmi\\nexpansion: high definition multimedia interface', metadata={'source': '/Users/abdoulabdillahi/Desktop/CSC 680/Final_project/chat_slang/data/slang.csv', 'row': 906}),\n",
       " Document(page_content=': 907\\nacronym: hdth\\nexpansion: how did that happen', metadata={'source': '/Users/abdoulabdillahi/Desktop/CSC 680/Final_project/chat_slang/data/slang.csv', 'row': 907}),\n",
       " Document(page_content=': 908\\nacronym: hdtv\\nexpansion: high definition television', metadata={'source': '/Users/abdoulabdillahi/Desktop/CSC 680/Final_project/chat_slang/data/slang.csv', 'row': 908}),\n",
       " Document(page_content=': 909\\nacronym: hdy\\nexpansion: how dare you', metadata={'source': '/Users/abdoulabdillahi/Desktop/CSC 680/Final_project/chat_slang/data/slang.csv', 'row': 909}),\n",
       " Document(page_content=': 910\\nacronym: hdyd\\nexpansion: how do you do', metadata={'source': '/Users/abdoulabdillahi/Desktop/CSC 680/Final_project/chat_slang/data/slang.csv', 'row': 910}),\n",
       " Document(page_content=': 911\\nacronym: hdydt\\nexpansion: how did you do that', metadata={'source': '/Users/abdoulabdillahi/Desktop/CSC 680/Final_project/chat_slang/data/slang.csv', 'row': 911}),\n",
       " Document(page_content=': 912\\nacronym: hdyk\\nexpansion: how do you know', metadata={'source': '/Users/abdoulabdillahi/Desktop/CSC 680/Final_project/chat_slang/data/slang.csv', 'row': 912}),\n",
       " Document(page_content=': 913\\nacronym: he\\nexpansion: happy ending high explosives', metadata={'source': '/Users/abdoulabdillahi/Desktop/CSC 680/Final_project/chat_slang/data/slang.csv', 'row': 913}),\n",
       " Document(page_content=': 914\\nacronym: hea\\nexpansion: happily ever after', metadata={'source': '/Users/abdoulabdillahi/Desktop/CSC 680/Final_project/chat_slang/data/slang.csv', 'row': 914}),\n",
       " Document(page_content=': 915\\nacronym: henry\\nexpansion: high earner not rich yet', metadata={'source': '/Users/abdoulabdillahi/Desktop/CSC 680/Final_project/chat_slang/data/slang.csv', 'row': 915}),\n",
       " Document(page_content=': 916\\nacronym: hf\\nexpansion: have fun', metadata={'source': '/Users/abdoulabdillahi/Desktop/CSC 680/Final_project/chat_slang/data/slang.csv', 'row': 916}),\n",
       " Document(page_content=': 917\\nacronym: hffa\\nexpansion: hot from far away', metadata={'source': '/Users/abdoulabdillahi/Desktop/CSC 680/Final_project/chat_slang/data/slang.csv', 'row': 917}),\n",
       " Document(page_content=': 918\\nacronym: hfgl\\nexpansion: have fun good luck', metadata={'source': '/Users/abdoulabdillahi/Desktop/CSC 680/Final_project/chat_slang/data/slang.csv', 'row': 918}),\n",
       " Document(page_content=': 919\\nacronym: hfy\\nexpansion: here for you happy for you', metadata={'source': '/Users/abdoulabdillahi/Desktop/CSC 680/Final_project/chat_slang/data/slang.csv', 'row': 919}),\n",
       " Document(page_content=': 920\\nacronym: hg\\nexpansion: holy grail', metadata={'source': '/Users/abdoulabdillahi/Desktop/CSC 680/Final_project/chat_slang/data/slang.csv', 'row': 920}),\n",
       " Document(page_content=': 921\\nacronym: hgh\\nexpansion: haters going to hate', metadata={'source': '/Users/abdoulabdillahi/Desktop/CSC 680/Final_project/chat_slang/data/slang.csv', 'row': 921}),\n",
       " Document(page_content=': 922\\nacronym: hgi\\nexpansion: how goes it', metadata={'source': '/Users/abdoulabdillahi/Desktop/CSC 680/Final_project/chat_slang/data/slang.csv', 'row': 922}),\n",
       " Document(page_content=': 923\\nacronym: hgl\\nexpansion: happy go lucky', metadata={'source': '/Users/abdoulabdillahi/Desktop/CSC 680/Final_project/chat_slang/data/slang.csv', 'row': 923}),\n",
       " Document(page_content=': 924\\nacronym: hgtv\\nexpansion: home and garden television', metadata={'source': '/Users/abdoulabdillahi/Desktop/CSC 680/Final_project/chat_slang/data/slang.csv', 'row': 924}),\n",
       " Document(page_content=': 925\\nacronym: hgv\\nexpansion: heavy goods vehicle', metadata={'source': '/Users/abdoulabdillahi/Desktop/CSC 680/Final_project/chat_slang/data/slang.csv', 'row': 925}),\n",
       " Document(page_content=': 926\\nacronym: hh\\nexpansion: holding hands', metadata={'source': '/Users/abdoulabdillahi/Desktop/CSC 680/Final_project/chat_slang/data/slang.csv', 'row': 926}),\n",
       " Document(page_content=': 927\\nacronym: hhis\\nexpansion: hanging head in shame', metadata={'source': '/Users/abdoulabdillahi/Desktop/CSC 680/Final_project/chat_slang/data/slang.csv', 'row': 927}),\n",
       " Document(page_content=': 928\\nacronym: hhoj\\nexpansion: ha ha only joking', metadata={'source': '/Users/abdoulabdillahi/Desktop/CSC 680/Final_project/chat_slang/data/slang.csv', 'row': 928}),\n",
       " Document(page_content=': 929\\nacronym: hhok\\nexpansion: ha ha only kidding', metadata={'source': '/Users/abdoulabdillahi/Desktop/CSC 680/Final_project/chat_slang/data/slang.csv', 'row': 929}),\n",
       " Document(page_content=': 930\\nacronym: hhvf\\nexpansion: ha ha very funny', metadata={'source': '/Users/abdoulabdillahi/Desktop/CSC 680/Final_project/chat_slang/data/slang.csv', 'row': 930}),\n",
       " Document(page_content=': 931\\nacronym: hhww\\nexpansion: holding hands while walking', metadata={'source': '/Users/abdoulabdillahi/Desktop/CSC 680/Final_project/chat_slang/data/slang.csv', 'row': 931}),\n",
       " Document(page_content=': 932\\nacronym: hig\\nexpansion: how is it going', metadata={'source': '/Users/abdoulabdillahi/Desktop/CSC 680/Final_project/chat_slang/data/slang.csv', 'row': 932}),\n",
       " Document(page_content=': 933\\nacronym: hiik\\nexpansion: hell if i know', metadata={'source': '/Users/abdoulabdillahi/Desktop/CSC 680/Final_project/chat_slang/data/slang.csv', 'row': 933}),\n",
       " Document(page_content=': 934\\nacronym: himym\\nexpansion: how i met your mother', metadata={'source': '/Users/abdoulabdillahi/Desktop/CSC 680/Final_project/chat_slang/data/slang.csv', 'row': 934}),\n",
       " Document(page_content=': 935\\nacronym: hiv\\nexpansion: human immunodeficiency virus', metadata={'source': '/Users/abdoulabdillahi/Desktop/CSC 680/Final_project/chat_slang/data/slang.csv', 'row': 935}),\n",
       " Document(page_content=': 936\\nacronym: hiwth\\nexpansion: hate it when that happens', metadata={'source': '/Users/abdoulabdillahi/Desktop/CSC 680/Final_project/chat_slang/data/slang.csv', 'row': 936}),\n",
       " Document(page_content=': 937\\nacronym: hjntiy\\nexpansion: he is just not that into you', metadata={'source': '/Users/abdoulabdillahi/Desktop/CSC 680/Final_project/chat_slang/data/slang.csv', 'row': 937}),\n",
       " Document(page_content=': 938\\nacronym: hk\\nexpansion: hong kong hostile kids', metadata={'source': '/Users/abdoulabdillahi/Desktop/CSC 680/Final_project/chat_slang/data/slang.csv', 'row': 938}),\n",
       " Document(page_content=': 939\\nacronym: hl\\nexpansion: half life', metadata={'source': '/Users/abdoulabdillahi/Desktop/CSC 680/Final_project/chat_slang/data/slang.csv', 'row': 939}),\n",
       " Document(page_content=': 940\\nacronym: hlas\\nexpansion: hook line and sinker', metadata={'source': '/Users/abdoulabdillahi/Desktop/CSC 680/Final_project/chat_slang/data/slang.csv', 'row': 940}),\n",
       " Document(page_content=': 941\\nacronym: hmb\\nexpansion: hit me back', metadata={'source': '/Users/abdoulabdillahi/Desktop/CSC 680/Final_project/chat_slang/data/slang.csv', 'row': 941}),\n",
       " Document(page_content=': 942\\nacronym: hmi\\nexpansion: human machine interface', metadata={'source': '/Users/abdoulabdillahi/Desktop/CSC 680/Final_project/chat_slang/data/slang.csv', 'row': 942}),\n",
       " Document(page_content=': 943\\nacronym: hmihy\\nexpansion: how may i help you', metadata={'source': '/Users/abdoulabdillahi/Desktop/CSC 680/Final_project/chat_slang/data/slang.csv', 'row': 943}),\n",
       " Document(page_content=': 944\\nacronym: hml\\nexpansion: hate my life', metadata={'source': '/Users/abdoulabdillahi/Desktop/CSC 680/Final_project/chat_slang/data/slang.csv', 'row': 944}),\n",
       " Document(page_content=': 945\\nacronym: hmp\\nexpansion: help me please', metadata={'source': '/Users/abdoulabdillahi/Desktop/CSC 680/Final_project/chat_slang/data/slang.csv', 'row': 945}),\n",
       " Document(page_content=': 946\\nacronym: hms\\nexpansion: her majestys ship', metadata={'source': '/Users/abdoulabdillahi/Desktop/CSC 680/Final_project/chat_slang/data/slang.csv', 'row': 946}),\n",
       " Document(page_content=': 947\\nacronym: hmu\\nexpansion: hit me up', metadata={'source': '/Users/abdoulabdillahi/Desktop/CSC 680/Final_project/chat_slang/data/slang.csv', 'row': 947}),\n",
       " Document(page_content=': 948\\nacronym: hmul\\nexpansion: hit me up later', metadata={'source': '/Users/abdoulabdillahi/Desktop/CSC 680/Final_project/chat_slang/data/slang.csv', 'row': 948}),\n",
       " Document(page_content=': 949\\nacronym: hmv\\nexpansion: his masters voice', metadata={'source': '/Users/abdoulabdillahi/Desktop/CSC 680/Final_project/chat_slang/data/slang.csv', 'row': 949}),\n",
       " Document(page_content=': 950\\nacronym: hng\\nexpansion: horny net geek', metadata={'source': '/Users/abdoulabdillahi/Desktop/CSC 680/Final_project/chat_slang/data/slang.csv', 'row': 950}),\n",
       " Document(page_content=': 951\\nacronym: hnos\\nexpansion: home network operating system', metadata={'source': '/Users/abdoulabdillahi/Desktop/CSC 680/Final_project/chat_slang/data/slang.csv', 'row': 951}),\n",
       " Document(page_content=': 952\\nacronym: hnr\\nexpansion: hit n run', metadata={'source': '/Users/abdoulabdillahi/Desktop/CSC 680/Final_project/chat_slang/data/slang.csv', 'row': 952}),\n",
       " Document(page_content=': 953\\nacronym: hny\\nexpansion: happy new year', metadata={'source': '/Users/abdoulabdillahi/Desktop/CSC 680/Final_project/chat_slang/data/slang.csv', 'row': 953}),\n",
       " Document(page_content=': 954\\nacronym: ho\\nexpansion: hold on head office', metadata={'source': '/Users/abdoulabdillahi/Desktop/CSC 680/Final_project/chat_slang/data/slang.csv', 'row': 954}),\n",
       " Document(page_content=': 955\\nacronym: hoa\\nexpansion: home owners association', metadata={'source': '/Users/abdoulabdillahi/Desktop/CSC 680/Final_project/chat_slang/data/slang.csv', 'row': 955}),\n",
       " Document(page_content=': 956\\nacronym: hoas\\nexpansion: hold on a second', metadata={'source': '/Users/abdoulabdillahi/Desktop/CSC 680/Final_project/chat_slang/data/slang.csv', 'row': 956}),\n",
       " Document(page_content=': 957\\nacronym: hoay\\nexpansion: how old are you', metadata={'source': '/Users/abdoulabdillahi/Desktop/CSC 680/Final_project/chat_slang/data/slang.csv', 'row': 957}),\n",
       " Document(page_content=': 958\\nacronym: hof\\nexpansion: hall of fame heavy on flag', metadata={'source': '/Users/abdoulabdillahi/Desktop/CSC 680/Final_project/chat_slang/data/slang.csv', 'row': 958}),\n",
       " Document(page_content=': 959\\nacronym: hog\\nexpansion: harley owner group', metadata={'source': '/Users/abdoulabdillahi/Desktop/CSC 680/Final_project/chat_slang/data/slang.csv', 'row': 959}),\n",
       " Document(page_content=': 960\\nacronym: hoh\\nexpansion: head over heels  hard of hearing', metadata={'source': '/Users/abdoulabdillahi/Desktop/CSC 680/Final_project/chat_slang/data/slang.csv', 'row': 960}),\n",
       " Document(page_content=': 961\\nacronym: holland\\nexpansion: hope our love lasts and never dies', metadata={'source': '/Users/abdoulabdillahi/Desktop/CSC 680/Final_project/chat_slang/data/slang.csv', 'row': 961}),\n",
       " Document(page_content=': 962\\nacronym: hov\\nexpansion: high occupancy vehicle', metadata={'source': '/Users/abdoulabdillahi/Desktop/CSC 680/Final_project/chat_slang/data/slang.csv', 'row': 962}),\n",
       " Document(page_content=': 963\\nacronym: howdy\\nexpansion: how do you do', metadata={'source': '/Users/abdoulabdillahi/Desktop/CSC 680/Final_project/chat_slang/data/slang.csv', 'row': 963}),\n",
       " Document(page_content=': 964\\nacronym: hp\\nexpansion: harry potter', metadata={'source': '/Users/abdoulabdillahi/Desktop/CSC 680/Final_project/chat_slang/data/slang.csv', 'row': 964}),\n",
       " Document(page_content=': 965\\nacronym: hq\\nexpansion: high quality', metadata={'source': '/Users/abdoulabdillahi/Desktop/CSC 680/Final_project/chat_slang/data/slang.csv', 'row': 965}),\n",
       " Document(page_content=': 966\\nacronym: hr\\nexpansion: human resources', metadata={'source': '/Users/abdoulabdillahi/Desktop/CSC 680/Final_project/chat_slang/data/slang.csv', 'row': 966}),\n",
       " Document(page_content=': 967\\nacronym: hrc\\nexpansion: human rights campaign', metadata={'source': '/Users/abdoulabdillahi/Desktop/CSC 680/Final_project/chat_slang/data/slang.csv', 'row': 967}),\n",
       " Document(page_content=': 968\\nacronym: hrh\\nexpansion: her royal highness', metadata={'source': '/Users/abdoulabdillahi/Desktop/CSC 680/Final_project/chat_slang/data/slang.csv', 'row': 968}),\n",
       " Document(page_content=': 969\\nacronym: hsbc\\nexpansion: hong kong and shanghai banking corporation', metadata={'source': '/Users/abdoulabdillahi/Desktop/CSC 680/Final_project/chat_slang/data/slang.csv', 'row': 969}),\n",
       " Document(page_content=': 970\\nacronym: hsh\\nexpansion: home sweet home', metadata={'source': '/Users/abdoulabdillahi/Desktop/CSC 680/Final_project/chat_slang/data/slang.csv', 'row': 970}),\n",
       " Document(page_content=': 971\\nacronym: hsik\\nexpansion: how should i know', metadata={'source': '/Users/abdoulabdillahi/Desktop/CSC 680/Final_project/chat_slang/data/slang.csv', 'row': 971}),\n",
       " Document(page_content=': 972\\nacronym: hsit\\nexpansion: how sad is that', metadata={'source': '/Users/abdoulabdillahi/Desktop/CSC 680/Final_project/chat_slang/data/slang.csv', 'row': 972}),\n",
       " Document(page_content=': 973\\nacronym: hsl\\nexpansion: hue saturation lightness', metadata={'source': '/Users/abdoulabdillahi/Desktop/CSC 680/Final_project/chat_slang/data/slang.csv', 'row': 973}),\n",
       " Document(page_content=': 974\\nacronym: hsm\\nexpansion: high school musical', metadata={'source': '/Users/abdoulabdillahi/Desktop/CSC 680/Final_project/chat_slang/data/slang.csv', 'row': 974}),\n",
       " Document(page_content=': 975\\nacronym: hsp\\nexpansion: highly sensitive person', metadata={'source': '/Users/abdoulabdillahi/Desktop/CSC 680/Final_project/chat_slang/data/slang.csv', 'row': 975}),\n",
       " Document(page_content=': 976\\nacronym: hspda\\nexpansion: high speed packet data access', metadata={'source': '/Users/abdoulabdillahi/Desktop/CSC 680/Final_project/chat_slang/data/slang.csv', 'row': 976}),\n",
       " Document(page_content=': 977\\nacronym: hst\\nexpansion: high speed train', metadata={'source': '/Users/abdoulabdillahi/Desktop/CSC 680/Final_project/chat_slang/data/slang.csv', 'row': 977}),\n",
       " Document(page_content=': 978\\nacronym: hsv2\\nexpansion: herpes simplex virus 2', metadata={'source': '/Users/abdoulabdillahi/Desktop/CSC 680/Final_project/chat_slang/data/slang.csv', 'row': 978}),\n",
       " Document(page_content=': 979\\nacronym: ht\\nexpansion: hat tip  home time handheld transceiver', metadata={'source': '/Users/abdoulabdillahi/Desktop/CSC 680/Final_project/chat_slang/data/slang.csv', 'row': 979}),\n",
       " Document(page_content=': 980\\nacronym: htbt\\nexpansion: had to be there', metadata={'source': '/Users/abdoulabdillahi/Desktop/CSC 680/Final_project/chat_slang/data/slang.csv', 'row': 980}),\n",
       " Document(page_content=': 981\\nacronym: htc\\nexpansion: hit the cell', metadata={'source': '/Users/abdoulabdillahi/Desktop/CSC 680/Final_project/chat_slang/data/slang.csv', 'row': 981}),\n",
       " Document(page_content=': 982\\nacronym: hte\\nexpansion: hard to explain', metadata={'source': '/Users/abdoulabdillahi/Desktop/CSC 680/Final_project/chat_slang/data/slang.csv', 'row': 982}),\n",
       " Document(page_content=': 983\\nacronym: htg\\nexpansion: hard to get', metadata={'source': '/Users/abdoulabdillahi/Desktop/CSC 680/Final_project/chat_slang/data/slang.csv', 'row': 983}),\n",
       " Document(page_content=': 984\\nacronym: hth\\nexpansion: hope that helps how the hell', metadata={'source': '/Users/abdoulabdillahi/Desktop/CSC 680/Final_project/chat_slang/data/slang.csv', 'row': 984}),\n",
       " Document(page_content=': 985\\nacronym: hthfys\\nexpansion: hope to hear from you soon', metadata={'source': '/Users/abdoulabdillahi/Desktop/CSC 680/Final_project/chat_slang/data/slang.csv', 'row': 985}),\n",
       " Document(page_content=': 986\\nacronym: htm\\nexpansion: hand to mouth', metadata={'source': '/Users/abdoulabdillahi/Desktop/CSC 680/Final_project/chat_slang/data/slang.csv', 'row': 986}),\n",
       " Document(page_content=': 987\\nacronym: html\\nexpansion: hypertext markup language', metadata={'source': '/Users/abdoulabdillahi/Desktop/CSC 680/Final_project/chat_slang/data/slang.csv', 'row': 987}),\n",
       " Document(page_content=': 988\\nacronym: htsys\\nexpansion: hope to see you soon', metadata={'source': '/Users/abdoulabdillahi/Desktop/CSC 680/Final_project/chat_slang/data/slang.csv', 'row': 988}),\n",
       " Document(page_content=': 989\\nacronym: http\\nexpansion: hyper text transfer protocol', metadata={'source': '/Users/abdoulabdillahi/Desktop/CSC 680/Final_project/chat_slang/data/slang.csv', 'row': 989}),\n",
       " Document(page_content=': 990\\nacronym: https\\nexpansion: hyper text transfer protocol secure', metadata={'source': '/Users/abdoulabdillahi/Desktop/CSC 680/Final_project/chat_slang/data/slang.csv', 'row': 990}),\n",
       " Document(page_content=': 991\\nacronym: httr\\nexpansion: hail to the redskins', metadata={'source': '/Users/abdoulabdillahi/Desktop/CSC 680/Final_project/chat_slang/data/slang.csv', 'row': 991}),\n",
       " Document(page_content=': 992\\nacronym: hu\\nexpansion: hollywood undead', metadata={'source': '/Users/abdoulabdillahi/Desktop/CSC 680/Final_project/chat_slang/data/slang.csv', 'row': 992}),\n",
       " Document(page_content=': 993\\nacronym: hua\\nexpansion: heard understood acknowledged', metadata={'source': '/Users/abdoulabdillahi/Desktop/CSC 680/Final_project/chat_slang/data/slang.csv', 'row': 993}),\n",
       " Document(page_content=': 994\\nacronym: hvac\\nexpansion: heating ventilating air conditioning', metadata={'source': '/Users/abdoulabdillahi/Desktop/CSC 680/Final_project/chat_slang/data/slang.csv', 'row': 994}),\n",
       " Document(page_content=': 995\\nacronym: hvd\\nexpansion: happy valentines day', metadata={'source': '/Users/abdoulabdillahi/Desktop/CSC 680/Final_project/chat_slang/data/slang.csv', 'row': 995}),\n",
       " Document(page_content=': 996\\nacronym: hwb\\nexpansion: hottie with body', metadata={'source': '/Users/abdoulabdillahi/Desktop/CSC 680/Final_project/chat_slang/data/slang.csv', 'row': 996}),\n",
       " Document(page_content=': 997\\nacronym: hwga\\nexpansion: here we go again', metadata={'source': '/Users/abdoulabdillahi/Desktop/CSC 680/Final_project/chat_slang/data/slang.csv', 'row': 997}),\n",
       " Document(page_content=': 998\\nacronym: hwp\\nexpansion: height weight proportional', metadata={'source': '/Users/abdoulabdillahi/Desktop/CSC 680/Final_project/chat_slang/data/slang.csv', 'row': 998}),\n",
       " Document(page_content=': 999\\nacronym: hwsnbn\\nexpansion: he who shall not be named', metadata={'source': '/Users/abdoulabdillahi/Desktop/CSC 680/Final_project/chat_slang/data/slang.csv', 'row': 999}),\n",
       " ...]"
      ]
     },
     "execution_count": 96,
     "metadata": {},
     "output_type": "execute_result"
    }
   ],
   "source": [
    "data"
   ]
  },
  {
   "cell_type": "markdown",
   "id": "1fc5b27d",
   "metadata": {},
   "source": [
    "# 4 Memory LangChain "
   ]
  },
  {
   "cell_type": "code",
   "execution_count": 102,
   "id": "5735d966",
   "metadata": {},
   "outputs": [],
   "source": [
    "from langchain.prompts import PromptTemplate\n",
    "from langchain.chains import LLMChain\n",
    "from langchain.llms import OpenAI"
   ]
  },
  {
   "cell_type": "code",
   "execution_count": 103,
   "id": "c58b0614",
   "metadata": {},
   "outputs": [],
   "source": [
    "client = OpenAI(openai_api_key=mykey)"
   ]
  },
  {
   "cell_type": "code",
   "execution_count": 104,
   "id": "9dece1cc",
   "metadata": {},
   "outputs": [],
   "source": [
    "# first step Create a prompt template \n",
    "prompt_template_name = PromptTemplate (\n",
    "    input_variables = ['product'],\n",
    "    template = \"What is a good name for a company that makes {product}\"\n",
    ")"
   ]
  },
  {
   "cell_type": "code",
   "execution_count": 105,
   "id": "cd3d7aef",
   "metadata": {},
   "outputs": [],
   "source": [
    "# Second step llm chain : connecting multiple components \n",
    "chain = LLMChain(llm=client, prompt=prompt_template_name)"
   ]
  },
  {
   "cell_type": "code",
   "execution_count": 107,
   "id": "6da381ac",
   "metadata": {},
   "outputs": [
    {
     "name": "stdout",
     "output_type": "stream",
     "text": [
      "cake\n",
      "\n",
      "\"Rainbow Bites Bakery\" or \"Vibrant Swirl Sweets\"\n"
     ]
    }
   ],
   "source": [
    "print(chain.run(\"colorful cup\"))"
   ]
  },
  {
   "cell_type": "code",
   "execution_count": 108,
   "id": "13dd6662",
   "metadata": {},
   "outputs": [],
   "source": [
    "prompt_template_name = PromptTemplate (\n",
    "    input_variables = ['product'],\n",
    "    template = \"What is a good name for a company that makes {product}\"\n",
    ")"
   ]
  },
  {
   "cell_type": "code",
   "execution_count": 109,
   "id": "d1be8661",
   "metadata": {},
   "outputs": [],
   "source": [
    "chain = LLMChain(llm=client, prompt=prompt_template_name)"
   ]
  },
  {
   "cell_type": "code",
   "execution_count": 112,
   "id": "5b667333",
   "metadata": {},
   "outputs": [
    {
     "name": "stdout",
     "output_type": "stream",
     "text": [
      "\"SkyTech Drones\"\n"
     ]
    }
   ],
   "source": [
    "print(chain.run(\"drons\").strip())"
   ]
  },
  {
   "cell_type": "code",
   "execution_count": 113,
   "id": "89bb0ca2",
   "metadata": {},
   "outputs": [],
   "source": [
    "# Third step memory, how to maintain the previous conversation \n",
    "chain.memory"
   ]
  },
  {
   "cell_type": "code",
   "execution_count": 114,
   "id": "501f887b",
   "metadata": {},
   "outputs": [
    {
     "data": {
      "text/plain": [
       "NoneType"
      ]
     },
     "execution_count": 114,
     "metadata": {},
     "output_type": "execute_result"
    }
   ],
   "source": [
    "type(chain.memory)"
   ]
  },
  {
   "cell_type": "markdown",
   "id": "e79fe9a8",
   "metadata": {},
   "source": [
    "# ConversationBufferMemory \n",
    " **conversationBufferMemory is a memory, it's goint to store the entire message/n**\n",
    " **We can attach memory to remmember all previous conversation**"
   ]
  },
  {
   "cell_type": "code",
   "execution_count": 119,
   "id": "44e9cfe4",
   "metadata": {},
   "outputs": [],
   "source": [
    "# This function is storing to memory all the convo\n",
    "from langchain.memory import ConversationBufferMemory"
   ]
  },
  {
   "cell_type": "code",
   "execution_count": 120,
   "id": "f6f8e172",
   "metadata": {},
   "outputs": [],
   "source": [
    "memory = ConversationBufferMemory()"
   ]
  },
  {
   "cell_type": "code",
   "execution_count": 121,
   "id": "c5cfefb0",
   "metadata": {},
   "outputs": [],
   "source": [
    "prompt_template_name = PromptTemplate (\n",
    "    input_variables = ['product'],\n",
    "    template = \"What is a good name for a company that makes {product}\"\n",
    ")"
   ]
  },
  {
   "cell_type": "code",
   "execution_count": 123,
   "id": "ea3786d0",
   "metadata": {},
   "outputs": [],
   "source": [
    "chain = LLMChain(llm=client, prompt=prompt_template_name, memory=memory)"
   ]
  },
  {
   "cell_type": "code",
   "execution_count": 124,
   "id": "c64f9094",
   "metadata": {},
   "outputs": [
    {
     "data": {
      "text/plain": [
       "' rackets\\n\\n1. Ace Rackets\\n2. Grand Slam Rackets\\n3. Courtcraft Rackets\\n4. Topspin Rackets\\n5. ProServe Rackets\\n6. Match Point Rackets\\n7. Winged Victory Rackets\\n8. PowerPlay Rackets\\n9. Smashers Rackets\\n10. Elite Rackets'"
      ]
     },
     "execution_count": 124,
     "metadata": {},
     "output_type": "execute_result"
    }
   ],
   "source": [
    "chain.run(\"tennis\")"
   ]
  },
  {
   "cell_type": "code",
   "execution_count": 125,
   "id": "da0f48d6",
   "metadata": {},
   "outputs": [
    {
     "data": {
      "text/plain": [
       "' gear\\n\\n\"Goal Squad Sporting Co.\" \\n'"
      ]
     },
     "execution_count": 125,
     "metadata": {},
     "output_type": "execute_result"
    }
   ],
   "source": [
    "chain.run(\"soccer\")"
   ]
  },
  {
   "cell_type": "code",
   "execution_count": 126,
   "id": "264201a7",
   "metadata": {},
   "outputs": [
    {
     "data": {
      "text/plain": [
       "'\\n\\n1. SkyTech Drones\\n2. AeroVantage\\n3. FlightWorks\\n4. PrecisionAerial\\n5. DroneCraft Co.\\n6. AirWing Innovations\\n7. SkyScout Technologies\\n8. DroneWorks Inc.\\n9. Aerial Dynamics\\n10. Altitude Drones \\n'"
      ]
     },
     "execution_count": 126,
     "metadata": {},
     "output_type": "execute_result"
    }
   ],
   "source": [
    "chain.run(\"Drones\")"
   ]
  },
  {
   "cell_type": "code",
   "execution_count": 128,
   "id": "ba64b19e",
   "metadata": {},
   "outputs": [
    {
     "name": "stdout",
     "output_type": "stream",
     "text": [
      "chat_memory=InMemoryChatMessageHistory(messages=[HumanMessage(content='tennis'), AIMessage(content=' rackets\\n\\n1. Ace Rackets\\n2. Grand Slam Rackets\\n3. Courtcraft Rackets\\n4. Topspin Rackets\\n5. ProServe Rackets\\n6. Match Point Rackets\\n7. Winged Victory Rackets\\n8. PowerPlay Rackets\\n9. Smashers Rackets\\n10. Elite Rackets'), HumanMessage(content='soccer'), AIMessage(content=' gear\\n\\n\"Goal Squad Sporting Co.\" \\n'), HumanMessage(content='Drones'), AIMessage(content='\\n\\n1. SkyTech Drones\\n2. AeroVantage\\n3. FlightWorks\\n4. PrecisionAerial\\n5. DroneCraft Co.\\n6. AirWing Innovations\\n7. SkyScout Technologies\\n8. DroneWorks Inc.\\n9. Aerial Dynamics\\n10. Altitude Drones \\n')])\n"
     ]
    }
   ],
   "source": [
    "# retain memory \n",
    "print(chain.memory)"
   ]
  },
  {
   "cell_type": "code",
   "execution_count": 129,
   "id": "b2f03144",
   "metadata": {},
   "outputs": [
    {
     "data": {
      "text/plain": [
       "'Human: tennis\\nAI:  rackets\\n\\n1. Ace Rackets\\n2. Grand Slam Rackets\\n3. Courtcraft Rackets\\n4. Topspin Rackets\\n5. ProServe Rackets\\n6. Match Point Rackets\\n7. Winged Victory Rackets\\n8. PowerPlay Rackets\\n9. Smashers Rackets\\n10. Elite Rackets\\nHuman: soccer\\nAI:  gear\\n\\n\"Goal Squad Sporting Co.\" \\n\\nHuman: Drones\\nAI: \\n\\n1. SkyTech Drones\\n2. AeroVantage\\n3. FlightWorks\\n4. PrecisionAerial\\n5. DroneCraft Co.\\n6. AirWing Innovations\\n7. SkyScout Technologies\\n8. DroneWorks Inc.\\n9. Aerial Dynamics\\n10. Altitude Drones \\n'"
      ]
     },
     "execution_count": 129,
     "metadata": {},
     "output_type": "execute_result"
    }
   ],
   "source": [
    "chain.memory.buffer"
   ]
  },
  {
   "cell_type": "code",
   "execution_count": 130,
   "id": "318ae39d",
   "metadata": {},
   "outputs": [
    {
     "name": "stdout",
     "output_type": "stream",
     "text": [
      "Human: tennis\n",
      "AI:  rackets\n",
      "\n",
      "1. Ace Rackets\n",
      "2. Grand Slam Rackets\n",
      "3. Courtcraft Rackets\n",
      "4. Topspin Rackets\n",
      "5. ProServe Rackets\n",
      "6. Match Point Rackets\n",
      "7. Winged Victory Rackets\n",
      "8. PowerPlay Rackets\n",
      "9. Smashers Rackets\n",
      "10. Elite Rackets\n",
      "Human: soccer\n",
      "AI:  gear\n",
      "\n",
      "\"Goal Squad Sporting Co.\" \n",
      "\n",
      "Human: Drones\n",
      "AI: \n",
      "\n",
      "1. SkyTech Drones\n",
      "2. AeroVantage\n",
      "3. FlightWorks\n",
      "4. PrecisionAerial\n",
      "5. DroneCraft Co.\n",
      "6. AirWing Innovations\n",
      "7. SkyScout Technologies\n",
      "8. DroneWorks Inc.\n",
      "9. Aerial Dynamics\n",
      "10. Altitude Drones \n",
      "\n"
     ]
    }
   ],
   "source": [
    "print(chain.memory.buffer)"
   ]
  },
  {
   "cell_type": "markdown",
   "id": "fc325a4a",
   "metadata": {},
   "source": [
    "## **ConversationChain**"
   ]
  },
  {
   "cell_type": "markdown",
   "id": "84e567bd",
   "metadata": {},
   "source": [
    "### **Conversation buffer memory goes growing endlessly**\n",
    "**Just rememer last 5 conversation chain or 10-20 conv chain**"
   ]
  },
  {
   "cell_type": "code",
   "execution_count": 132,
   "id": "77457aae",
   "metadata": {},
   "outputs": [],
   "source": [
    "# How to retain the memory if you are using the API \n",
    "from langchain.chains import ConversationChain"
   ]
  },
  {
   "cell_type": "code",
   "execution_count": 133,
   "id": "55d1dbe3",
   "metadata": {},
   "outputs": [],
   "source": [
    "# Object \n",
    "convo = ConversationChain(llm=OpenAI(openai_api_key=mykey, temperature=0.7))"
   ]
  },
  {
   "cell_type": "code",
   "execution_count": 134,
   "id": "6e5305ca",
   "metadata": {},
   "outputs": [
    {
     "data": {
      "text/plain": [
       "PromptTemplate(input_variables=['history', 'input'], template='The following is a friendly conversation between a human and an AI. The AI is talkative and provides lots of specific details from its context. If the AI does not know the answer to a question, it truthfully says it does not know.\\n\\nCurrent conversation:\\n{history}\\nHuman: {input}\\nAI:')"
      ]
     },
     "execution_count": 134,
     "metadata": {},
     "output_type": "execute_result"
    }
   ],
   "source": [
    "convo.prompt"
   ]
  },
  {
   "cell_type": "code",
   "execution_count": 136,
   "id": "fb84c483",
   "metadata": {},
   "outputs": [
    {
     "name": "stdout",
     "output_type": "stream",
     "text": [
      "The following is a friendly conversation between a human and an AI. The AI is talkative and provides lots of specific details from its context. If the AI does not know the answer to a question, it truthfully says it does not know.\n",
      "\n",
      "Current conversation:\n",
      "{history}\n",
      "Human: {input}\n",
      "AI:\n"
     ]
    }
   ],
   "source": [
    "print(convo.prompt.template)"
   ]
  },
  {
   "cell_type": "code",
   "execution_count": 137,
   "id": "812fcd73",
   "metadata": {},
   "outputs": [
    {
     "data": {
      "text/plain": [
       "' The first Cricket World Cup was hosted in 1975 by England. The tournament was organized by the International Cricket Council (ICC) and was won by the West Indies, with Clive Lloyd as their captain. The runner-up was Australia, led by Ian Chappell.'"
      ]
     },
     "execution_count": 137,
     "metadata": {},
     "output_type": "execute_result"
    }
   ],
   "source": [
    "convo.run(\"Who run the first cricket worldcup?\")"
   ]
  },
  {
   "cell_type": "code",
   "execution_count": 138,
   "id": "043d2399",
   "metadata": {},
   "outputs": [
    {
     "data": {
      "text/plain": [
       "' The answer to 2+3 is 5. This is a basic mathematical operation that involves adding two numbers together. It is also known as addition.'"
      ]
     },
     "execution_count": 138,
     "metadata": {},
     "output_type": "execute_result"
    }
   ],
   "source": [
    "convo.run(\"what is 2+3?\")"
   ]
  },
  {
   "cell_type": "code",
   "execution_count": 139,
   "id": "94b65918",
   "metadata": {},
   "outputs": [
    {
     "data": {
      "text/plain": [
       "' The answer to 2+3/2 is 3.5. This is because according to the order of operations, division is performed before addition. So, 3/2 is first calculated to be 1.5, and then added to 2 to get a total of 3.5.'"
      ]
     },
     "execution_count": 139,
     "metadata": {},
     "output_type": "execute_result"
    }
   ],
   "source": [
    "convo.run(\"what is 2+3/2?\")"
   ]
  },
  {
   "cell_type": "code",
   "execution_count": 140,
   "id": "11203e2d",
   "metadata": {},
   "outputs": [
    {
     "data": {
      "text/plain": [
       "' The captain of the West Indies team during the first Cricket World Cup was Clive Lloyd. He was a left-handed batsman and a medium-pace bowler. He also led the team to victory in the 1979 Cricket World Cup. '"
      ]
     },
     "execution_count": 140,
     "metadata": {},
     "output_type": "execute_result"
    }
   ],
   "source": [
    "convo.run(\"Who was the captain of the team?\")"
   ]
  },
  {
   "cell_type": "markdown",
   "id": "85d95c46",
   "metadata": {},
   "source": [
    "## ConversationBufferWindowMemory\n",
    "**You can select the size window to track the memory**\n",
    "ConversationBufferWindowMemory keeps a list of the interactions of the conversation over time. It only uses the last k interactions. \n",
    "This can be helpful for keeping a sliding window of the most recent interactions, so the buffer does not get too large"
   ]
  },
  {
   "cell_type": "code",
   "execution_count": 142,
   "id": "8c2ac746",
   "metadata": {},
   "outputs": [],
   "source": [
    "from langchain.memory import ConversationBufferWindowMemory"
   ]
  },
  {
   "cell_type": "code",
   "execution_count": 159,
   "id": "47417b13",
   "metadata": {},
   "outputs": [],
   "source": [
    "# Object, k = 1 means it only remember 1 prompts (# of prompts)\n",
    "memory = ConversationBufferWindowMemory(k=1)"
   ]
  },
  {
   "cell_type": "code",
   "execution_count": 160,
   "id": "93feebdc",
   "metadata": {},
   "outputs": [],
   "source": [
    "convo_window= ConversationChain(llm=OpenAI(openai_api_key=mykey, temperature=0.7), memory=memory)"
   ]
  },
  {
   "cell_type": "code",
   "execution_count": 161,
   "id": "9830373d",
   "metadata": {},
   "outputs": [
    {
     "data": {
      "text/plain": [
       "' The first Cricket World Cup was organized by the International Cricket Council (ICC) in 1975 and was won by the West Indies team. The tournament was held in England and featured eight teams, including Australia, England, India, New Zealand, Pakistan, Sri Lanka, and the West Indies. The tournament was a round-robin format, with the top two teams advancing to the finals. The West Indies team, led by captain Clive Lloyd, won the final against Australia by 17 runs. So, to answer your question, the West Indies team was the winner of the first Cricket World Cup.'"
      ]
     },
     "execution_count": 161,
     "metadata": {},
     "output_type": "execute_result"
    }
   ],
   "source": [
    "convo_window.run(\"Who run the first cricket worldcup?\")"
   ]
  },
  {
   "cell_type": "code",
   "execution_count": 162,
   "id": "9d99514f",
   "metadata": {},
   "outputs": [
    {
     "data": {
      "text/plain": [
       "'  2+3 equals 5.'"
      ]
     },
     "execution_count": 162,
     "metadata": {},
     "output_type": "execute_result"
    }
   ],
   "source": [
    "convo_window.run(\"what is 2+3?\")"
   ]
  },
  {
   "cell_type": "code",
   "execution_count": 163,
   "id": "fb690a09",
   "metadata": {},
   "outputs": [
    {
     "data": {
      "text/plain": [
       "' I do not have enough context to accurately answer that question. Can you provide more information?'"
      ]
     },
     "execution_count": 163,
     "metadata": {},
     "output_type": "execute_result"
    }
   ],
   "source": [
    "convo_window.run(\"Who was the captain of the team?\")"
   ]
  },
  {
   "cell_type": "code",
   "execution_count": null,
   "id": "b92071d4",
   "metadata": {},
   "outputs": [],
   "source": []
  },
  {
   "cell_type": "code",
   "execution_count": null,
   "id": "5f3498ec",
   "metadata": {},
   "outputs": [],
   "source": []
  }
 ],
 "metadata": {
  "kernelspec": {
   "display_name": "Python 3",
   "language": "python",
   "name": "python3"
  },
  "language_info": {
   "codemirror_mode": {
    "name": "ipython",
    "version": 3
   },
   "file_extension": ".py",
   "mimetype": "text/x-python",
   "name": "python",
   "nbconvert_exporter": "python",
   "pygments_lexer": "ipython3",
   "version": "3.10.14"
  }
 },
 "nbformat": 4,
 "nbformat_minor": 5
}
