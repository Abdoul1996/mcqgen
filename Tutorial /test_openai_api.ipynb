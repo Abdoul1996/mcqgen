{
 "cells": [
  {
   "cell_type": "code",
   "execution_count": 1,
   "id": "9f7a5ad6-804b-45b8-af1f-76aac79f7512",
   "metadata": {},
   "outputs": [],
   "source": [
    "import openai \n",
    "import pandas as pd \n",
    "from dotenv import load_dotenv "
   ]
  },
  {
   "cell_type": "code",
   "execution_count": 2,
   "id": "1596174e-fda9-411a-b2bd-fb02197d2f7b",
   "metadata": {},
   "outputs": [],
   "source": [
    "load_dotenv()\n",
    "\n",
    "mykey = os.getenv('mykey_api')"
   ]
  },
  {
   "cell_type": "code",
   "execution_count": 3,
   "id": "08c1be87-c208-456f-a384-bb2403e59fb7",
   "metadata": {},
   "outputs": [],
   "source": [
    "# How to call the API\n",
    "openai.api_key = mykey"
   ]
  },
  {
   "cell_type": "code",
   "execution_count": 4,
   "id": "d8398af3-b681-44e3-87f6-ce77d5dfebee",
   "metadata": {},
   "outputs": [],
   "source": [
    "# All the models available \n",
    "all_models = openai.models.list ()"
   ]
  },
  {
   "cell_type": "code",
   "execution_count": 10,
   "id": "74a04fab-667d-4fb2-be8f-3fea5a816bf5",
   "metadata": {},
   "outputs": [],
   "source": [
    "# Creating as dataframe \n",
    "df_model = pd.DataFrame(list(all_models), columns=[\"id\", \"created\", \"object\",\"owned_by\"])"
   ]
  },
  {
   "cell_type": "code",
   "execution_count": 11,
   "id": "7d176011-3c64-4a65-bdab-409eb64b874d",
   "metadata": {},
   "outputs": [
    {
     "data": {
      "text/html": [
       "<div>\n",
       "<style scoped>\n",
       "    .dataframe tbody tr th:only-of-type {\n",
       "        vertical-align: middle;\n",
       "    }\n",
       "\n",
       "    .dataframe tbody tr th {\n",
       "        vertical-align: top;\n",
       "    }\n",
       "\n",
       "    .dataframe thead th {\n",
       "        text-align: right;\n",
       "    }\n",
       "</style>\n",
       "<table border=\"1\" class=\"dataframe\">\n",
       "  <thead>\n",
       "    <tr style=\"text-align: right;\">\n",
       "      <th></th>\n",
       "      <th>id</th>\n",
       "      <th>created</th>\n",
       "      <th>object</th>\n",
       "      <th>owned_by</th>\n",
       "    </tr>\n",
       "  </thead>\n",
       "  <tbody>\n",
       "    <tr>\n",
       "      <th>0</th>\n",
       "      <td>(id, dall-e-3)</td>\n",
       "      <td>(created, 1698785189)</td>\n",
       "      <td>(object, model)</td>\n",
       "      <td>(owned_by, system)</td>\n",
       "    </tr>\n",
       "    <tr>\n",
       "      <th>1</th>\n",
       "      <td>(id, whisper-1)</td>\n",
       "      <td>(created, 1677532384)</td>\n",
       "      <td>(object, model)</td>\n",
       "      <td>(owned_by, openai-internal)</td>\n",
       "    </tr>\n",
       "    <tr>\n",
       "      <th>2</th>\n",
       "      <td>(id, davinci-002)</td>\n",
       "      <td>(created, 1692634301)</td>\n",
       "      <td>(object, model)</td>\n",
       "      <td>(owned_by, system)</td>\n",
       "    </tr>\n",
       "    <tr>\n",
       "      <th>3</th>\n",
       "      <td>(id, dall-e-2)</td>\n",
       "      <td>(created, 1698798177)</td>\n",
       "      <td>(object, model)</td>\n",
       "      <td>(owned_by, system)</td>\n",
       "    </tr>\n",
       "    <tr>\n",
       "      <th>4</th>\n",
       "      <td>(id, gpt-3.5-turbo-16k)</td>\n",
       "      <td>(created, 1683758102)</td>\n",
       "      <td>(object, model)</td>\n",
       "      <td>(owned_by, openai-internal)</td>\n",
       "    </tr>\n",
       "    <tr>\n",
       "      <th>5</th>\n",
       "      <td>(id, tts-1-hd-1106)</td>\n",
       "      <td>(created, 1699053533)</td>\n",
       "      <td>(object, model)</td>\n",
       "      <td>(owned_by, system)</td>\n",
       "    </tr>\n",
       "    <tr>\n",
       "      <th>6</th>\n",
       "      <td>(id, gpt-4o-2024-05-13)</td>\n",
       "      <td>(created, 1715368132)</td>\n",
       "      <td>(object, model)</td>\n",
       "      <td>(owned_by, system)</td>\n",
       "    </tr>\n",
       "    <tr>\n",
       "      <th>7</th>\n",
       "      <td>(id, tts-1-hd)</td>\n",
       "      <td>(created, 1699046015)</td>\n",
       "      <td>(object, model)</td>\n",
       "      <td>(owned_by, system)</td>\n",
       "    </tr>\n",
       "    <tr>\n",
       "      <th>8</th>\n",
       "      <td>(id, gpt-4o)</td>\n",
       "      <td>(created, 1715367049)</td>\n",
       "      <td>(object, model)</td>\n",
       "      <td>(owned_by, system)</td>\n",
       "    </tr>\n",
       "    <tr>\n",
       "      <th>9</th>\n",
       "      <td>(id, gpt-4)</td>\n",
       "      <td>(created, 1687882411)</td>\n",
       "      <td>(object, model)</td>\n",
       "      <td>(owned_by, openai)</td>\n",
       "    </tr>\n",
       "    <tr>\n",
       "      <th>10</th>\n",
       "      <td>(id, gpt-4-0613)</td>\n",
       "      <td>(created, 1686588896)</td>\n",
       "      <td>(object, model)</td>\n",
       "      <td>(owned_by, openai)</td>\n",
       "    </tr>\n",
       "    <tr>\n",
       "      <th>11</th>\n",
       "      <td>(id, gpt-3.5-turbo-1106)</td>\n",
       "      <td>(created, 1698959748)</td>\n",
       "      <td>(object, model)</td>\n",
       "      <td>(owned_by, system)</td>\n",
       "    </tr>\n",
       "    <tr>\n",
       "      <th>12</th>\n",
       "      <td>(id, gpt-3.5-turbo-instruct-0914)</td>\n",
       "      <td>(created, 1694122472)</td>\n",
       "      <td>(object, model)</td>\n",
       "      <td>(owned_by, system)</td>\n",
       "    </tr>\n",
       "    <tr>\n",
       "      <th>13</th>\n",
       "      <td>(id, gpt-3.5-turbo-instruct)</td>\n",
       "      <td>(created, 1692901427)</td>\n",
       "      <td>(object, model)</td>\n",
       "      <td>(owned_by, system)</td>\n",
       "    </tr>\n",
       "    <tr>\n",
       "      <th>14</th>\n",
       "      <td>(id, gpt-4-1106-preview)</td>\n",
       "      <td>(created, 1698957206)</td>\n",
       "      <td>(object, model)</td>\n",
       "      <td>(owned_by, system)</td>\n",
       "    </tr>\n",
       "    <tr>\n",
       "      <th>15</th>\n",
       "      <td>(id, tts-1)</td>\n",
       "      <td>(created, 1681940951)</td>\n",
       "      <td>(object, model)</td>\n",
       "      <td>(owned_by, openai-internal)</td>\n",
       "    </tr>\n",
       "    <tr>\n",
       "      <th>16</th>\n",
       "      <td>(id, gpt-3.5-turbo-0301)</td>\n",
       "      <td>(created, 1677649963)</td>\n",
       "      <td>(object, model)</td>\n",
       "      <td>(owned_by, openai)</td>\n",
       "    </tr>\n",
       "    <tr>\n",
       "      <th>17</th>\n",
       "      <td>(id, babbage-002)</td>\n",
       "      <td>(created, 1692634615)</td>\n",
       "      <td>(object, model)</td>\n",
       "      <td>(owned_by, system)</td>\n",
       "    </tr>\n",
       "    <tr>\n",
       "      <th>18</th>\n",
       "      <td>(id, gpt-4-0125-preview)</td>\n",
       "      <td>(created, 1706037612)</td>\n",
       "      <td>(object, model)</td>\n",
       "      <td>(owned_by, system)</td>\n",
       "    </tr>\n",
       "    <tr>\n",
       "      <th>19</th>\n",
       "      <td>(id, gpt-4-turbo-2024-04-09)</td>\n",
       "      <td>(created, 1712601677)</td>\n",
       "      <td>(object, model)</td>\n",
       "      <td>(owned_by, system)</td>\n",
       "    </tr>\n",
       "    <tr>\n",
       "      <th>20</th>\n",
       "      <td>(id, tts-1-1106)</td>\n",
       "      <td>(created, 1699053241)</td>\n",
       "      <td>(object, model)</td>\n",
       "      <td>(owned_by, system)</td>\n",
       "    </tr>\n",
       "    <tr>\n",
       "      <th>21</th>\n",
       "      <td>(id, gpt-4-turbo-preview)</td>\n",
       "      <td>(created, 1706037777)</td>\n",
       "      <td>(object, model)</td>\n",
       "      <td>(owned_by, system)</td>\n",
       "    </tr>\n",
       "    <tr>\n",
       "      <th>22</th>\n",
       "      <td>(id, gpt-3.5-turbo-0125)</td>\n",
       "      <td>(created, 1706048358)</td>\n",
       "      <td>(object, model)</td>\n",
       "      <td>(owned_by, system)</td>\n",
       "    </tr>\n",
       "    <tr>\n",
       "      <th>23</th>\n",
       "      <td>(id, text-embedding-3-large)</td>\n",
       "      <td>(created, 1705953180)</td>\n",
       "      <td>(object, model)</td>\n",
       "      <td>(owned_by, system)</td>\n",
       "    </tr>\n",
       "    <tr>\n",
       "      <th>24</th>\n",
       "      <td>(id, gpt-4-turbo)</td>\n",
       "      <td>(created, 1712361441)</td>\n",
       "      <td>(object, model)</td>\n",
       "      <td>(owned_by, system)</td>\n",
       "    </tr>\n",
       "    <tr>\n",
       "      <th>25</th>\n",
       "      <td>(id, gpt-3.5-turbo)</td>\n",
       "      <td>(created, 1677610602)</td>\n",
       "      <td>(object, model)</td>\n",
       "      <td>(owned_by, openai)</td>\n",
       "    </tr>\n",
       "    <tr>\n",
       "      <th>26</th>\n",
       "      <td>(id, text-embedding-3-small)</td>\n",
       "      <td>(created, 1705948997)</td>\n",
       "      <td>(object, model)</td>\n",
       "      <td>(owned_by, system)</td>\n",
       "    </tr>\n",
       "    <tr>\n",
       "      <th>27</th>\n",
       "      <td>(id, gpt-3.5-turbo-0613)</td>\n",
       "      <td>(created, 1686587434)</td>\n",
       "      <td>(object, model)</td>\n",
       "      <td>(owned_by, openai)</td>\n",
       "    </tr>\n",
       "    <tr>\n",
       "      <th>28</th>\n",
       "      <td>(id, text-embedding-ada-002)</td>\n",
       "      <td>(created, 1671217299)</td>\n",
       "      <td>(object, model)</td>\n",
       "      <td>(owned_by, openai-internal)</td>\n",
       "    </tr>\n",
       "    <tr>\n",
       "      <th>29</th>\n",
       "      <td>(id, gpt-4-1106-vision-preview)</td>\n",
       "      <td>(created, 1711473033)</td>\n",
       "      <td>(object, model)</td>\n",
       "      <td>(owned_by, system)</td>\n",
       "    </tr>\n",
       "    <tr>\n",
       "      <th>30</th>\n",
       "      <td>(id, gpt-4-vision-preview)</td>\n",
       "      <td>(created, 1698894917)</td>\n",
       "      <td>(object, model)</td>\n",
       "      <td>(owned_by, system)</td>\n",
       "    </tr>\n",
       "    <tr>\n",
       "      <th>31</th>\n",
       "      <td>(id, gpt-3.5-turbo-16k-0613)</td>\n",
       "      <td>(created, 1685474247)</td>\n",
       "      <td>(object, model)</td>\n",
       "      <td>(owned_by, openai)</td>\n",
       "    </tr>\n",
       "  </tbody>\n",
       "</table>\n",
       "</div>"
      ],
      "text/plain": [
       "                                   id                created           object  \\\n",
       "0                      (id, dall-e-3)  (created, 1698785189)  (object, model)   \n",
       "1                     (id, whisper-1)  (created, 1677532384)  (object, model)   \n",
       "2                   (id, davinci-002)  (created, 1692634301)  (object, model)   \n",
       "3                      (id, dall-e-2)  (created, 1698798177)  (object, model)   \n",
       "4             (id, gpt-3.5-turbo-16k)  (created, 1683758102)  (object, model)   \n",
       "5                 (id, tts-1-hd-1106)  (created, 1699053533)  (object, model)   \n",
       "6             (id, gpt-4o-2024-05-13)  (created, 1715368132)  (object, model)   \n",
       "7                      (id, tts-1-hd)  (created, 1699046015)  (object, model)   \n",
       "8                        (id, gpt-4o)  (created, 1715367049)  (object, model)   \n",
       "9                         (id, gpt-4)  (created, 1687882411)  (object, model)   \n",
       "10                   (id, gpt-4-0613)  (created, 1686588896)  (object, model)   \n",
       "11           (id, gpt-3.5-turbo-1106)  (created, 1698959748)  (object, model)   \n",
       "12  (id, gpt-3.5-turbo-instruct-0914)  (created, 1694122472)  (object, model)   \n",
       "13       (id, gpt-3.5-turbo-instruct)  (created, 1692901427)  (object, model)   \n",
       "14           (id, gpt-4-1106-preview)  (created, 1698957206)  (object, model)   \n",
       "15                        (id, tts-1)  (created, 1681940951)  (object, model)   \n",
       "16           (id, gpt-3.5-turbo-0301)  (created, 1677649963)  (object, model)   \n",
       "17                  (id, babbage-002)  (created, 1692634615)  (object, model)   \n",
       "18           (id, gpt-4-0125-preview)  (created, 1706037612)  (object, model)   \n",
       "19       (id, gpt-4-turbo-2024-04-09)  (created, 1712601677)  (object, model)   \n",
       "20                   (id, tts-1-1106)  (created, 1699053241)  (object, model)   \n",
       "21          (id, gpt-4-turbo-preview)  (created, 1706037777)  (object, model)   \n",
       "22           (id, gpt-3.5-turbo-0125)  (created, 1706048358)  (object, model)   \n",
       "23       (id, text-embedding-3-large)  (created, 1705953180)  (object, model)   \n",
       "24                  (id, gpt-4-turbo)  (created, 1712361441)  (object, model)   \n",
       "25                (id, gpt-3.5-turbo)  (created, 1677610602)  (object, model)   \n",
       "26       (id, text-embedding-3-small)  (created, 1705948997)  (object, model)   \n",
       "27           (id, gpt-3.5-turbo-0613)  (created, 1686587434)  (object, model)   \n",
       "28       (id, text-embedding-ada-002)  (created, 1671217299)  (object, model)   \n",
       "29    (id, gpt-4-1106-vision-preview)  (created, 1711473033)  (object, model)   \n",
       "30         (id, gpt-4-vision-preview)  (created, 1698894917)  (object, model)   \n",
       "31       (id, gpt-3.5-turbo-16k-0613)  (created, 1685474247)  (object, model)   \n",
       "\n",
       "                       owned_by  \n",
       "0            (owned_by, system)  \n",
       "1   (owned_by, openai-internal)  \n",
       "2            (owned_by, system)  \n",
       "3            (owned_by, system)  \n",
       "4   (owned_by, openai-internal)  \n",
       "5            (owned_by, system)  \n",
       "6            (owned_by, system)  \n",
       "7            (owned_by, system)  \n",
       "8            (owned_by, system)  \n",
       "9            (owned_by, openai)  \n",
       "10           (owned_by, openai)  \n",
       "11           (owned_by, system)  \n",
       "12           (owned_by, system)  \n",
       "13           (owned_by, system)  \n",
       "14           (owned_by, system)  \n",
       "15  (owned_by, openai-internal)  \n",
       "16           (owned_by, openai)  \n",
       "17           (owned_by, system)  \n",
       "18           (owned_by, system)  \n",
       "19           (owned_by, system)  \n",
       "20           (owned_by, system)  \n",
       "21           (owned_by, system)  \n",
       "22           (owned_by, system)  \n",
       "23           (owned_by, system)  \n",
       "24           (owned_by, system)  \n",
       "25           (owned_by, openai)  \n",
       "26           (owned_by, system)  \n",
       "27           (owned_by, openai)  \n",
       "28  (owned_by, openai-internal)  \n",
       "29           (owned_by, system)  \n",
       "30           (owned_by, system)  \n",
       "31           (owned_by, openai)  "
      ]
     },
     "execution_count": 11,
     "metadata": {},
     "output_type": "execute_result"
    }
   ],
   "source": [
    "df_model"
   ]
  },
  {
   "cell_type": "markdown",
   "id": "d29bf811",
   "metadata": {},
   "source": [
    "# 4. Chat Completion API and Function Calling \n",
    "openai.Completion.create(): This method is used to generate completions or responses. You provide a series of messages as input and the API generates a model-generated message as output "
   ]
  },
  {
   "cell_type": "markdown",
   "id": "53f4b0c7-f9eb-47b5-802d-61eba880cbcb",
   "metadata": {},
   "source": [
    "# 3. OpenAI Playground\n",
    "\n",
    "## Parameters: \n",
    "### Model \n",
    "### Temperature \n",
    "### Maximum Length \n",
    "### Top P ranges from 0 to 1(default): \n",
    "Lower Top P means the model samples from narrower selection of yours makes the output less random and diverse since the probable tokens will be selected \n",
    "### Frequency Penalty: \n",
    "helps us avoid using the same words often \n",
    "### Retrieval-augmented generation (RAG):\n",
    "is an AI framework that retrives data from external sources of knowledge to improve the quality of responses. This NLP technique is commonly used to make LLMs more accurate and up to date. \n",
    "\n"
   ]
  },
  {
   "cell_type": "code",
   "execution_count": 12,
   "id": "878bf5a2",
   "metadata": {},
   "outputs": [],
   "source": [
    "from openai import OpenAI\n",
    "client = OpenAI(\n",
    "    # This is the default and can be omitted\n",
    "    api_key=mykey\n",
    ")"
   ]
  },
  {
   "cell_type": "code",
   "execution_count": 13,
   "id": "e69fac03-bb2b-4375-8c07-24a9e399f690",
   "metadata": {},
   "outputs": [],
   "source": [
    "\n",
    "# calling the API\n",
    "response = client.chat.completions.create(\n",
    "  model=\"gpt-4o\",\n",
    "  messages=[\n",
    "    {\n",
    "      \"role\": \"user\",\n",
    "      \"content\": \"WHo is the first president in Djibouti and ethipia?\"\n",
    "    }\n",
    "  ],\n",
    "    max_tokens = 150,\n",
    "    n = 3\n",
    ")"
   ]
  },
  {
   "cell_type": "code",
   "execution_count": 14,
   "id": "7311a1af-a7f9-4382-9add-50178cfa5c76",
   "metadata": {},
   "outputs": [
    {
     "data": {
      "text/plain": [
       "openai.types.chat.chat_completion.ChatCompletion"
      ]
     },
     "execution_count": 14,
     "metadata": {},
     "output_type": "execute_result"
    }
   ],
   "source": [
    "type(response)"
   ]
  },
  {
   "cell_type": "code",
   "execution_count": 15,
   "id": "91ef6cc9",
   "metadata": {},
   "outputs": [
    {
     "data": {
      "text/plain": [
       "\"The first president of Djibouti was Hassan Gouled Aptidon. He served as the head of state from 1977, when the country gained independence from France, until 1999.\\n\\nIn Ethiopia, the first president was Mengistu Haile Mariam. He assumed the role of president in 1987 when Ethiopia transitioned from a socialist state to the People's Democratic Republic of Ethiopia and held the position until 1991. Before becoming president, Mengistu had been the head of state as Chairman of the Derg, the military council that ruled Ethiopia after overthrowing Emperor Haile Selassie in 1974.\\n\\nIt is worth mentioning that before the establishment of these presidential positions, both countries had different forms of governance and leadership. In Ethiopia\""
      ]
     },
     "execution_count": 15,
     "metadata": {},
     "output_type": "execute_result"
    }
   ],
   "source": [
    "response.choices[0].message.content"
   ]
  },
  {
   "cell_type": "markdown",
   "id": "3fb8b099",
   "metadata": {},
   "source": [
    "## Let try to understand the different parameters inside the methods \n",
    "model = \" \"\n",
    "prompt = input prompt \n",
    "max_tokens = in how many number of tokens you want result \n",
    "temperature = for getting some creative output \n",
    "n = number of the output "
   ]
  },
  {
   "cell_type": "markdown",
   "id": "74a62960",
   "metadata": {},
   "source": [
    "https://openai.com/pricing"
   ]
  },
  {
   "cell_type": "markdown",
   "id": "05646f75",
   "metadata": {},
   "source": [
    "https://platform.openai.com/tokenizer"
   ]
  },
  {
   "cell_type": "markdown",
   "id": "fd6f52e3",
   "metadata": {},
   "source": [
    "# Part II : LangChain "
   ]
  },
  {
   "cell_type": "code",
   "execution_count": 16,
   "id": "0232c43c",
   "metadata": {},
   "outputs": [],
   "source": [
    "import langchain "
   ]
  },
  {
   "cell_type": "code",
   "execution_count": 17,
   "id": "d0cb548e",
   "metadata": {},
   "outputs": [],
   "source": [
    "student_description = \" my name is Abdoulfatah and currently pursuing a Master's degree at SFSU, specializing in data science and artificial intelligence. While my background is in computer science and I lacked prior knowledge in biology, I have discovered the synergy between biology and computer science, which holds immense potential for improving our world. This realization has ignited my excitement to collaborate with professionals from the field of biology and to learn from their expertise. I am enthusiastic about working in a team environment where there is mutual learning and growth. \""
   ]
  },
  {
   "cell_type": "code",
   "execution_count": 18,
   "id": "16b2b441",
   "metadata": {},
   "outputs": [
    {
     "data": {
      "text/plain": [
       "\" my name is Abdoulfatah and currently pursuing a Master's degree at SFSU, specializing in data science and artificial intelligence. While my background is in computer science and I lacked prior knowledge in biology, I have discovered the synergy between biology and computer science, which holds immense potential for improving our world. This realization has ignited my excitement to collaborate with professionals from the field of biology and to learn from their expertise. I am enthusiastic about working in a team environment where there is mutual learning and growth. \""
      ]
     },
     "execution_count": 18,
     "metadata": {},
     "output_type": "execute_result"
    }
   ],
   "source": [
    "student_description"
   ]
  },
  {
   "cell_type": "code",
   "execution_count": 19,
   "id": "9b2f8213",
   "metadata": {},
   "outputs": [],
   "source": [
    "# A simple prompt to extract information from \"studen_description\" in a JSON format \n",
    "\n",
    "prompt = f'''\n",
    "Please extract the following information from the given text and return it as a JSON object: \n",
    "\n",
    "name\n",
    "major \n",
    "school\n",
    "\n",
    "This is the body of text to extract the information from: \n",
    "{student_description}\n",
    "'''"
   ]
  },
  {
   "cell_type": "code",
   "execution_count": 20,
   "id": "457def03",
   "metadata": {},
   "outputs": [
    {
     "data": {
      "text/plain": [
       "\"\\nPlease extract the following information from the given text and return it as a JSON object: \\n\\nname\\nmajor \\nschool\\n\\nThis is the body of text to extract the information from: \\n my name is Abdoulfatah and currently pursuing a Master's degree at SFSU, specializing in data science and artificial intelligence. While my background is in computer science and I lacked prior knowledge in biology, I have discovered the synergy between biology and computer science, which holds immense potential for improving our world. This realization has ignited my excitement to collaborate with professionals from the field of biology and to learn from their expertise. I am enthusiastic about working in a team environment where there is mutual learning and growth. \\n\""
      ]
     },
     "execution_count": 20,
     "metadata": {},
     "output_type": "execute_result"
    }
   ],
   "source": [
    "prompt "
   ]
  },
  {
   "cell_type": "code",
   "execution_count": 54,
   "id": "488cb69d",
   "metadata": {},
   "outputs": [],
   "source": [
    "from openai import OpenAI\n",
    "client = OpenAI(api_key = mykey)"
   ]
  },
  {
   "cell_type": "code",
   "execution_count": 55,
   "id": "7a06d207",
   "metadata": {},
   "outputs": [
    {
     "data": {
      "text/plain": [
       "<openai.OpenAI at 0x128615270>"
      ]
     },
     "execution_count": 55,
     "metadata": {},
     "output_type": "execute_result"
    }
   ],
   "source": [
    "client"
   ]
  },
  {
   "cell_type": "code",
   "execution_count": 56,
   "id": "208bc6f5",
   "metadata": {},
   "outputs": [],
   "source": [
    "response = client.chat.completions.create(\n",
    "  model=\"gpt-4o\",\n",
    "  messages=[\n",
    "    {\n",
    "      \"role\": \"user\",\n",
    "      \"content\": prompt\n",
    "    }\n",
    "  ]\n",
    ")"
   ]
  },
  {
   "cell_type": "code",
   "execution_count": 57,
   "id": "c4552249",
   "metadata": {},
   "outputs": [
    {
     "data": {
      "text/plain": [
       "ChatCompletion(id='chatcmpl-9QgX7m7e0jHDtilWTCYHa9jOWRKlR', choices=[Choice(finish_reason='stop', index=0, logprobs=None, message=ChatCompletionMessage(content='```json\\n{\\n  \"name\": \"Abdoulfatah\",\\n  \"major\": \"Data science and artificial intelligence\",\\n  \"school\": \"SFSU\"\\n}\\n```', role='assistant', function_call=None, tool_calls=None))], created=1716147053, model='gpt-4o-2024-05-13', object='chat.completion', system_fingerprint='fp_729ea513f7', usage=CompletionUsage(completion_tokens=37, prompt_tokens=147, total_tokens=184))"
      ]
     },
     "execution_count": 57,
     "metadata": {},
     "output_type": "execute_result"
    }
   ],
   "source": [
    "response"
   ]
  },
  {
   "cell_type": "code",
   "execution_count": 62,
   "id": "d124e44a",
   "metadata": {},
   "outputs": [],
   "source": [
    "output = response.choices[0].message.content"
   ]
  },
  {
   "cell_type": "code",
   "execution_count": 63,
   "id": "74906a5f",
   "metadata": {},
   "outputs": [],
   "source": [
    "json_string = output.strip('```json').strip()"
   ]
  },
  {
   "cell_type": "code",
   "execution_count": 65,
   "id": "568eb5fb",
   "metadata": {
    "scrolled": true
   },
   "outputs": [
    {
     "data": {
      "text/plain": [
       "{'name': 'Abdoulfatah',\n",
       " 'major': 'Data science and artificial intelligence',\n",
       " 'school': 'SFSU'}"
      ]
     },
     "execution_count": 65,
     "metadata": {},
     "output_type": "execute_result"
    }
   ],
   "source": [
    "import json\n",
    "json.loads(json_string)"
   ]
  },
  {
   "cell_type": "markdown",
   "id": "5f69ddde",
   "metadata": {},
   "source": [
    "## Function Calling \n",
    "### Definition: Learn how to connect large language models to external tools "
   ]
  },
  {
   "cell_type": "code",
   "execution_count": 34,
   "id": "e0f6ef68",
   "metadata": {},
   "outputs": [],
   "source": [
    "student_custom_function  = [\n",
    "    {\n",
    "            \"name\": \"extract_student_info\",\n",
    "            \"description\": \"Get the student information from the body of the input text\",\n",
    "            \"parameters\": {\n",
    "                \"type\": \"object\",\n",
    "                \"properties\": {\n",
    "                    \"name\": {\n",
    "                        \"type\": \"string\",\n",
    "                        \"description\": \"Name of the person\",\n",
    "                    },\n",
    "                    \"school\": {\n",
    "                        \"type\":\"string\",\n",
    "                        \"description\":\"The college name.\"\n",
    "                    },\n",
    "                    \"major\":{\n",
    "                        \"major\":\"string\",\n",
    "                        \"description\":\"The major of the student.\"\n",
    "                }\n",
    "                \n",
    "            }\n",
    "        }\n",
    "    }\n",
    "]"
   ]
  },
  {
   "cell_type": "code",
   "execution_count": 36,
   "id": "0f9e388f",
   "metadata": {},
   "outputs": [],
   "source": [
    "response2 = client.chat.completions.create(\n",
    "    model=\"gpt-3.5-turbo\",\n",
    "    messages=[{\"role\": \"user\", \"content\": prompt}],\n",
    "    functions=student_custom_function\n",
    ")"
   ]
  },
  {
   "cell_type": "code",
   "execution_count": 37,
   "id": "3baf00c4",
   "metadata": {},
   "outputs": [
    {
     "data": {
      "text/plain": [
       "ChatCompletion(id='chatcmpl-9QgJT7RMW5hvFEf90tzf1vLCzkskd', choices=[Choice(finish_reason='function_call', index=0, logprobs=None, message=ChatCompletionMessage(content=None, role='assistant', function_call=FunctionCall(arguments='{\"name\":\"Abdoulfatah\",\"school\":\"SFSU\",\"major\":\"data science and artificial intelligence\"}', name='extract_student_info'), tool_calls=None))], created=1716146207, model='gpt-3.5-turbo-0125', object='chat.completion', system_fingerprint=None, usage=CompletionUsage(completion_tokens=34, prompt_tokens=219, total_tokens=253))"
      ]
     },
     "execution_count": 37,
     "metadata": {},
     "output_type": "execute_result"
    }
   ],
   "source": [
    "response2"
   ]
  },
  {
   "cell_type": "code",
   "execution_count": 48,
   "id": "0b3bee4a",
   "metadata": {},
   "outputs": [
    {
     "data": {
      "text/plain": [
       "ChatCompletionMessage(content=None, role='assistant', function_call=FunctionCall(arguments='{\"name\":\"Abdoulfatah\",\"school\":\"SFSU\",\"major\":\"data science and artificial intelligence\"}', name='extract_student_info'), tool_calls=None)"
      ]
     },
     "execution_count": 48,
     "metadata": {},
     "output_type": "execute_result"
    }
   ],
   "source": [
    "response2.choices[0].message"
   ]
  },
  {
   "cell_type": "code",
   "execution_count": 50,
   "id": "f852beeb",
   "metadata": {},
   "outputs": [
    {
     "data": {
      "text/plain": [
       "'{\"name\":\"Abdoulfatah\",\"school\":\"SFSU\",\"major\":\"data science and artificial intelligence\"}'"
      ]
     },
     "execution_count": 50,
     "metadata": {},
     "output_type": "execute_result"
    }
   ],
   "source": [
    "response2.choices[0].message.function_call.arguments"
   ]
  },
  {
   "cell_type": "code",
   "execution_count": 51,
   "id": "efef2cf7",
   "metadata": {},
   "outputs": [
    {
     "data": {
      "text/plain": [
       "{'name': 'Abdoulfatah',\n",
       " 'school': 'SFSU',\n",
       " 'major': 'data science and artificial intelligence'}"
      ]
     },
     "execution_count": 51,
     "metadata": {},
     "output_type": "execute_result"
    }
   ],
   "source": [
    "json.loads(response2.choices[0].message.function_call.arguments)"
   ]
  },
  {
   "cell_type": "code",
   "execution_count": 66,
   "id": "364f7486",
   "metadata": {},
   "outputs": [
    {
     "data": {
      "text/plain": [
       "str"
      ]
     },
     "execution_count": 66,
     "metadata": {},
     "output_type": "execute_result"
    }
   ],
   "source": [
    "type(response2.choices[0].message.function_call.arguments)"
   ]
  },
  {
   "cell_type": "code",
   "execution_count": 67,
   "id": "97c8864c",
   "metadata": {},
   "outputs": [
    {
     "data": {
      "text/plain": [
       "dict"
      ]
     },
     "execution_count": 67,
     "metadata": {},
     "output_type": "execute_result"
    }
   ],
   "source": [
    "type(json.loads(response2.choices[0].message.function_call.arguments))"
   ]
  },
  {
   "cell_type": "markdown",
   "id": "59ac7c30",
   "metadata": {},
   "source": [
    "## Advance of Function Calling "
   ]
  },
  {
   "cell_type": "code",
   "execution_count": 88,
   "id": "04dc60be",
   "metadata": {},
   "outputs": [
    {
     "data": {
      "text/plain": [
       "\" my name is Abdoulfatah and currently pursuing a Master's degree at SFSU, specializing in data science and artificial intelligence. While my background is in computer science and I lacked prior knowledge in biology, I have discovered the synergy between biology and computer science, which holds immense potential for improving our world. This realization has ignited my excitement to collaborate with professionals from the field of biology and to learn from their expertise. I am enthusiastic about working in a team environment where there is mutual learning and growth. \""
      ]
     },
     "execution_count": 88,
     "metadata": {},
     "output_type": "execute_result"
    }
   ],
   "source": [
    "student_description "
   ]
  },
  {
   "cell_type": "code",
   "execution_count": 89,
   "id": "f862df90",
   "metadata": {},
   "outputs": [],
   "source": [
    "student_description_two = \"Estafanos is currently master's student at Standford majoring Biology\""
   ]
  },
  {
   "cell_type": "code",
   "execution_count": 90,
   "id": "6fb5a29e",
   "metadata": {},
   "outputs": [],
   "source": [
    "student_description_three = \"Gian is currently master's student at sfsu majoring computer science\""
   ]
  },
  {
   "cell_type": "code",
   "execution_count": 91,
   "id": "c9850a27",
   "metadata": {},
   "outputs": [
    {
     "name": "stdout",
     "output_type": "stream",
     "text": [
      "{'name': 'Abdoulfatah', 'school': 'SFSU', 'major': 'data science and artificial intelligence'}\n",
      "{'name': 'Estafanos', 'school': 'Stanford', 'major': 'Biology'}\n",
      "{'name': 'Gian', 'school': 'SFSU', 'major': 'Computer Science'}\n"
     ]
    }
   ],
   "source": [
    "student_info = [student_description, student_description_two, student_description_three]\n",
    "for student in student_info:\n",
    "    response = client.chat.completions.create(\n",
    "    model=\"gpt-3.5-turbo\",\n",
    "    messages=[{\"role\": \"user\", \"content\": student}],\n",
    "    functions=student_custom_function,\n",
    "    function_call= 'auto')\n",
    "    \n",
    "    response = json.loads(response.choices[0].message.function_call.arguments)\n",
    "    print(response) #import csv "
   ]
  },
  {
   "cell_type": "markdown",
   "id": "c5a5c907",
   "metadata": {},
   "source": [
    "### Second Point: \n",
    "    . You can call multiple functions "
   ]
  },
  {
   "cell_type": "markdown",
   "id": "86aac9bf",
   "metadata": {},
   "source": [
    "# Assignment 1"
   ]
  },
  {
   "cell_type": "code",
   "execution_count": 93,
   "id": "a89f2c47",
   "metadata": {},
   "outputs": [],
   "source": [
    "Function_two = [\n",
    "    {\n",
    "            \"name\": \"extract_student_info\",\n",
    "            \"description\": \"Get the student information from the body of the input text\",\n",
    "            \"parameters\": {\n",
    "                \"type\": \"object\",\n",
    "                \"properties\": {\n",
    "                    \"name\": {\n",
    "                        \"type\": \"string\",\n",
    "                        \"description\": \"Name of the person\",\n",
    "                    },\n",
    "                    \"school\": {\n",
    "                        \"type\":\"string\",\n",
    "                        \"description\":\"The college name.\"\n",
    "                    },\n",
    "                    \"major\":{\n",
    "                        \"major\":\"string\",\n",
    "                        \"description\":\"The major of the student.\"\n",
    "                }\n",
    "                \n",
    "            }\n",
    "        }\n",
    "    }\n",
    "]"
   ]
  },
  {
   "cell_type": "code",
   "execution_count": null,
   "id": "0ea492b6",
   "metadata": {},
   "outputs": [],
   "source": [
    "functions = [function_two[0], student_custom_function[0]]\n",
    "for student in functions:\n",
    "    response = client.chat.completions.create(\n",
    "    model=\"gpt-3.5-turbo\",\n",
    "    messages=[{\"role\": \"user\", \"content\": student}],\n",
    "    functions=functions,\n",
    "    function_call= 'auto')\n",
    "    \n",
    "    response = json.loads(response.choices[0].message.function_call.arguments)\n",
    "    print(response) #import csv "
   ]
  },
  {
   "cell_type": "markdown",
   "id": "8f752974",
   "metadata": {},
   "source": [
    "## Adance Example of Funtion Calling "
   ]
  },
  {
   "cell_type": "code",
   "execution_count": 101,
   "id": "2885dd33",
   "metadata": {},
   "outputs": [],
   "source": [
    "## Asking question LLM \n",
    "response = client.chat.completions.create(\n",
    "    model=\"gpt-3.5-turbo\",\n",
    "    messages=[{\"role\": \"user\", \"content\": \"When is the nex flight from US to Djibouti\"}]\n",
    ")"
   ]
  },
  {
   "cell_type": "code",
   "execution_count": 102,
   "id": "ba4bc4e4",
   "metadata": {},
   "outputs": [
    {
     "data": {
      "text/plain": [
       "'The next flight from the US to Djibouti will depend on the airline and schedule. It is recommended to check with airlines that fly to Djibouti, such as Ethiopian Airlines, Turkish Airlines, or Qatar Airways, for their upcoming flight schedules from the US. Additionally, it is important to consider any travel restrictions or guidelines due to the COVID-19 pandemic that may impact flight availability.'"
      ]
     },
     "execution_count": 102,
     "metadata": {},
     "output_type": "execute_result"
    }
   ],
   "source": [
    "response.choices[0].message.content"
   ]
  },
  {
   "cell_type": "code",
   "execution_count": 103,
   "id": "5ad66fbc",
   "metadata": {},
   "outputs": [],
   "source": [
    "# Function calling containing required parameters it has to hvae required \n",
    "Function_description = [\n",
    "    {\n",
    "            \"name\": \"get_flight_info\",\n",
    "            \"description\": \"Get flight information btw two location\",\n",
    "            \"parameters\": {\n",
    "                \"type\": \"object\",\n",
    "                \"properties\": {\n",
    "                    \"loc_origin\": {\n",
    "                        \"type\": \"string\",\n",
    "                        \"description\": \"The departure airoport, e.g. SFO\",\n",
    "                    },\n",
    "                    \"loc_destination\": {\n",
    "                        \"type\":\"string\",\n",
    "                        \"description\":\"The destination airoport, e.g Dji.\"\n",
    "                   },\n",
    "            },\n",
    "                \"required\": [\"loc_origin\", \"loc_destination\"],\n",
    "        },\n",
    "    }\n",
    "]"
   ]
  },
  {
   "cell_type": "code",
   "execution_count": 99,
   "id": "f1133adb",
   "metadata": {},
   "outputs": [],
   "source": [
    "user_prompt = \"When's the next flight from US to Djibouti?\""
   ]
  },
  {
   "cell_type": "code",
   "execution_count": 104,
   "id": "0fca96ba",
   "metadata": {},
   "outputs": [],
   "source": [
    "response4 = client.chat.completions.create(\n",
    "    model=\"gpt-3.5-turbo\",\n",
    "    messages=[{\"role\": \"user\", \n",
    "               \"content\": user_prompt\n",
    "            }\n",
    "             ], \n",
    "    # Add Function calling \n",
    "    functions=Function_description,\n",
    "    function_call=\"auto\", # specify the function call \n",
    ")"
   ]
  },
  {
   "cell_type": "code",
   "execution_count": 105,
   "id": "c175b3f6",
   "metadata": {},
   "outputs": [
    {
     "data": {
      "text/plain": [
       "ChatCompletion(id='chatcmpl-9QiDfoJS65X72kE4vhHmEST01UAeG', choices=[Choice(finish_reason='function_call', index=0, logprobs=None, message=ChatCompletionMessage(content=None, role='assistant', function_call=FunctionCall(arguments='{\"loc_origin\":\"US\",\"loc_destination\":\"Djibouti\"}', name='get_flight_info'), tool_calls=None))], created=1716153535, model='gpt-3.5-turbo-0125', object='chat.completion', system_fingerprint=None, usage=CompletionUsage(completion_tokens=25, prompt_tokens=91, total_tokens=116))"
      ]
     },
     "execution_count": 105,
     "metadata": {},
     "output_type": "execute_result"
    }
   ],
   "source": [
    "response4"
   ]
  },
  {
   "cell_type": "code",
   "execution_count": 107,
   "id": "124f0394",
   "metadata": {},
   "outputs": [
    {
     "data": {
      "text/plain": [
       "ChatCompletionMessage(content=None, role='assistant', function_call=FunctionCall(arguments='{\"loc_origin\":\"US\",\"loc_destination\":\"Djibouti\"}', name='get_flight_info'), tool_calls=None)"
      ]
     },
     "execution_count": 107,
     "metadata": {},
     "output_type": "execute_result"
    }
   ],
   "source": [
    "response4.choices[0].message"
   ]
  },
  {
   "cell_type": "code",
   "execution_count": 108,
   "id": "e74d58d7",
   "metadata": {},
   "outputs": [
    {
     "data": {
      "text/plain": [
       "'{\"loc_origin\":\"US\",\"loc_destination\":\"Djibouti\"}'"
      ]
     },
     "execution_count": 108,
     "metadata": {},
     "output_type": "execute_result"
    }
   ],
   "source": [
    "response4.choices[0].message.function_call.arguments"
   ]
  },
  {
   "cell_type": "markdown",
   "id": "d9c3b2e8",
   "metadata": {},
   "source": [
    "## Assignment 2 call any API and extra different information \n",
    ". rapid API "
   ]
  },
  {
   "cell_type": "code",
   "execution_count": 132,
   "id": "1e878056",
   "metadata": {},
   "outputs": [],
   "source": [
    "# Create my own function is working as API \n",
    "from datetime import datetime, timedelta\n",
    "import json\n",
    "\n",
    "def get_flight_info(loc_origin, loc_destination):\n",
    "    \"\"\" Get flight information between two locations\"\"\"\n",
    "    \n",
    "    # example output return from an api or database \n",
    "    flight_info = {\n",
    "        \"loc_origin\": loc_origin,\n",
    "        \"loc_destination\": loc_destination,\n",
    "        \"datetime\": str(datetime.now() + timedelta(hours=2)),\n",
    "        \"airline\": \"Air Ethiopia\",\n",
    "        \"flight\": \"ETH643\"\n",
    "    }\n",
    "    return json.dumps(flight_info)"
   ]
  },
  {
   "cell_type": "code",
   "execution_count": 133,
   "id": "7801b093",
   "metadata": {},
   "outputs": [],
   "source": [
    "# Converting the argument to json \n",
    "params =json.loads(response4.choices[0].message.function_call.arguments)"
   ]
  },
  {
   "cell_type": "code",
   "execution_count": 134,
   "id": "284a54a7",
   "metadata": {},
   "outputs": [
    {
     "data": {
      "text/plain": [
       "{'loc_origin': 'US', 'loc_destination': 'Djibouti'}"
      ]
     },
     "execution_count": 134,
     "metadata": {},
     "output_type": "execute_result"
    }
   ],
   "source": [
    "params"
   ]
  },
  {
   "cell_type": "code",
   "execution_count": 135,
   "id": "5b74052d",
   "metadata": {},
   "outputs": [],
   "source": [
    "# Key location \n",
    "origin = json.loads(response4.choices[0].message.function_call.arguments).get(\"loc_origin\")\n",
    "destination = json.loads(response4.choices[0].message.function_call.arguments).get(\"loc_destination\")"
   ]
  },
  {
   "cell_type": "code",
   "execution_count": 136,
   "id": "398ff6a7",
   "metadata": {},
   "outputs": [
    {
     "data": {
      "text/plain": [
       "'get_flight_info'"
      ]
     },
     "execution_count": 136,
     "metadata": {},
     "output_type": "execute_result"
    }
   ],
   "source": [
    "# Flight details its string \n",
    "response4.choices[0].message.function_call.name"
   ]
  },
  {
   "cell_type": "markdown",
   "id": "3512c0b1",
   "metadata": {},
   "source": [
    "### Eval() it's just giving you the value of the function "
   ]
  },
  {
   "cell_type": "code",
   "execution_count": 137,
   "id": "c38c70cd",
   "metadata": {},
   "outputs": [],
   "source": [
    "# Getting the actual value: Eval just convert the origine form \n",
    "chosen_function=eval(response4.choices[0].message.function_call.name)"
   ]
  },
  {
   "cell_type": "code",
   "execution_count": 138,
   "id": "078e535c",
   "metadata": {},
   "outputs": [
    {
     "data": {
      "text/plain": [
       "<function __main__.get_flight_info(loc_origin, loc_destination)>"
      ]
     },
     "execution_count": 138,
     "metadata": {},
     "output_type": "execute_result"
    }
   ],
   "source": [
    "chosen_function"
   ]
  },
  {
   "cell_type": "code",
   "execution_count": 139,
   "id": "c7dcdc38",
   "metadata": {},
   "outputs": [
    {
     "name": "stdout",
     "output_type": "stream",
     "text": [
      "{\"loc_origin\": \"US\", \"loc_destination\": \"Djibouti\", \"datetime\": \"2024-05-19 16:41:27.475958\", \"airline\": \"Air Ethiopia\", \"flight\": \"ETH643\"}\n"
     ]
    }
   ],
   "source": [
    "# Getting detail of the plane \n",
    "flight = chosen_function(**params)\n",
    "print(flight)"
   ]
  },
  {
   "cell_type": "code",
   "execution_count": 141,
   "id": "d19541f2",
   "metadata": {},
   "outputs": [],
   "source": [
    "# Final Output \n",
    "response5 = client.chat.completions.create(\n",
    "    model=\"gpt-3.5-turbo\",\n",
    "    messages=[\n",
    "              {\"role\": \"user\", \"content\": user_prompt},\n",
    "              {\"role\":\"function\", \"name\":response4.choices[0].message.function_call.name, \"content\": flight}\n",
    "             ], \n",
    "    # Add Function calling \n",
    "    functions=Function_description,\n",
    "    function_call=\"auto\", # specify the function call \n",
    ")"
   ]
  },
  {
   "cell_type": "code",
   "execution_count": 142,
   "id": "67107030",
   "metadata": {},
   "outputs": [
    {
     "data": {
      "text/plain": [
       "ChatCompletion(id='chatcmpl-9QirlQMIE2y8xYRwJqZHosP0CJzG8', choices=[Choice(finish_reason='stop', index=0, logprobs=None, message=ChatCompletionMessage(content='The next flight from the US to Djibouti is on May 19, 2024, at 16:41. The flight is operated by Air Ethiopia with flight number ETH643.', role='assistant', function_call=None, tool_calls=None))], created=1716156021, model='gpt-3.5-turbo-0125', object='chat.completion', system_fingerprint=None, usage=CompletionUsage(completion_tokens=41, prompt_tokens=150, total_tokens=191))"
      ]
     },
     "execution_count": 142,
     "metadata": {},
     "output_type": "execute_result"
    }
   ],
   "source": [
    "response5"
   ]
  },
  {
   "cell_type": "code",
   "execution_count": 144,
   "id": "9af98f2f",
   "metadata": {},
   "outputs": [
    {
     "data": {
      "text/plain": [
       "'The next flight from the US to Djibouti is on May 19, 2024, at 16:41. The flight is operated by Air Ethiopia with flight number ETH643.'"
      ]
     },
     "execution_count": 144,
     "metadata": {},
     "output_type": "execute_result"
    }
   ],
   "source": [
    "response5.choices[0].message.content"
   ]
  },
  {
   "cell_type": "markdown",
   "id": "1b93a626",
   "metadata": {},
   "source": [
    "# LangChain \n"
   ]
  },
  {
   "cell_type": "code",
   "execution_count": 145,
   "id": "60fa2942",
   "metadata": {},
   "outputs": [],
   "source": [
    "import langchain"
   ]
  },
  {
   "cell_type": "code",
   "execution_count": 148,
   "id": "ca91e879",
   "metadata": {},
   "outputs": [],
   "source": [
    "from langchain.llms import OpenAI"
   ]
  },
  {
   "cell_type": "code",
   "execution_count": 159,
   "id": "513b5e10",
   "metadata": {},
   "outputs": [],
   "source": [
    "# Create object client \n",
    "client = OpenAI(openai_api_key = mykey)"
   ]
  },
  {
   "cell_type": "code",
   "execution_count": 163,
   "id": "02ee822c",
   "metadata": {},
   "outputs": [],
   "source": [
    "# zero shot prompting \n",
    "prompt2 = \"How many cities in Djibouti country??\""
   ]
  },
  {
   "cell_type": "code",
   "execution_count": 164,
   "id": "1c4b1dec",
   "metadata": {},
   "outputs": [
    {
     "name": "stdout",
     "output_type": "stream",
     "text": [
      "There are six cities in Djibouti: Djibouti City, Ali Sabieh, Dikhil, Arta, Tadjourah, and Obock.\n"
     ]
    }
   ],
   "source": [
    "print(client.predict(prompt2).strip())"
   ]
  },
  {
   "cell_type": "code",
   "execution_count": null,
   "id": "d08b0c5e",
   "metadata": {},
   "outputs": [],
   "source": []
  }
 ],
 "metadata": {
  "kernelspec": {
   "display_name": "Python (testingopenai)",
   "language": "python",
   "name": "testingopenai"
  },
  "language_info": {
   "codemirror_mode": {
    "name": "ipython",
    "version": 3
   },
   "file_extension": ".py",
   "mimetype": "text/x-python",
   "name": "python",
   "nbconvert_exporter": "python",
   "pygments_lexer": "ipython3",
   "version": "3.10.14"
  }
 },
 "nbformat": 4,
 "nbformat_minor": 5
}
